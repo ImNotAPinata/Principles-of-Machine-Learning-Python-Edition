{
 "cells": [
  {
   "cell_type": "code",
   "execution_count": 1,
   "metadata": {},
   "outputs": [],
   "source": [
    "import pandas as pd\n",
    "import matplotlib.pyplot as plt\n",
    "import seaborn as sns\n",
    "import numpy as np\n",
    "import numpy.random as nr\n",
    "import math\n",
    "\n",
    "from sklearn import preprocessing\n",
    "import sklearn.model_selection as ms\n",
    "from sklearn import linear_model\n",
    "import sklearn.metrics as sklm\n",
    "\n",
    "%matplotlib inline"
   ]
  },
  {
   "cell_type": "code",
   "execution_count": 2,
   "metadata": {},
   "outputs": [
    {
     "name": "stdout",
     "output_type": "stream",
     "text": [
      "(16749, 24)\n"
     ]
    }
   ],
   "source": [
    "AdvWorksTrain = pd.read_csv('AdvWorksCusts.csv')\n",
    "AW_AveMonthSpend = pd.read_csv('AW_AveMonthSpend.csv')\n",
    "\n",
    "AdvWorksTrain.columns = [str.replace('-', '_') for str in AdvWorksTrain.columns]\n",
    "\n",
    "for col in AdvWorksTrain.columns:\n",
    "    if AdvWorksTrain[col].dtype == object:\n",
    "        count = 0\n",
    "        count = [count + 1 for x in AdvWorksTrain[col] if x == '?']\n",
    "        #print(col + ' ' + str(sum(count)))    \n",
    "        \n",
    "AdvWorksTrain = pd.merge(AdvWorksTrain, AW_AveMonthSpend)        \n",
    "\n",
    "print(AdvWorksTrain.shape)"
   ]
  },
  {
   "cell_type": "code",
   "execution_count": 3,
   "metadata": {},
   "outputs": [
    {
     "data": {
      "text/html": [
       "<div>\n",
       "<style scoped>\n",
       "    .dataframe tbody tr th:only-of-type {\n",
       "        vertical-align: middle;\n",
       "    }\n",
       "\n",
       "    .dataframe tbody tr th {\n",
       "        vertical-align: top;\n",
       "    }\n",
       "\n",
       "    .dataframe thead th {\n",
       "        text-align: right;\n",
       "    }\n",
       "</style>\n",
       "<table border=\"1\" class=\"dataframe\">\n",
       "  <thead>\n",
       "    <tr style=\"text-align: right;\">\n",
       "      <th></th>\n",
       "      <th>CustomerID</th>\n",
       "      <th>FirstName</th>\n",
       "      <th>LastName</th>\n",
       "      <th>AddressLine1</th>\n",
       "      <th>City</th>\n",
       "      <th>StateProvinceName</th>\n",
       "      <th>CountryRegionName</th>\n",
       "      <th>PostalCode</th>\n",
       "      <th>PhoneNumber</th>\n",
       "      <th>BirthDate</th>\n",
       "      <th>Education</th>\n",
       "      <th>Occupation</th>\n",
       "      <th>Gender</th>\n",
       "      <th>MaritalStatus</th>\n",
       "      <th>HomeOwnerFlag</th>\n",
       "      <th>NumberCarsOwned</th>\n",
       "      <th>NumberChildrenAtHome</th>\n",
       "      <th>TotalChildren</th>\n",
       "      <th>YearlyIncome</th>\n",
       "      <th>AveMonthSpend</th>\n",
       "    </tr>\n",
       "  </thead>\n",
       "  <tbody>\n",
       "    <tr>\n",
       "      <th>0</th>\n",
       "      <td>11000</td>\n",
       "      <td>Jon</td>\n",
       "      <td>Yang</td>\n",
       "      <td>3761 N. 14th St</td>\n",
       "      <td>Rockhampton</td>\n",
       "      <td>Queensland</td>\n",
       "      <td>Australia</td>\n",
       "      <td>4700</td>\n",
       "      <td>1 (11) 500 555-0162</td>\n",
       "      <td>1966-04-08</td>\n",
       "      <td>Bachelors</td>\n",
       "      <td>Professional</td>\n",
       "      <td>M</td>\n",
       "      <td>M</td>\n",
       "      <td>1</td>\n",
       "      <td>0</td>\n",
       "      <td>0</td>\n",
       "      <td>2</td>\n",
       "      <td>137947</td>\n",
       "      <td>89</td>\n",
       "    </tr>\n",
       "    <tr>\n",
       "      <th>1</th>\n",
       "      <td>11001</td>\n",
       "      <td>Eugene</td>\n",
       "      <td>Huang</td>\n",
       "      <td>2243 W St.</td>\n",
       "      <td>Seaford</td>\n",
       "      <td>Victoria</td>\n",
       "      <td>Australia</td>\n",
       "      <td>3198</td>\n",
       "      <td>1 (11) 500 555-0110</td>\n",
       "      <td>1965-05-14</td>\n",
       "      <td>Bachelors</td>\n",
       "      <td>Professional</td>\n",
       "      <td>M</td>\n",
       "      <td>S</td>\n",
       "      <td>0</td>\n",
       "      <td>1</td>\n",
       "      <td>3</td>\n",
       "      <td>3</td>\n",
       "      <td>101141</td>\n",
       "      <td>117</td>\n",
       "    </tr>\n",
       "    <tr>\n",
       "      <th>2</th>\n",
       "      <td>11002</td>\n",
       "      <td>Ruben</td>\n",
       "      <td>Torres</td>\n",
       "      <td>5844 Linden Land</td>\n",
       "      <td>Hobart</td>\n",
       "      <td>Tasmania</td>\n",
       "      <td>Australia</td>\n",
       "      <td>7001</td>\n",
       "      <td>1 (11) 500 555-0184</td>\n",
       "      <td>1965-08-12</td>\n",
       "      <td>Bachelors</td>\n",
       "      <td>Professional</td>\n",
       "      <td>M</td>\n",
       "      <td>M</td>\n",
       "      <td>1</td>\n",
       "      <td>1</td>\n",
       "      <td>3</td>\n",
       "      <td>3</td>\n",
       "      <td>91945</td>\n",
       "      <td>123</td>\n",
       "    </tr>\n",
       "    <tr>\n",
       "      <th>3</th>\n",
       "      <td>11003</td>\n",
       "      <td>Christy</td>\n",
       "      <td>Zhu</td>\n",
       "      <td>1825 Village Pl.</td>\n",
       "      <td>North Ryde</td>\n",
       "      <td>New South Wales</td>\n",
       "      <td>Australia</td>\n",
       "      <td>2113</td>\n",
       "      <td>1 (11) 500 555-0162</td>\n",
       "      <td>1968-02-15</td>\n",
       "      <td>Bachelors</td>\n",
       "      <td>Professional</td>\n",
       "      <td>F</td>\n",
       "      <td>S</td>\n",
       "      <td>0</td>\n",
       "      <td>1</td>\n",
       "      <td>0</td>\n",
       "      <td>0</td>\n",
       "      <td>86688</td>\n",
       "      <td>50</td>\n",
       "    </tr>\n",
       "    <tr>\n",
       "      <th>4</th>\n",
       "      <td>11004</td>\n",
       "      <td>Elizabeth</td>\n",
       "      <td>Johnson</td>\n",
       "      <td>7553 Harness Circle</td>\n",
       "      <td>Wollongong</td>\n",
       "      <td>New South Wales</td>\n",
       "      <td>Australia</td>\n",
       "      <td>2500</td>\n",
       "      <td>1 (11) 500 555-0131</td>\n",
       "      <td>1968-08-08</td>\n",
       "      <td>Bachelors</td>\n",
       "      <td>Professional</td>\n",
       "      <td>F</td>\n",
       "      <td>S</td>\n",
       "      <td>1</td>\n",
       "      <td>4</td>\n",
       "      <td>5</td>\n",
       "      <td>5</td>\n",
       "      <td>92771</td>\n",
       "      <td>95</td>\n",
       "    </tr>\n",
       "  </tbody>\n",
       "</table>\n",
       "</div>"
      ],
      "text/plain": [
       "   CustomerID  FirstName LastName         AddressLine1         City  \\\n",
       "0       11000        Jon     Yang      3761 N. 14th St  Rockhampton   \n",
       "1       11001     Eugene    Huang           2243 W St.      Seaford   \n",
       "2       11002      Ruben   Torres     5844 Linden Land       Hobart   \n",
       "3       11003    Christy      Zhu     1825 Village Pl.   North Ryde   \n",
       "4       11004  Elizabeth  Johnson  7553 Harness Circle   Wollongong   \n",
       "\n",
       "  StateProvinceName CountryRegionName PostalCode          PhoneNumber  \\\n",
       "0        Queensland         Australia       4700  1 (11) 500 555-0162   \n",
       "1          Victoria         Australia       3198  1 (11) 500 555-0110   \n",
       "2          Tasmania         Australia       7001  1 (11) 500 555-0184   \n",
       "3   New South Wales         Australia       2113  1 (11) 500 555-0162   \n",
       "4   New South Wales         Australia       2500  1 (11) 500 555-0131   \n",
       "\n",
       "    BirthDate   Education    Occupation Gender MaritalStatus  HomeOwnerFlag  \\\n",
       "0  1966-04-08  Bachelors   Professional      M             M              1   \n",
       "1  1965-05-14  Bachelors   Professional      M             S              0   \n",
       "2  1965-08-12  Bachelors   Professional      M             M              1   \n",
       "3  1968-02-15  Bachelors   Professional      F             S              0   \n",
       "4  1968-08-08  Bachelors   Professional      F             S              1   \n",
       "\n",
       "   NumberCarsOwned  NumberChildrenAtHome  TotalChildren  YearlyIncome  \\\n",
       "0                0                     0              2        137947   \n",
       "1                1                     3              3        101141   \n",
       "2                1                     3              3         91945   \n",
       "3                1                     0              0         86688   \n",
       "4                4                     5              5         92771   \n",
       "\n",
       "   AveMonthSpend  \n",
       "0             89  \n",
       "1            117  \n",
       "2            123  \n",
       "3             50  \n",
       "4             95  "
      ]
     },
     "execution_count": 3,
     "metadata": {},
     "output_type": "execute_result"
    }
   ],
   "source": [
    "AdvWorksTrain.drop('Title', axis = 1, inplace = True)\n",
    "AdvWorksTrain.drop('Suffix', axis = 1, inplace = True)\n",
    "AdvWorksTrain.drop('AddressLine2', axis = 1, inplace = True)\n",
    "AdvWorksTrain.drop('MiddleName', axis = 1, inplace = True)\n",
    "\n",
    "AdvWorksTrain.head(5)"
   ]
  },
  {
   "cell_type": "code",
   "execution_count": 4,
   "metadata": {},
   "outputs": [
    {
     "name": "stdout",
     "output_type": "stream",
     "text": [
      "['Professional' 'Management' 'Skilled Manual' 'Clerical' 'Manual']\n",
      "(16749,)\n"
     ]
    }
   ],
   "source": [
    "print(AdvWorksTrain['Occupation'].unique())\n",
    "Features = AdvWorksTrain['Occupation']\n",
    "enc = preprocessing.LabelEncoder()\n",
    "enc.fit(Features)\n",
    "Features = enc.transform(Features)\n",
    "print(Features.shape)"
   ]
  },
  {
   "cell_type": "code",
   "execution_count": 5,
   "metadata": {},
   "outputs": [
    {
     "data": {
      "text/plain": [
       "array([[0., 0., 0., 1., 0.],\n",
       "       [0., 0., 0., 1., 0.],\n",
       "       [0., 0., 0., 1., 0.],\n",
       "       [0., 0., 0., 1., 0.],\n",
       "       [0., 0., 0., 1., 0.],\n",
       "       [0., 0., 0., 1., 0.],\n",
       "       [0., 0., 0., 1., 0.],\n",
       "       [0., 0., 0., 1., 0.],\n",
       "       [0., 0., 0., 1., 0.],\n",
       "       [0., 0., 0., 1., 0.]])"
      ]
     },
     "execution_count": 5,
     "metadata": {},
     "output_type": "execute_result"
    }
   ],
   "source": [
    "ohe = preprocessing.OneHotEncoder()\n",
    "encoded = ohe.fit(Features.reshape(-1,1))\n",
    "Features = encoded.transform(Features.reshape(-1,1)).toarray()\n",
    "Features[:10,:]"
   ]
  },
  {
   "cell_type": "code",
   "execution_count": 6,
   "metadata": {},
   "outputs": [
    {
     "name": "stdout",
     "output_type": "stream",
     "text": [
      "(16749, 5)\n"
     ]
    }
   ],
   "source": [
    "print(Features.shape)"
   ]
  },
  {
   "cell_type": "code",
   "execution_count": 7,
   "metadata": {},
   "outputs": [
    {
     "name": "stdout",
     "output_type": "stream",
     "text": [
      "(16749, 14)\n",
      "[[0. 0. 0. 1. 0. 0. 1. 1. 0. 1. 0. 0. 0. 0.]\n",
      " [0. 0. 0. 1. 0. 0. 1. 0. 1. 1. 0. 0. 0. 0.]]\n"
     ]
    }
   ],
   "source": [
    "def encode_string(cat_feature):\n",
    "    ## First encode the strings to numeric categories\n",
    "    enc = preprocessing.LabelEncoder()\n",
    "    enc.fit(cat_feature)\n",
    "    enc_cat_feature = enc.transform(cat_feature)\n",
    "    ## Now, apply one hot encoding\n",
    "    ohe = preprocessing.OneHotEncoder()\n",
    "    encoded = ohe.fit(enc_cat_feature.reshape(-1,1))\n",
    "    return encoded.transform(enc_cat_feature.reshape(-1,1)).toarray()\n",
    "    \n",
    "\n",
    "categorical_columns = ['Gender', 'MaritalStatus','Education']\n",
    "\n",
    "for col in categorical_columns:\n",
    "    temp = encode_string(AdvWorksTrain[col])\n",
    "    Features = np.concatenate([Features, temp], axis = 1)\n",
    "\n",
    "print(Features.shape)\n",
    "print(Features[:2, :]) "
   ]
  },
  {
   "cell_type": "code",
   "execution_count": 8,
   "metadata": {},
   "outputs": [
    {
     "data": {
      "text/plain": [
       "array([[0., 0., 0., 1., 0., 0., 1., 1., 0., 1., 0., 0., 0., 0., 1., 0.,\n",
       "        0., 2.],\n",
       "       [0., 0., 0., 1., 0., 0., 1., 0., 1., 1., 0., 0., 0., 0., 0., 1.,\n",
       "        3., 3.]])"
      ]
     },
     "execution_count": 8,
     "metadata": {},
     "output_type": "execute_result"
    }
   ],
   "source": [
    "Features = np.concatenate([Features, np.array(AdvWorksTrain[['HomeOwnerFlag', 'NumberCarsOwned',\n",
    "                                                           'NumberChildrenAtHome','TotalChildren']])], axis = 1)\n",
    "Features[:2,:]"
   ]
  },
  {
   "cell_type": "code",
   "execution_count": 9,
   "metadata": {},
   "outputs": [
    {
     "name": "stdout",
     "output_type": "stream",
     "text": [
      "(16749, 18)\n"
     ]
    }
   ],
   "source": [
    "print(Features.shape)"
   ]
  },
  {
   "cell_type": "code",
   "execution_count": 10,
   "metadata": {},
   "outputs": [],
   "source": [
    "## Randomly sample cases to create independent training and test data\n",
    "nr.seed(9988)\n",
    "labels = np.array(AdvWorksTrain['AveMonthSpend'])\n",
    "indx = range(Features.shape[0])\n",
    "indx = ms.train_test_split(indx, test_size = 80)\n",
    "x_train = Features[indx[0],:]\n",
    "y_train = np.ravel(labels[indx[0]])\n",
    "x_test = Features[indx[1],:]\n",
    "y_test = np.ravel(labels[indx[1]])"
   ]
  },
  {
   "cell_type": "code",
   "execution_count": 11,
   "metadata": {},
   "outputs": [
    {
     "name": "stdout",
     "output_type": "stream",
     "text": [
      "(16749, 18)\n"
     ]
    }
   ],
   "source": [
    "print(Features.shape)"
   ]
  },
  {
   "cell_type": "code",
   "execution_count": 12,
   "metadata": {
    "scrolled": true
   },
   "outputs": [
    {
     "name": "stdout",
     "output_type": "stream",
     "text": [
      "(16669, 18)\n"
     ]
    },
    {
     "data": {
      "text/plain": [
       "array([[ 0.00000000e+00,  0.00000000e+00,  0.00000000e+00,\n",
       "         1.00000000e+00,  0.00000000e+00,  0.00000000e+00,\n",
       "         1.00000000e+00,  1.00000000e+00,  0.00000000e+00,\n",
       "         1.00000000e+00,  0.00000000e+00,  0.00000000e+00,\n",
       "         0.00000000e+00,  0.00000000e+00,  1.00000000e+00,\n",
       "         3.00000000e+00, -6.55818007e-01, -1.19390248e+00],\n",
       "       [ 0.00000000e+00,  0.00000000e+00,  0.00000000e+00,\n",
       "         1.00000000e+00,  0.00000000e+00,  0.00000000e+00,\n",
       "         1.00000000e+00,  1.00000000e+00,  0.00000000e+00,\n",
       "         0.00000000e+00,  1.00000000e+00,  0.00000000e+00,\n",
       "         0.00000000e+00,  0.00000000e+00,  1.00000000e+00,\n",
       "         0.00000000e+00, -6.55818007e-01,  1.77517916e+00],\n",
       "       [ 0.00000000e+00,  0.00000000e+00,  0.00000000e+00,\n",
       "         1.00000000e+00,  0.00000000e+00,  0.00000000e+00,\n",
       "         1.00000000e+00,  0.00000000e+00,  1.00000000e+00,\n",
       "         0.00000000e+00,  0.00000000e+00,  1.00000000e+00,\n",
       "         0.00000000e+00,  0.00000000e+00,  1.00000000e+00,\n",
       "         2.00000000e+00, -6.55818007e-01,  1.18136283e+00],\n",
       "       [ 0.00000000e+00,  1.00000000e+00,  0.00000000e+00,\n",
       "         0.00000000e+00,  0.00000000e+00,  0.00000000e+00,\n",
       "         1.00000000e+00,  1.00000000e+00,  0.00000000e+00,\n",
       "         0.00000000e+00,  1.00000000e+00,  0.00000000e+00,\n",
       "         0.00000000e+00,  0.00000000e+00,  1.00000000e+00,\n",
       "         2.00000000e+00, -6.55818007e-01, -6.26982263e-03],\n",
       "       [ 0.00000000e+00,  0.00000000e+00,  0.00000000e+00,\n",
       "         0.00000000e+00,  1.00000000e+00,  0.00000000e+00,\n",
       "         1.00000000e+00,  0.00000000e+00,  1.00000000e+00,\n",
       "         0.00000000e+00,  1.00000000e+00,  0.00000000e+00,\n",
       "         0.00000000e+00,  0.00000000e+00,  1.00000000e+00,\n",
       "         0.00000000e+00, -6.55818007e-01, -1.19390248e+00],\n",
       "       [ 0.00000000e+00,  1.00000000e+00,  0.00000000e+00,\n",
       "         0.00000000e+00,  0.00000000e+00,  0.00000000e+00,\n",
       "         1.00000000e+00,  1.00000000e+00,  0.00000000e+00,\n",
       "         1.00000000e+00,  0.00000000e+00,  0.00000000e+00,\n",
       "         0.00000000e+00,  0.00000000e+00,  1.00000000e+00,\n",
       "         4.00000000e+00,  1.98026359e+00,  1.18136283e+00],\n",
       "       [ 0.00000000e+00,  1.00000000e+00,  0.00000000e+00,\n",
       "         0.00000000e+00,  0.00000000e+00,  1.00000000e+00,\n",
       "         0.00000000e+00,  1.00000000e+00,  0.00000000e+00,\n",
       "         1.00000000e+00,  0.00000000e+00,  0.00000000e+00,\n",
       "         0.00000000e+00,  0.00000000e+00,  1.00000000e+00,\n",
       "         2.00000000e+00, -6.55818007e-01, -6.00086149e-01],\n",
       "       [ 0.00000000e+00,  0.00000000e+00,  0.00000000e+00,\n",
       "         1.00000000e+00,  0.00000000e+00,  0.00000000e+00,\n",
       "         1.00000000e+00,  1.00000000e+00,  0.00000000e+00,\n",
       "         1.00000000e+00,  0.00000000e+00,  0.00000000e+00,\n",
       "         0.00000000e+00,  0.00000000e+00,  1.00000000e+00,\n",
       "         3.00000000e+00,  1.98026359e+00,  1.18136283e+00],\n",
       "       [ 0.00000000e+00,  0.00000000e+00,  1.00000000e+00,\n",
       "         0.00000000e+00,  0.00000000e+00,  0.00000000e+00,\n",
       "         1.00000000e+00,  1.00000000e+00,  0.00000000e+00,\n",
       "         1.00000000e+00,  0.00000000e+00,  0.00000000e+00,\n",
       "         0.00000000e+00,  0.00000000e+00,  1.00000000e+00,\n",
       "         0.00000000e+00, -6.55818007e-01, -1.19390248e+00],\n",
       "       [ 0.00000000e+00,  0.00000000e+00,  0.00000000e+00,\n",
       "         0.00000000e+00,  1.00000000e+00,  0.00000000e+00,\n",
       "         1.00000000e+00,  1.00000000e+00,  0.00000000e+00,\n",
       "         1.00000000e+00,  0.00000000e+00,  0.00000000e+00,\n",
       "         0.00000000e+00,  0.00000000e+00,  1.00000000e+00,\n",
       "         1.00000000e+00,  3.20239080e-03, -6.00086149e-01],\n",
       "       [ 0.00000000e+00,  0.00000000e+00,  1.00000000e+00,\n",
       "         0.00000000e+00,  0.00000000e+00,  0.00000000e+00,\n",
       "         1.00000000e+00,  0.00000000e+00,  1.00000000e+00,\n",
       "         0.00000000e+00,  0.00000000e+00,  1.00000000e+00,\n",
       "         0.00000000e+00,  0.00000000e+00,  1.00000000e+00,\n",
       "         0.00000000e+00,  3.20239080e-03, -6.00086149e-01],\n",
       "       [ 0.00000000e+00,  0.00000000e+00,  0.00000000e+00,\n",
       "         1.00000000e+00,  0.00000000e+00,  1.00000000e+00,\n",
       "         0.00000000e+00,  1.00000000e+00,  0.00000000e+00,\n",
       "         1.00000000e+00,  0.00000000e+00,  0.00000000e+00,\n",
       "         0.00000000e+00,  0.00000000e+00,  0.00000000e+00,\n",
       "         0.00000000e+00, -6.55818007e-01, -1.19390248e+00],\n",
       "       [ 0.00000000e+00,  0.00000000e+00,  0.00000000e+00,\n",
       "         1.00000000e+00,  0.00000000e+00,  1.00000000e+00,\n",
       "         0.00000000e+00,  0.00000000e+00,  1.00000000e+00,\n",
       "         0.00000000e+00,  0.00000000e+00,  0.00000000e+00,\n",
       "         1.00000000e+00,  0.00000000e+00,  1.00000000e+00,\n",
       "         1.00000000e+00, -6.55818007e-01, -1.19390248e+00],\n",
       "       [ 0.00000000e+00,  0.00000000e+00,  0.00000000e+00,\n",
       "         0.00000000e+00,  1.00000000e+00,  0.00000000e+00,\n",
       "         1.00000000e+00,  1.00000000e+00,  0.00000000e+00,\n",
       "         0.00000000e+00,  0.00000000e+00,  0.00000000e+00,\n",
       "         1.00000000e+00,  0.00000000e+00,  1.00000000e+00,\n",
       "         2.00000000e+00,  1.98026359e+00,  1.77517916e+00],\n",
       "       [ 0.00000000e+00,  0.00000000e+00,  0.00000000e+00,\n",
       "         1.00000000e+00,  0.00000000e+00,  1.00000000e+00,\n",
       "         0.00000000e+00,  1.00000000e+00,  0.00000000e+00,\n",
       "         0.00000000e+00,  1.00000000e+00,  0.00000000e+00,\n",
       "         0.00000000e+00,  0.00000000e+00,  0.00000000e+00,\n",
       "         0.00000000e+00,  6.62222789e-01,  5.87546504e-01],\n",
       "       [ 0.00000000e+00,  0.00000000e+00,  0.00000000e+00,\n",
       "         0.00000000e+00,  1.00000000e+00,  0.00000000e+00,\n",
       "         1.00000000e+00,  1.00000000e+00,  0.00000000e+00,\n",
       "         1.00000000e+00,  0.00000000e+00,  0.00000000e+00,\n",
       "         0.00000000e+00,  0.00000000e+00,  1.00000000e+00,\n",
       "         0.00000000e+00, -6.55818007e-01, -6.00086149e-01],\n",
       "       [ 0.00000000e+00,  0.00000000e+00,  0.00000000e+00,\n",
       "         0.00000000e+00,  1.00000000e+00,  0.00000000e+00,\n",
       "         1.00000000e+00,  1.00000000e+00,  0.00000000e+00,\n",
       "         0.00000000e+00,  0.00000000e+00,  1.00000000e+00,\n",
       "         0.00000000e+00,  0.00000000e+00,  0.00000000e+00,\n",
       "         2.00000000e+00, -6.55818007e-01, -1.19390248e+00],\n",
       "       [ 0.00000000e+00,  0.00000000e+00,  0.00000000e+00,\n",
       "         0.00000000e+00,  1.00000000e+00,  0.00000000e+00,\n",
       "         1.00000000e+00,  1.00000000e+00,  0.00000000e+00,\n",
       "         0.00000000e+00,  0.00000000e+00,  0.00000000e+00,\n",
       "         1.00000000e+00,  0.00000000e+00,  1.00000000e+00,\n",
       "         2.00000000e+00, -6.55818007e-01, -1.19390248e+00],\n",
       "       [ 0.00000000e+00,  0.00000000e+00,  0.00000000e+00,\n",
       "         1.00000000e+00,  0.00000000e+00,  0.00000000e+00,\n",
       "         1.00000000e+00,  1.00000000e+00,  0.00000000e+00,\n",
       "         0.00000000e+00,  0.00000000e+00,  0.00000000e+00,\n",
       "         1.00000000e+00,  0.00000000e+00,  1.00000000e+00,\n",
       "         2.00000000e+00,  3.20239080e-03,  1.77517916e+00]])"
      ]
     },
     "execution_count": 12,
     "metadata": {},
     "output_type": "execute_result"
    }
   ],
   "source": [
    "scaler = preprocessing.StandardScaler().fit(x_train[:,16:])\n",
    "x_train[:,16:] = scaler.transform(x_train[:,16:])\n",
    "x_test[:,16:] = scaler.transform(x_test[:,16:])\n",
    "print(x_train.shape)\n",
    "x_train[:19,:]"
   ]
  },
  {
   "cell_type": "code",
   "execution_count": 13,
   "metadata": {},
   "outputs": [
    {
     "data": {
      "text/plain": [
       "LinearRegression(copy_X=True, fit_intercept=False, n_jobs=1, normalize=False)"
      ]
     },
     "execution_count": 13,
     "metadata": {},
     "output_type": "execute_result"
    }
   ],
   "source": [
    "## define and fit the linear regression model\n",
    "lin_mod = linear_model.LinearRegression(fit_intercept = False)\n",
    "lin_mod.fit(x_train, y_train)"
   ]
  },
  {
   "cell_type": "code",
   "execution_count": 14,
   "metadata": {},
   "outputs": [
    {
     "name": "stdout",
     "output_type": "stream",
     "text": [
      "0.0\n",
      "[ 6.56891621e+12  6.56891621e+12  6.56891621e+12  6.56891621e+12\n",
      "  6.56891621e+12  1.16658066e+12  1.16658066e+12 -4.15593311e+13\n",
      " -4.15593311e+13  3.38238343e+13  3.38238343e+13  3.38238343e+13\n",
      "  3.38238343e+13  3.38238343e+13 -5.58778717e-01  4.04201361e-01\n",
      "  1.93579518e+01 -1.23949964e+00]\n"
     ]
    }
   ],
   "source": [
    "print(lin_mod.intercept_)\n",
    "print(lin_mod.coef_)"
   ]
  },
  {
   "cell_type": "code",
   "execution_count": 15,
   "metadata": {},
   "outputs": [
    {
     "name": "stdout",
     "output_type": "stream",
     "text": [
      "Mean Square Error      = 46.32322664173712\n",
      "Root Mean Square Error = 6.806116854839999\n",
      "Mean Absolute Error    = 5.183853424052047\n",
      "Median Absolute Error  = 3.982932098687286\n",
      "R^2                    = 0.923272887929014\n",
      "Adjusted R^2           = 0.8834338105075404\n"
     ]
    }
   ],
   "source": [
    "def print_metrics(y_true, y_predicted, n_parameters):\n",
    "    ## First compute R^2 and the adjusted R^2\n",
    "    r2 = sklm.r2_score(y_true, y_predicted)\n",
    "    r2_adj = r2 - (n_parameters - 1)/(y_true.shape[0] - n_parameters) * (1 - r2)\n",
    "    \n",
    "    ## Print the usual metrics and the R^2 values\n",
    "    print('Mean Square Error      = ' + str(sklm.mean_squared_error(y_true, y_predicted)))\n",
    "    print('Root Mean Square Error = ' + str(math.sqrt(sklm.mean_squared_error(y_true, y_predicted))))\n",
    "    print('Mean Absolute Error    = ' + str(sklm.mean_absolute_error(y_true, y_predicted)))\n",
    "    print('Median Absolute Error  = ' + str(sklm.median_absolute_error(y_true, y_predicted)))\n",
    "    print('R^2                    = ' + str(r2))\n",
    "    print('Adjusted R^2           = ' + str(r2_adj))\n",
    "   \n",
    "y_score = lin_mod.predict(x_test) \n",
    "print_metrics(y_test, y_score, 28)    "
   ]
  },
  {
   "cell_type": "code",
   "execution_count": 16,
   "metadata": {},
   "outputs": [
    {
     "data": {
      "image/png": "[encoded data removed]",
      "text/plain": [
       "<Figure size 432x288 with 1 Axes>"
      ]
     },
     "metadata": {
      "needs_background": "light"
     },
     "output_type": "display_data"
    }
   ],
   "source": [
    "def hist_resids(y_test, y_score):\n",
    "    ## first compute vector of residuals. \n",
    "    resids = np.subtract(y_test.reshape(-1,1), y_score.reshape(-1,1))\n",
    "    ## now make the residual plots\n",
    "    sns.distplot(resids)\n",
    "    plt.title('Histogram of residuals')\n",
    "    plt.xlabel('Residual value')\n",
    "    plt.ylabel('count')\n",
    "    \n",
    "hist_resids(y_test, y_score)    "
   ]
  },
  {
   "cell_type": "code",
   "execution_count": 17,
   "metadata": {},
   "outputs": [
    {
     "data": {
      "image/png": "[encoded data removed]",
      "text/plain": [
       "<Figure size 432x288 with 1 Axes>"
      ]
     },
     "metadata": {
      "needs_background": "light"
     },
     "output_type": "display_data"
    }
   ],
   "source": [
    "import scipy.stats as ss\n",
    "\n",
    "def resid_qq(y_test, y_score):\n",
    "    ## first compute vector of residuals. \n",
    "    resids = np.subtract(y_test.reshape(-1,1), y_score.reshape(-1,1))\n",
    "    ## now make the residual plots\n",
    "    ss.probplot(resids.flatten(), plot = plt)\n",
    "    plt.title('Residuals vs. predicted values')\n",
    "    plt.xlabel('Predicted values')\n",
    "    plt.ylabel('Residual')\n",
    "    \n",
    "resid_qq(y_test, y_score)   "
   ]
  },
  {
   "cell_type": "code",
   "execution_count": 18,
   "metadata": {},
   "outputs": [
    {
     "data": {
      "image/png": "[encoded data removed]",
      "text/plain": [
       "<Figure size 432x288 with 1 Axes>"
      ]
     },
     "metadata": {
      "needs_background": "light"
     },
     "output_type": "display_data"
    }
   ],
   "source": [
    "def resid_plot(y_test, y_score):\n",
    "    ## first compute vector of residuals. \n",
    "    resids = np.subtract(y_test.reshape(-1,1), y_score.reshape(-1,1))\n",
    "    ## now make the residual plots\n",
    "    sns.regplot(y_score, resids, fit_reg=False)\n",
    "    plt.title('Residuals vs. predicted values')\n",
    "    plt.xlabel('Predicted values')\n",
    "    plt.ylabel('Residual')\n",
    "\n",
    "resid_plot(y_test, y_score) "
   ]
  },
  {
   "cell_type": "code",
   "execution_count": 19,
   "metadata": {},
   "outputs": [],
   "source": [
    "AdvWorksTest = pd.read_csv('AW_test.csv') "
   ]
  },
  {
   "cell_type": "code",
   "execution_count": 20,
   "metadata": {},
   "outputs": [
    {
     "name": "stdout",
     "output_type": "stream",
     "text": [
      "(500, 19)\n"
     ]
    }
   ],
   "source": [
    "AdvWorksTest.drop('Title', axis = 1, inplace = True)\n",
    "AdvWorksTest.drop('Suffix', axis = 1, inplace = True)\n",
    "AdvWorksTest.drop('AddressLine2', axis = 1, inplace = True)\n",
    "AdvWorksTest.drop('MiddleName', axis = 1, inplace = True)\n",
    "\n",
    "#AdvWorksTest = pd.merge(AdvWorksTest, AW_BikeBuyer)  \n",
    "print(AdvWorksTest.shape)"
   ]
  },
  {
   "cell_type": "code",
   "execution_count": 21,
   "metadata": {},
   "outputs": [
    {
     "name": "stdout",
     "output_type": "stream",
     "text": [
      "['Management' 'Skilled Manual' 'Manual' 'Clerical' 'Professional']\n",
      "[1 4 1 4 2 0 4 3 2 4 3 3 4 3 4 3 4 4 1 0 2 4 3 4 3 1 4 3 3 1 4 1 1 1 3 0 1\n",
      " 4 3 4 3 2 4 0 4 4 2 4 1 0 1 3 1 2 3 4 3 4 4 0 0 0 3 3 2 4 3 1 0 3 3 1 3 0\n",
      " 0 3 0 4 3 3 4 4 0 1 0 0 3 1 2 1 1 4 1 4 2 3 2 4 4 3 1 1 4 1 3 3 2 1 3 1 3\n",
      " 4 3 0 4 3 0 4 4 3 4 3 3 0 4 3 0 4 2 1 4 2 4 3 3 1 3 4 3 3 3 4 1 4 3 3 4 2\n",
      " 2 4 4 0 0 4 1 0 3 0 3 3 4 4 4 4 3 1 1 3 3 0 0 3 4 1 0 0 1 4 2 3 2 4 3 1 2\n",
      " 3 4 2 4 0 4 1 3 1 1 4 3 3 1 1 3 4 2 4 3 3 1 3 1 0 4 2 4 4 4 3 4 3 4 0 4 4\n",
      " 1 4 2 3 3 3 2 4 0 1 4 2 3 2 2 4 3 0 3 3 0 2 3 0 0 0 1 3 3 4 2 1 1 3 4 4 1\n",
      " 4 0 4 1 4 0 3 4 3 1 3 3 0 1 0 3 0 3 3 2 4 3 3 4 2 2 2 4 0 1 2 0 3 4 3 0 1\n",
      " 3 2 0 2 3 4 1 4 1 0 3 1 3 1 0 3 3 3 4 4 4 3 3 3 0 2 4 3 1 2 4 3 4 3 1 4 0\n",
      " 4 3 1 3 4 3 4 3 4 4 3 0 2 3 2 3 1 1 0 1 4 1 1 4 3 2 3 1 3 4 3 0 2 0 3 0 4\n",
      " 3 0 4 2 3 3 4 0 0 1 4 3 2 1 3 3 1 2 4 4 4 1 0 4 4 4 3 2 2 4 1 3 1 3 4 3 4\n",
      " 4 4 0 3 0 1 4 0 4 3 1 1 4 1 0 3 2 1 4 0 2 2 2 0 3 3 3 0 0 3 1 4 1 4 1 3 1\n",
      " 2 3 4 2 0 4 2 4 3 4 1 4 3 4 4 3 1 0 3 2 3 3 4 3 4 3 3 3 3 0 2 4 0 1 1 4 1\n",
      " 4 1 0 0 2 1 3 1 1 0 3 1 3 3 4 1 1 3 4]\n"
     ]
    }
   ],
   "source": [
    "print(AdvWorksTest['Occupation'].unique())\n",
    "FeaturesTest = AdvWorksTest['Occupation']\n",
    "enc = preprocessing.LabelEncoder()\n",
    "enc.fit(FeaturesTest)\n",
    "FeaturesTest = enc.transform(FeaturesTest)\n",
    "print(FeaturesTest)"
   ]
  },
  {
   "cell_type": "code",
   "execution_count": 22,
   "metadata": {},
   "outputs": [
    {
     "data": {
      "text/plain": [
       "array([[0., 1., 0., 0., 0.],\n",
       "       [0., 0., 0., 0., 1.],\n",
       "       [0., 1., 0., 0., 0.],\n",
       "       [0., 0., 0., 0., 1.],\n",
       "       [0., 0., 1., 0., 0.],\n",
       "       [1., 0., 0., 0., 0.],\n",
       "       [0., 0., 0., 0., 1.],\n",
       "       [0., 0., 0., 1., 0.],\n",
       "       [0., 0., 1., 0., 0.],\n",
       "       [0., 0., 0., 0., 1.]])"
      ]
     },
     "execution_count": 22,
     "metadata": {},
     "output_type": "execute_result"
    }
   ],
   "source": [
    "ohe = preprocessing.OneHotEncoder()\n",
    "encoded = ohe.fit(FeaturesTest.reshape(-1,1))\n",
    "FeaturesTest = encoded.transform(FeaturesTest.reshape(-1,1)).toarray()\n",
    "FeaturesTest[:10,:]"
   ]
  },
  {
   "cell_type": "code",
   "execution_count": 23,
   "metadata": {},
   "outputs": [
    {
     "name": "stdout",
     "output_type": "stream",
     "text": [
      "(500, 5)\n"
     ]
    }
   ],
   "source": [
    "print(FeaturesTest.shape)"
   ]
  },
  {
   "cell_type": "code",
   "execution_count": 24,
   "metadata": {},
   "outputs": [
    {
     "name": "stdout",
     "output_type": "stream",
     "text": [
      "(500, 14)\n",
      "[[0. 1. 0. 0. 0. 1. 0. 0. 1. 1. 0. 0. 0. 0.]\n",
      " [0. 0. 0. 0. 1. 0. 1. 1. 0. 1. 0. 0. 0. 0.]]\n"
     ]
    }
   ],
   "source": [
    "def encode_string(cat_feature):\n",
    "    ## First encode the strings to numeric categories\n",
    "    enc = preprocessing.LabelEncoder()\n",
    "    enc.fit(cat_feature)\n",
    "    enc_cat_feature = enc.transform(cat_feature)\n",
    "    ## Now, apply one hot encoding\n",
    "    ohe = preprocessing.OneHotEncoder()\n",
    "    encoded = ohe.fit(enc_cat_feature.reshape(-1,1))\n",
    "    return encoded.transform(enc_cat_feature.reshape(-1,1)).toarray()\n",
    "    \n",
    "\n",
    "categorical_columns = ['Gender', 'MaritalStatus','Education']\n",
    "\n",
    "for col in categorical_columns:\n",
    "    temp = encode_string(AdvWorksTest[col])\n",
    "    FeaturesTest = np.concatenate([FeaturesTest, temp], axis = 1)\n",
    "\n",
    "print(FeaturesTest.shape)\n",
    "print(FeaturesTest[:2, :]) "
   ]
  },
  {
   "cell_type": "code",
   "execution_count": 25,
   "metadata": {},
   "outputs": [
    {
     "data": {
      "text/plain": [
       "array([[0., 1., 0., 0., 0., 1., 0., 0., 1., 1., 0., 0., 0., 0., 0., 2.,\n",
       "        0., 5.],\n",
       "       [0., 0., 0., 0., 1., 0., 1., 1., 0., 1., 0., 0., 0., 0., 1., 2.,\n",
       "        2., 4.]])"
      ]
     },
     "execution_count": 25,
     "metadata": {},
     "output_type": "execute_result"
    }
   ],
   "source": [
    "FeaturesTest = np.concatenate([FeaturesTest, np.array(AdvWorksTest[['HomeOwnerFlag', 'NumberCarsOwned',\n",
    "                                                           'NumberChildrenAtHome','TotalChildren']])], axis = 1)\n",
    "FeaturesTest[:2,:]"
   ]
  },
  {
   "cell_type": "code",
   "execution_count": 26,
   "metadata": {},
   "outputs": [
    {
     "name": "stdout",
     "output_type": "stream",
     "text": [
      "(500, 18)\n"
     ]
    }
   ],
   "source": [
    "print(FeaturesTest.shape)"
   ]
  },
  {
   "cell_type": "code",
   "execution_count": 27,
   "metadata": {},
   "outputs": [
    {
     "data": {
      "text/plain": [
       "array([ 52.51343931, 124.28134257,  61.8662202 ,  87.54981395,\n",
       "        82.85409185,  52.71362536, 118.41024882, 168.04509776,\n",
       "       145.18083995,  77.09403811,  71.98832754,  60.34400109,\n",
       "        85.41553197,  56.42804695,  53.14208984,  66.00390625,\n",
       "        87.54981395,  80.35693822, 149.19870618,  84.71664068,\n",
       "        78.98339844,  88.47925036, 184.75339368,  92.5078125 ,\n",
       "        60.36500181,  87.14258739, 108.24345217, 142.45472407,\n",
       "        89.4453125 ,  65.99096911,  89.3345606 ,  89.4609375 ,\n",
       "        61.54815951,  83.10718931, 137.34490245, 133.17664558,\n",
       "       186.22116712, 110.62626467,  64.578125  , 108.24345217,\n",
       "        58.3046875 , 108.11068596,  90.5703125 ,  56.296875  ,\n",
       "        77.09403811,  90.7265625 ,  83.4126856 , 108.41785652,\n",
       "       131.81991216,  82.48731395,  94.25415734, 137.0519337 ,\n",
       "        99.83706349,  76.25049291,  59.46582494,  88.88550036,\n",
       "        80.53520254,  85.25493592,  83.49512645,  79.78432831,\n",
       "        52.26440661,  80.4816964 , 111.68364004, 111.86390376,\n",
       "        61.53617678, 107.85926277,  89.703125  , 170.04802745,\n",
       "        78.328125  , 136.93865245, 116.32660942,  95.49365697,\n",
       "       112.64848379,  52.03662572,  77.15069251, 109.02991938,\n",
       "       152.10350048, 108.82020027,  60.73175326,  64.0625    ,\n",
       "       114.13562996,  83.61123493,  52.57837609,  89.859375  ,\n",
       "       103.17802249,  69.37114004,  92.1943452 , 144.62098152,\n",
       "       126.24598152,  63.62872128,  59.06916023, 131.05462156,\n",
       "        57.23364952,  50.53003856,  48.39257812, 168.49333995,\n",
       "        73.671875  ,  60.11987536,  53.02661827,  62.37359665,\n",
       "       152.95651868,  88.94068077,  57.77612536, 143.81629402,\n",
       "        92.1943452 , 128.56259257,  42.11328125,  51.95093931,\n",
       "        58.74804688,  66.42578125, 135.69915281,  54.24853747,\n",
       "       116.72895317,  74.05103234,  90.7265625 , 103.54301504,\n",
       "        46.62109375,  54.10498047,  48.95068822, 105.40922597,\n",
       "       162.21087156, 114.90619926,  85.2160714 ,  46.85328306,\n",
       "        85.25493592,  77.0254984 ,  74.60962609,  93.0703125 ,\n",
       "       108.12752935, 152.73426277,  51.4296875 , 113.59920904,\n",
       "       160.77263682,  58.74804688,  60.34400109, 152.80203684,\n",
       "       186.36179212,  88.93237536, 102.49932081,  94.67334447,\n",
       "        94.36035156,  54.26611791, 152.73426277,  54.10498047,\n",
       "       107.81898188,  77.0254984 ,  57.77612536,  47.60620349,\n",
       "        79.54199219,  82.578125  , 131.8878712 ,  84.20019531,\n",
       "        76.74649115,  88.88550036, 109.98296107,  47.1796875 ,\n",
       "        88.11939171,  83.58350072,  90.2578125 , 118.41785652,\n",
       "        50.547619  ,  84.85073456,  89.4908106 , 121.65243632,\n",
       "       157.40476087,  80.50767382, 118.7887653 , 120.57821757,\n",
       "        96.13012695,  47.1796875 ,  81.24781431, 110.90101313,\n",
       "        85.41553197,  94.25415734,  45.46363231,  42.90259484,\n",
       "       157.82272962,  85.41553197,  64.3313428 , 165.41399424,\n",
       "        47.65112536,  49.76709447, 155.4202009 ,  92.69775854,\n",
       "        42.51953125,  57.8984375 ,  89.89315435,  79.3142113 ,\n",
       "        57.77612536,  84.71664068,  86.22803197,  89.38550962,\n",
       "        94.36035156,  94.25415734, 119.1950153 ,  90.07602262,\n",
       "        58.89135974,  94.36035156,  60.62672056, 130.2238087 ,\n",
       "        80.53520254,  85.41553197,  41.7739281 ,  82.21709876,\n",
       "       165.99700437,  90.61572729, 155.07272962, 123.05478007,\n",
       "        86.42725072, 102.98987801,  88.93237536,  90.97392092,\n",
       "       157.6847462 ,  52.4614281 ,  53.70092773,  90.2578125 ,\n",
       "        57.7360863 ,  75.10527784,  87.1953125 ,  97.29813967,\n",
       "        55.48803711,  85.25493592, 137.8722462 ,  89.4908106 ,\n",
       "        75.12588105,  56.42804695,  80.94145254, 131.62615245,\n",
       "       107.7251856 , 110.62626467, 115.46239477,  63.10571984,\n",
       "        87.89453125,  78.75561755, 131.8501856 ,  78.98339844,\n",
       "       126.24598152, 107.83720217,  58.3046875 ,  83.58350072,\n",
       "       105.40922597,  76.19029564,  46.94800036,  72.9235863 ,\n",
       "        95.68685783,  54.0625    ,  83.41382067,  78.328125  ,\n",
       "       116.67469246, 105.81352285, 157.80710462,  76.68778811,\n",
       "        76.96224846,  63.10571984, 168.05681651, 119.78504402,\n",
       "        54.26611791,  80.91553197, 163.1456837 ,  91.125     ,\n",
       "        52.43506322,  82.578125  , 116.33832817,  84.85073456,\n",
       "       121.3578419 ,  94.54159185,  49.76709447,  89.8515625 ,\n",
       "       126.50252935,  78.46245326, 150.10788587,  50.98022461,\n",
       "        93.10400854,  77.30532904, 129.39974846,  53.50390625,\n",
       "       167.1937794 ,  55.30615697, 163.29147962,  87.49023438,\n",
       "       112.08989004,  74.950796  ,  90.171875  ,  73.671875  ,\n",
       "        76.5767481 ,  42.51953125,  84.69609803,  52.26440661,\n",
       "        57.87768786,  90.56767092,  82.48731395,  64.76440661,\n",
       "       108.24345217, 188.55319837,  84.65332031, 126.90877935,\n",
       "       167.6847462 ,  48.39257812,  77.30532904,  46.41162572,\n",
       "        58.3046875 ,  77.09403811, 147.26453621, 124.83993632,\n",
       "        89.38550962,  48.1875    , 131.62615245, 188.56491712,\n",
       "       165.99700437,  95.35409185,  48.63452148, 155.0139509 ,\n",
       "       185.80319837,  59.80640806,  86.78662572,  56.74511719,\n",
       "        50.87109375,  76.19029564, 168.6456837 ,  93.09472656,\n",
       "        81.18530505,  78.52100072,  73.62406972,  50.27906431,\n",
       "       168.46306651,  71.40738213,  51.90259021,  90.6640625 ,\n",
       "        77.09403811,  58.3046875 ,  92.25488281,  91.26831286,\n",
       "       151.69929912,  77.49247561,  91.89853007, 156.03757337,\n",
       "        92.2421875 ,  51.4296875 , 149.52430183,  48.39209447,\n",
       "       111.68364004,  88.47925036,  84.69609803,  87.65112536,\n",
       "        83.86987536,  77.96631322,  90.03979724,  73.671875  ,\n",
       "       155.4202009 , 121.58582527,  84.94267092,  97.85673342,\n",
       "        53.19043895,  84.62899882,  58.23591059,  90.45678942,\n",
       "       107.85926277,  71.1472654 ,  73.11328125,  63.65625   ,\n",
       "       149.19870618,  89.4453125 ,  86.85181359,  97.77725135,\n",
       "        78.328125  ,  83.25838872,  48.1875    ,  58.90704623,\n",
       "        53.50390625,  79.47782717, 180.33542493,  55.05737536,\n",
       "       111.18876467,  92.84013186, 116.72895317,  57.06518786,\n",
       "        85.25493592,  55.05737536,  45.59668432, 178.07663587,\n",
       "       120.4829981 , 111.45960688,  41.96484375,  93.0146577 ,\n",
       "        58.3046875 , 103.54301504, 131.81991216,  62.09477053,\n",
       "       108.24345217,  79.54053197,  86.87281431,  64.1875    ,\n",
       "       157.7316212 ,  87.89453125,  52.4614281 ,  88.47925036,\n",
       "        89.49316406,  49.8515625 ,  73.21289989,  84.17603234,\n",
       "        64.34521947, 168.24333995, 131.81991216, 104.5474142 ,\n",
       "        89.4908106 ,  95.91284411, 145.84363777,  56.74511719,\n",
       "        89.48706286,  51.33887645, 129.80209221,  74.60962609,\n",
       "        83.10718931,  77.09403811, 115.05819341,  87.89453125,\n",
       "       106.21781972, 188.56491712, 107.35503138,  84.29189667,\n",
       "        92.69775854,  43.46118859,  65.38671875,  78.75561755,\n",
       "        62.78765915,  57.30371094,  51.33887645,  73.671875  ,\n",
       "        72.44921875,  72.88159411,  48.07568359, 129.52743632,\n",
       "       112.08989004, 147.51820063, 152.25813701, 100.5205541 ,\n",
       "        92.46103007,  92.71884257,  85.41553197, 121.17957527,\n",
       "        57.77612536, 149.14694837,  94.67334447, 135.0220606 ,\n",
       "        47.60620349,  89.33886719,  60.11987536, 150.65251963,\n",
       "        78.77734375,  55.48803711,  67.8974702 , 138.60145027,\n",
       "        93.43384484,  60.11987536,  89.38550962,  74.43656972,\n",
       "        90.03979724,  84.29189667,  57.77612536, 112.08989004,\n",
       "        93.0146577 ,  48.63452148, 123.93197502,  48.39257812,\n",
       "       149.54538587, 112.09754402,  74.84281972, 106.77641347,\n",
       "        50.53003856,  80.53520254,  59.109375  ,  90.95484556,\n",
       "       102.3035154 ,  52.71362536,  75.12588105,  84.69609803,\n",
       "        78.09643786, 171.8175587 , 163.1456837 , 162.21087156,\n",
       "       146.24842756,  88.93237536, 152.80203684,  81.5703125 ,\n",
       "        83.86987536,  40.25781945, 186.22116712,  66.00390625,\n",
       "       111.25102285, 119.75379402, 102.83509285, 149.54538587,\n",
       "       168.46306651,  97.82040507,  64.08350072,  56.04663086,\n",
       "       132.04314463, 113.87879402,  61.17725072,  46.47168895])"
      ]
     },
     "execution_count": 27,
     "metadata": {},
     "output_type": "execute_result"
    }
   ],
   "source": [
    "lin_mod.predict(FeaturesTest) "
   ]
  },
  {
   "cell_type": "code",
   "execution_count": null,
   "metadata": {},
   "outputs": [],
   "source": []
  }
 ],
 "metadata": {
  "kernelspec": {
   "display_name": "Python 3.6",
   "language": "python",
   "name": "python36"
  },
  "language_info": {
   "codemirror_mode": {
    "name": "ipython",
    "version": 3
   },
   "file_extension": ".py",
   "mimetype": "text/x-python",
   "name": "python",
   "nbconvert_exporter": "python",
   "pygments_lexer": "ipython3",
   "version": "3.6.6"
  }
 },
 "nbformat": 4,
 "nbformat_minor": 2
}
