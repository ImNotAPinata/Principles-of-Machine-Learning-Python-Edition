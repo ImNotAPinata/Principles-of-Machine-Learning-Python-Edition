{
 "cells": [
  {
   "cell_type": "code",
   "execution_count": 1,
   "metadata": {},
   "outputs": [],
   "source": [
    "import pandas as pd\n",
    "import matplotlib.pyplot as plt\n",
    "import seaborn as sns\n",
    "import numpy as np\n",
    "import numpy.random as nr\n",
    "import math\n",
    "\n",
    "from sklearn import preprocessing\n",
    "import sklearn.model_selection as ms\n",
    "from sklearn import linear_model\n",
    "import sklearn.metrics as sklm\n",
    "\n",
    "%matplotlib inline"
   ]
  },
  {
   "cell_type": "code",
   "execution_count": 2,
   "metadata": {},
   "outputs": [
    {
     "name": "stdout",
     "output_type": "stream",
     "text": [
      "Title 16431\n",
      "FirstName 0\n",
      "MiddleName 6985\n",
      "LastName 0\n",
      "Suffix 16517\n",
      "AddressLine1 0\n",
      "AddressLine2 16243\n",
      "City 0\n",
      "StateProvinceName 0\n",
      "CountryRegionName 0\n",
      "PostalCode 0\n",
      "PhoneNumber 0\n",
      "BirthDate 0\n",
      "Education 0\n",
      "Occupation 0\n",
      "Gender 0\n",
      "MaritalStatus 0\n"
     ]
    },
    {
     "data": {
      "text/plain": [
       "(16519, 23)"
      ]
     },
     "execution_count": 2,
     "metadata": {},
     "output_type": "execute_result"
    }
   ],
   "source": [
    "AdvWorksTest = pd.read_csv('AdvWorksCusts.csv')\n",
    "AdvWorksTest.columns = [str.replace('-', '_') for str in AdvWorksTest.columns]\n",
    "\n",
    "for col in AdvWorksTest.columns:\n",
    "    if AdvWorksTest[col].dtype == object:\n",
    "        count = 0\n",
    "        count = [count + 1 for x in AdvWorksTest[col] if x == '?']\n",
    "        print(col + ' ' + str(sum(count)))\n",
    "        \n",
    "AdvWorksTest.shape      "
   ]
  },
  {
   "cell_type": "code",
   "execution_count": 3,
   "metadata": {},
   "outputs": [
    {
     "data": {
      "text/plain": [
       "(16519, 19)"
      ]
     },
     "execution_count": 3,
     "metadata": {},
     "output_type": "execute_result"
    }
   ],
   "source": [
    "AdvWorksTest.drop('Title', axis = 1, inplace = True)\n",
    "AdvWorksTest.drop('Suffix', axis = 1, inplace = True)\n",
    "AdvWorksTest.drop('AddressLine2', axis = 1, inplace = True)\n",
    "AdvWorksTest.drop('MiddleName', axis = 1, inplace = True)\n",
    "\n",
    "AdvWorksTest.shape "
   ]
  },
  {
   "cell_type": "code",
   "execution_count": 4,
   "metadata": {},
   "outputs": [
    {
     "name": "stdout",
     "output_type": "stream",
     "text": [
      "(17209, 21)\n"
     ]
    }
   ],
   "source": [
    "AW_AveMonthSpend = pd.read_csv('AW_AveMonthSpend.csv')\n",
    "AW_BikeBuyer = pd.read_csv('AW_BikeBuyer.csv')\n",
    "\n",
    "dftemp = pd.merge(AdvWorksTest, AW_AveMonthSpend)\n",
    "AdvWorks = pd.merge(dftemp, AW_BikeBuyer)\n",
    "\n",
    "print(AdvWorks.shape)"
   ]
  },
  {
   "cell_type": "code",
   "execution_count": 5,
   "metadata": {},
   "outputs": [
    {
     "name": "stdout",
     "output_type": "stream",
     "text": [
      "(17209, 22)\n"
     ]
    }
   ],
   "source": [
    "from datetime import datetime\n",
    "\n",
    "def age_customer(dl):\n",
    "    Db = datetime.strptime(dl, '%Y-%m-%d')\n",
    "    dl = datetime.strptime('1998-01-01', '%Y-%m-%d').year - Db.year\n",
    " \n",
    "    if dl > 45: return 'Above 55'\n",
    "    elif 45 < dl <= 55: return 'Between 45 and 55'\n",
    "    elif 25 < dl <= 45: return 'Between 25 and 45'\n",
    "    elif 0 < dl <= 25: return 'Under 25'\n",
    "    else: return 'None'\n",
    "        \n",
    "AdvWorks['GroupCustomers']  = AdvWorks.BirthDate.apply (lambda row: age_customer(row))   \n",
    "\n",
    "print(AdvWorks.shape)"
   ]
  },
  {
   "cell_type": "code",
   "execution_count": 6,
   "metadata": {},
   "outputs": [
    {
     "name": "stdout",
     "output_type": "stream",
     "text": [
      "           CustomerID\n",
      "BikeBuyer            \n",
      "0               11504\n",
      "1                5705\n"
     ]
    }
   ],
   "source": [
    "AdvWork_counts = AdvWorks[['CustomerID','BikeBuyer']].groupby(['BikeBuyer']).count()\n",
    "print(AdvWork_counts) "
   ]
  },
  {
   "cell_type": "code",
   "execution_count": 7,
   "metadata": {},
   "outputs": [
    {
     "name": "stdout",
     "output_type": "stream",
     "text": [
      "(17209, 10)\n",
      "(16404,)\n"
     ]
    },
    {
     "data": {
      "text/html": [
       "<div>\n",
       "<style scoped>\n",
       "    .dataframe tbody tr th:only-of-type {\n",
       "        vertical-align: middle;\n",
       "    }\n",
       "\n",
       "    .dataframe tbody tr th {\n",
       "        vertical-align: top;\n",
       "    }\n",
       "\n",
       "    .dataframe thead th {\n",
       "        text-align: right;\n",
       "    }\n",
       "</style>\n",
       "<table border=\"1\" class=\"dataframe\">\n",
       "  <thead>\n",
       "    <tr style=\"text-align: right;\">\n",
       "      <th></th>\n",
       "      <th>CustomerID</th>\n",
       "      <th>Occupation</th>\n",
       "      <th>Gender</th>\n",
       "      <th>MaritalStatus</th>\n",
       "      <th>NumberCarsOwned</th>\n",
       "      <th>NumberChildrenAtHome</th>\n",
       "      <th>YearlyIncome</th>\n",
       "      <th>GroupCustomers</th>\n",
       "      <th>TotalChildren</th>\n",
       "      <th>BikeBuyer</th>\n",
       "    </tr>\n",
       "  </thead>\n",
       "  <tbody>\n",
       "    <tr>\n",
       "      <th>0</th>\n",
       "      <td>11000</td>\n",
       "      <td>Professional</td>\n",
       "      <td>M</td>\n",
       "      <td>M</td>\n",
       "      <td>0</td>\n",
       "      <td>0</td>\n",
       "      <td>137947</td>\n",
       "      <td>Between 25 and 45</td>\n",
       "      <td>2</td>\n",
       "      <td>0</td>\n",
       "    </tr>\n",
       "    <tr>\n",
       "      <th>1</th>\n",
       "      <td>11001</td>\n",
       "      <td>Professional</td>\n",
       "      <td>M</td>\n",
       "      <td>S</td>\n",
       "      <td>1</td>\n",
       "      <td>3</td>\n",
       "      <td>101141</td>\n",
       "      <td>Between 25 and 45</td>\n",
       "      <td>3</td>\n",
       "      <td>1</td>\n",
       "    </tr>\n",
       "    <tr>\n",
       "      <th>2</th>\n",
       "      <td>11002</td>\n",
       "      <td>Professional</td>\n",
       "      <td>M</td>\n",
       "      <td>M</td>\n",
       "      <td>1</td>\n",
       "      <td>3</td>\n",
       "      <td>91945</td>\n",
       "      <td>Between 25 and 45</td>\n",
       "      <td>3</td>\n",
       "      <td>0</td>\n",
       "    </tr>\n",
       "    <tr>\n",
       "      <th>3</th>\n",
       "      <td>11003</td>\n",
       "      <td>Professional</td>\n",
       "      <td>F</td>\n",
       "      <td>S</td>\n",
       "      <td>1</td>\n",
       "      <td>0</td>\n",
       "      <td>86688</td>\n",
       "      <td>Between 25 and 45</td>\n",
       "      <td>0</td>\n",
       "      <td>0</td>\n",
       "    </tr>\n",
       "    <tr>\n",
       "      <th>4</th>\n",
       "      <td>11004</td>\n",
       "      <td>Professional</td>\n",
       "      <td>F</td>\n",
       "      <td>S</td>\n",
       "      <td>4</td>\n",
       "      <td>5</td>\n",
       "      <td>92771</td>\n",
       "      <td>Between 25 and 45</td>\n",
       "      <td>5</td>\n",
       "      <td>1</td>\n",
       "    </tr>\n",
       "  </tbody>\n",
       "</table>\n",
       "</div>"
      ],
      "text/plain": [
       "   CustomerID    Occupation Gender MaritalStatus  NumberCarsOwned  \\\n",
       "0       11000  Professional      M             M                0   \n",
       "1       11001  Professional      M             S                1   \n",
       "2       11002  Professional      M             M                1   \n",
       "3       11003  Professional      F             S                1   \n",
       "4       11004  Professional      F             S                4   \n",
       "\n",
       "   NumberChildrenAtHome  YearlyIncome     GroupCustomers  TotalChildren  \\\n",
       "0                     0        137947  Between 25 and 45              2   \n",
       "1                     3        101141  Between 25 and 45              3   \n",
       "2                     3         91945  Between 25 and 45              3   \n",
       "3                     0         86688  Between 25 and 45              0   \n",
       "4                     5         92771  Between 25 and 45              5   \n",
       "\n",
       "   BikeBuyer  \n",
       "0          0  \n",
       "1          1  \n",
       "2          0  \n",
       "3          0  \n",
       "4          1  "
      ]
     },
     "execution_count": 7,
     "metadata": {},
     "output_type": "execute_result"
    }
   ],
   "source": [
    "AdvWork_True = AdvWorks[['CustomerID','Occupation','Gender','MaritalStatus'\n",
    "                         ,'NumberCarsOwned','NumberChildrenAtHome','YearlyIncome'\n",
    "                         ,'GroupCustomers','TotalChildren','BikeBuyer']]\n",
    "\n",
    "print(AdvWork_True.shape)\n",
    "print(AdvWork_True.CustomerID.unique().shape)\n",
    "AdvWork_True.head(5)"
   ]
  },
  {
   "cell_type": "code",
   "execution_count": 8,
   "metadata": {},
   "outputs": [
    {
     "name": "stdout",
     "output_type": "stream",
     "text": [
      "Occupation\n",
      "Clerical          2751\n",
      "Management        2830\n",
      "Manual            2192\n",
      "Professional      5209\n",
      "Skilled Manual    4227\n",
      "dtype: int64\n",
      "Gender\n",
      "F    8492\n",
      "M    8717\n",
      "dtype: int64\n",
      "MaritalStatus\n",
      "M    9307\n",
      "S    7902\n",
      "dtype: int64\n",
      "NumberCarsOwned\n",
      "0    3901\n",
      "1    4556\n",
      "2    6056\n",
      "3    1499\n",
      "4    1197\n",
      "dtype: int64\n",
      "NumberChildrenAtHome\n",
      "0    10386\n",
      "1     2299\n",
      "2     1504\n",
      "3     1120\n",
      "4     1006\n",
      "5      894\n",
      "dtype: int64\n",
      "YearlyIncome\n",
      "9482      1\n",
      "10012     1\n",
      "10030     1\n",
      "10036     1\n",
      "10055     1\n",
      "10063     1\n",
      "10117     1\n",
      "10134     1\n",
      "10135     1\n",
      "10156     1\n",
      "10165     1\n",
      "10180     1\n",
      "10181     1\n",
      "10196     1\n",
      "10207     1\n",
      "10227     1\n",
      "10279     1\n",
      "10317     1\n",
      "10326     1\n",
      "10391     1\n",
      "10404     1\n",
      "10414     1\n",
      "10424     1\n",
      "10452     1\n",
      "10454     1\n",
      "10470     1\n",
      "10471     1\n",
      "10500     1\n",
      "10502     1\n",
      "10506     1\n",
      "         ..\n",
      "186731    1\n",
      "186839    1\n",
      "186901    1\n",
      "187053    1\n",
      "187064    1\n",
      "187105    1\n",
      "187169    1\n",
      "187242    1\n",
      "187336    1\n",
      "187383    1\n",
      "187869    1\n",
      "187983    1\n",
      "188246    1\n",
      "188465    1\n",
      "188538    1\n",
      "188633    1\n",
      "189314    1\n",
      "189328    1\n",
      "189934    1\n",
      "190243    1\n",
      "190466    1\n",
      "190499    1\n",
      "190777    1\n",
      "191656    1\n",
      "192374    1\n",
      "192484    1\n",
      "193575    1\n",
      "193721    1\n",
      "194314    1\n",
      "196511    1\n",
      "Length: 15482, dtype: int64\n",
      "GroupCustomers\n",
      "Above 55              3708\n",
      "Between 25 and 45    10422\n",
      "Under 25              3079\n",
      "dtype: int64\n",
      "TotalChildren\n",
      "0    4405\n",
      "1    3229\n",
      "2    3292\n",
      "3    2068\n",
      "4    2397\n",
      "5    1818\n",
      "dtype: int64\n",
      "BikeBuyer\n",
      "0    11504\n",
      "1     5705\n",
      "dtype: int64\n"
     ]
    }
   ],
   "source": [
    "print(AdvWorks.groupby('Occupation').size())\n",
    "print(AdvWorks.groupby('Gender').size())\n",
    "print(AdvWorks.groupby('MaritalStatus').size())\n",
    "print(AdvWorks.groupby('NumberCarsOwned').size())\n",
    "print(AdvWorks.groupby('NumberChildrenAtHome').size())\n",
    "print(AdvWorks.groupby('YearlyIncome').size())\n",
    "print(AdvWorks.groupby('GroupCustomers').size())\n",
    "print(AdvWorks.groupby('TotalChildren').size())\n",
    "print(AdvWorks.groupby('BikeBuyer').size())"
   ]
  },
  {
   "cell_type": "code",
   "execution_count": 9,
   "metadata": {},
   "outputs": [
    {
     "name": "stdout",
     "output_type": "stream",
     "text": [
      "BikeBuyer\n",
      "0    11504\n",
      "1     5705\n",
      "dtype: int64\n"
     ]
    }
   ],
   "source": [
    "print(AdvWork_True.groupby('BikeBuyer').size())"
   ]
  },
  {
   "cell_type": "code",
   "execution_count": 10,
   "metadata": {},
   "outputs": [
    {
     "data": {
      "image/png": "[encoded data removed]",
      "text/plain": [
       "<Figure size 432x288 with 1 Axes>"
      ]
     },
     "metadata": {
      "needs_background": "light"
     },
     "output_type": "display_data"
    }
   ],
   "source": [
    "sns.countplot(AdvWork_True['BikeBuyer'],label=\"Count\")\n",
    "plt.show()"
   ]
  },
  {
   "cell_type": "code",
   "execution_count": 11,
   "metadata": {},
   "outputs": [
    {
     "data": {
      "image/png": "[encoded data removed]",
      "text/plain": [
       "<Figure size 648x648 with 9 Axes>"
      ]
     },
     "metadata": {
      "needs_background": "light"
     },
     "output_type": "display_data"
    }
   ],
   "source": [
    "AdvWork_True.drop('BikeBuyer', axis=1).plot(kind='box', subplots=True, layout=(3,3), sharex=False, sharey=False, figsize=(9,9), \n",
    "                                        title='Box Plot for each input variable')\n",
    "plt.savefig('BikeBuyer_box')\n",
    "plt.show()"
   ]
  },
  {
   "cell_type": "code",
   "execution_count": 12,
   "metadata": {},
   "outputs": [
    {
     "data": {
      "image/png": "[encoded data removed]",
      "text/plain": [
       "<Figure size 648x648 with 6 Axes>"
      ]
     },
     "metadata": {
      "needs_background": "light"
     },
     "output_type": "display_data"
    }
   ],
   "source": [
    "import pylab as pl\n",
    "AdvWork_True.drop('BikeBuyer' ,axis=1).hist(bins=30, figsize=(9,9))\n",
    "pl.suptitle(\"Histogram for each numeric input variable\")\n",
    "plt.savefig('BikeBuyer')\n",
    "plt.show()"
   ]
  },
  {
   "cell_type": "code",
   "execution_count": 13,
   "metadata": {},
   "outputs": [
    {
     "name": "stdout",
     "output_type": "stream",
     "text": [
      "           CustomerID\n",
      "BikeBuyer            \n",
      "0               11504\n",
      "1                5705\n"
     ]
    }
   ],
   "source": [
    "AdvWork_True_counts = AdvWork_True[['CustomerID', 'BikeBuyer']].groupby('BikeBuyer').count()\n",
    "print(AdvWork_True_counts)"
   ]
  },
  {
   "cell_type": "code",
   "execution_count": 14,
   "metadata": {},
   "outputs": [
    {
     "name": "stdout",
     "output_type": "stream",
     "text": [
      "[0 1 0 ... 1 0 0]\n"
     ]
    }
   ],
   "source": [
    "labels = np.array(AdvWork_True['BikeBuyer'])\n",
    "print(labels)"
   ]
  },
  {
   "cell_type": "code",
   "execution_count": 15,
   "metadata": {},
   "outputs": [
    {
     "data": {
      "text/html": [
       "<div>\n",
       "<style scoped>\n",
       "    .dataframe tbody tr th:only-of-type {\n",
       "        vertical-align: middle;\n",
       "    }\n",
       "\n",
       "    .dataframe tbody tr th {\n",
       "        vertical-align: top;\n",
       "    }\n",
       "\n",
       "    .dataframe thead th {\n",
       "        text-align: right;\n",
       "    }\n",
       "</style>\n",
       "<table border=\"1\" class=\"dataframe\">\n",
       "  <thead>\n",
       "    <tr style=\"text-align: right;\">\n",
       "      <th></th>\n",
       "      <th>CustomerID</th>\n",
       "      <th>Occupation</th>\n",
       "      <th>Gender</th>\n",
       "      <th>MaritalStatus</th>\n",
       "      <th>NumberCarsOwned</th>\n",
       "      <th>NumberChildrenAtHome</th>\n",
       "      <th>YearlyIncome</th>\n",
       "      <th>GroupCustomers</th>\n",
       "      <th>TotalChildren</th>\n",
       "      <th>BikeBuyer</th>\n",
       "    </tr>\n",
       "  </thead>\n",
       "  <tbody>\n",
       "    <tr>\n",
       "      <th>0</th>\n",
       "      <td>11000</td>\n",
       "      <td>Professional</td>\n",
       "      <td>M</td>\n",
       "      <td>M</td>\n",
       "      <td>0</td>\n",
       "      <td>0</td>\n",
       "      <td>137947</td>\n",
       "      <td>Between 25 and 45</td>\n",
       "      <td>2</td>\n",
       "      <td>0</td>\n",
       "    </tr>\n",
       "    <tr>\n",
       "      <th>1</th>\n",
       "      <td>11001</td>\n",
       "      <td>Professional</td>\n",
       "      <td>M</td>\n",
       "      <td>S</td>\n",
       "      <td>1</td>\n",
       "      <td>3</td>\n",
       "      <td>101141</td>\n",
       "      <td>Between 25 and 45</td>\n",
       "      <td>3</td>\n",
       "      <td>1</td>\n",
       "    </tr>\n",
       "    <tr>\n",
       "      <th>2</th>\n",
       "      <td>11002</td>\n",
       "      <td>Professional</td>\n",
       "      <td>M</td>\n",
       "      <td>M</td>\n",
       "      <td>1</td>\n",
       "      <td>3</td>\n",
       "      <td>91945</td>\n",
       "      <td>Between 25 and 45</td>\n",
       "      <td>3</td>\n",
       "      <td>0</td>\n",
       "    </tr>\n",
       "    <tr>\n",
       "      <th>3</th>\n",
       "      <td>11003</td>\n",
       "      <td>Professional</td>\n",
       "      <td>F</td>\n",
       "      <td>S</td>\n",
       "      <td>1</td>\n",
       "      <td>0</td>\n",
       "      <td>86688</td>\n",
       "      <td>Between 25 and 45</td>\n",
       "      <td>0</td>\n",
       "      <td>0</td>\n",
       "    </tr>\n",
       "    <tr>\n",
       "      <th>4</th>\n",
       "      <td>11004</td>\n",
       "      <td>Professional</td>\n",
       "      <td>F</td>\n",
       "      <td>S</td>\n",
       "      <td>4</td>\n",
       "      <td>5</td>\n",
       "      <td>92771</td>\n",
       "      <td>Between 25 and 45</td>\n",
       "      <td>5</td>\n",
       "      <td>1</td>\n",
       "    </tr>\n",
       "  </tbody>\n",
       "</table>\n",
       "</div>"
      ],
      "text/plain": [
       "   CustomerID    Occupation Gender MaritalStatus  NumberCarsOwned  \\\n",
       "0       11000  Professional      M             M                0   \n",
       "1       11001  Professional      M             S                1   \n",
       "2       11002  Professional      M             M                1   \n",
       "3       11003  Professional      F             S                1   \n",
       "4       11004  Professional      F             S                4   \n",
       "\n",
       "   NumberChildrenAtHome  YearlyIncome     GroupCustomers  TotalChildren  \\\n",
       "0                     0        137947  Between 25 and 45              2   \n",
       "1                     3        101141  Between 25 and 45              3   \n",
       "2                     3         91945  Between 25 and 45              3   \n",
       "3                     0         86688  Between 25 and 45              0   \n",
       "4                     5         92771  Between 25 and 45              5   \n",
       "\n",
       "   BikeBuyer  \n",
       "0          0  \n",
       "1          1  \n",
       "2          0  \n",
       "3          0  \n",
       "4          1  "
      ]
     },
     "execution_count": 15,
     "metadata": {},
     "output_type": "execute_result"
    }
   ],
   "source": [
    "AdvWork_True.head(5)"
   ]
  },
  {
   "cell_type": "code",
   "execution_count": 16,
   "metadata": {},
   "outputs": [
    {
     "name": "stdout",
     "output_type": "stream",
     "text": [
      "(17209, 12)\n",
      "[[0. 1. 0. 0. 0. 0. 1. 0. 0. 1. 1. 0.]\n",
      " [0. 1. 0. 0. 0. 0. 1. 0. 0. 1. 0. 1.]]\n"
     ]
    }
   ],
   "source": [
    "def encode_string(cat_features):\n",
    "    ## First encode the strings to numeric categories\n",
    "    enc = preprocessing.LabelEncoder()\n",
    "    enc.fit(cat_features)\n",
    "    enc_cat_features = enc.transform(cat_features)\n",
    "    ## Now, apply one hot encoding\n",
    "    ohe = preprocessing.OneHotEncoder()\n",
    "    encoded = ohe.fit(enc_cat_features.reshape(-1,1))\n",
    "    return encoded.transform(enc_cat_features.reshape(-1,1)).toarray()\n",
    "\n",
    "categorical_columns = ['Occupation','Gender','MaritalStatus']\n",
    "\n",
    "Features = encode_string(AdvWork_True['GroupCustomers'])\n",
    "for col in categorical_columns:\n",
    "    temp = encode_string(AdvWork_True[col])\n",
    "    Features = np.concatenate([Features, temp], axis = 1)\n",
    "\n",
    "print(Features.shape)\n",
    "print(Features[:2, :])   "
   ]
  },
  {
   "cell_type": "code",
   "execution_count": 17,
   "metadata": {},
   "outputs": [
    {
     "name": "stdout",
     "output_type": "stream",
     "text": [
      "(17209, 16)\n",
      "[[0.00000e+00 1.00000e+00 0.00000e+00 0.00000e+00 0.00000e+00 0.00000e+00\n",
      "  1.00000e+00 0.00000e+00 0.00000e+00 1.00000e+00 1.00000e+00 0.00000e+00\n",
      "  0.00000e+00 0.00000e+00 1.37947e+05 2.00000e+00]\n",
      " [0.00000e+00 1.00000e+00 0.00000e+00 0.00000e+00 0.00000e+00 0.00000e+00\n",
      "  1.00000e+00 0.00000e+00 0.00000e+00 1.00000e+00 0.00000e+00 1.00000e+00\n",
      "  1.00000e+00 3.00000e+00 1.01141e+05 3.00000e+00]]\n"
     ]
    }
   ],
   "source": [
    "AdvWork_MM = np.concatenate([Features, np.array(AdvWork_True[['NumberCarsOwned','NumberChildrenAtHome','YearlyIncome',\n",
    "                                                       'TotalChildren']])], axis = 1)\n",
    "print(AdvWork_MM.shape)\n",
    "print(AdvWork_MM[:2, :])   "
   ]
  },
  {
   "cell_type": "code",
   "execution_count": 18,
   "metadata": {},
   "outputs": [
    {
     "name": "stdout",
     "output_type": "stream",
     "text": [
      "17209\n",
      "[4379, 8425, 16467, 7252, 5697, 6061, 2316, 6952, 12307, 2391, 7925, 4170, 3240, 9670, 9312, 3014, 15435, 12849, 12769, 6522, 1630, 10895, 5575, 136, 14259, 14780, 11492, 14824, 15675, 8264, 6708, 11681, 537, 16530, 13548, 2734, 4444, 14695, 10173, 15958, 11959, 1193, 6645, 8323, 3087, 16817, 3276, 9449, 12290, 5815, 12958, 11337, 13019, 672, 11964, 6392, 11097, 11266, 11644, 16711, 13336, 7773, 16956, 6757, 5485, 16054, 14858, 11083, 2720, 16849, 7670, 2332, 3939, 10831, 878, 6079, 324, 17003, 4107, 3137, 3068, 10302, 13205, 10715, 8841, 12415, 9613, 750, 4243, 11080, 4430, 13234, 2229, 3195, 14074, 102, 5144, 3115, 13174, 11891, 7997, 4622, 12039, 11133, 2261, 13707, 12776, 2257, 16470, 16031, 4332, 8436, 1921, 9059, 12722, 4132, 5979, 4061, 10036, 1138, 3358, 13892, 6277, 5480, 12582, 3513, 8082, 10119, 13494, 8120, 14504, 7787, 5089, 16409, 15180, 13475, 8492, 6087, 2991, 7671, 16202, 10890, 8402, 7002, 11816, 11431, 15591, 2751, 17005, 13846, 576, 5702, 7123, 11941, 158, 2207, 2947, 6236, 3976, 10535, 6512, 12791, 4226, 3903, 312, 12468, 11575, 8343, 3377, 4250, 1470, 13993, 3812, 4869, 11360, 316, 8446, 9640, 2845, 15093, 11250, 7897, 9791, 6992, 5608, 10053, 8668, 1950, 7760, 2527, 4675, 6548, 8108, 6910, 14923, 16145, 3345, 2392, 9779, 4108, 14496, 3165, 15848, 14583, 12824, 2496, 10156, 303, 16138, 15586, 12815, 8555, 8091, 5025, 12194, 15185, 7741, 5235, 257, 12083, 15909, 9023, 12868, 5158, 10029, 10320, 4088, 15238, 14226, 483, 12112, 3817, 12962, 10557, 3979, 14686, 1128, 7923, 14057, 3790, 1165, 9750, 5600, 13777, 3699, 244, 143, 8859, 16925, 2129, 5668, 15161, 236, 6376, 17105, 3948, 2677, 5753, 1289, 9635, 10935, 10841, 12610, 10566, 13226, 12934, 13230, 3756, 1804, 1754, 4643, 2224, 4656, 13742, 3612, 13088, 2078, 1883, 9625, 1746, 6582, 8256, 1412, 1711, 15008, 16351, 197, 557, 11003, 4168, 10468, 14540, 2063, 1132, 13424, 16481, 748, 3186, 5327, 7023, 9535, 11432, 8797, 2336, 7856, 8761, 8747, 6859, 11833, 9101, 6098, 5002, 3123, 10675, 3477, 977, 10328, 6509, 423, 11882, 15218, 14732, 2277, 13907, 8923, 13511, 6278, 16144, 1398, 2630, 16500, 14284, 16126, 11997, 13734, 10804, 2006, 9537, 1372, 7043, 10717, 2805, 2488, 14315, 8026, 8146, 15360, 11907, 7853, 12829, 14114, 12326, 6280, 956, 6722, 13789, 6591, 851, 8883, 15611, 9605, 5474, 8773, 15717, 3201, 9588, 12547, 3287, 12418, 5040, 17099, 7947, 7676, 11166, 8296, 8806, 4096, 3017, 2901, 7496, 15843, 2318, 7513, 13462, 7034, 4844, 1769, 6994, 6441, 12609, 16822, 16347, 11984, 7539, 1117, 13020, 1656, 15891, 5650, 10897, 4629, 3257, 15896, 400, 14548, 1065, 15867, 5260, 10878, 2171, 6092, 6863, 508, 12024, 1702, 2402, 5533, 6453, 1852, 10509, 7029, 16112, 7878, 10387, 6382, 2192, 12446, 15081, 4895, 7562, 11990, 9770, 7888, 812, 5069, 8304, 67, 9104, 6879, 12249, 13738, 5161, 15894, 83, 4361, 1643, 17134, 12619, 8860, 16201, 10922, 16390, 14926, 12670, 1060, 765, 6948, 686, 11713, 6613, 12170, 6015, 240, 3383, 11336, 14512, 13709, 12449, 2987, 1147, 1691, 5574, 14434, 8769, 646, 13695, 5914, 3042, 7949, 8658, 3349, 8431, 1561, 8678, 5707, 8209, 5981, 13820, 14816, 12454, 5091, 41, 3476, 2656, 14737, 4422, 16827, 14161, 15064, 13860, 12441, 4496, 7491, 3175, 1799, 13561, 4222, 2135, 4122, 11625, 5780, 11372, 12647, 16911, 15225, 7475, 6835, 14064, 1191, 16267, 8566, 2795, 1440, 2709, 16355, 8891, 9706, 9892, 14241, 3417, 8496, 1709, 1096, 14744, 13866, 664, 5146, 10769, 12250, 6930, 6632, 1579, 972, 12300, 8989, 10927, 15148, 2637, 5222, 1944, 8715, 11240, 12774, 4353, 12332, 15346, 5805, 12813, 681, 8474, 10952, 3635, 9991, 14866, 3027, 2362, 1517, 7622, 11478, 5598, 10255, 1035, 4270, 15054, 11029, 2930, 3332, 1718, 3576, 1669, 3563, 9424, 16825, 16731, 10753, 3511, 14046, 2334, 10919, 1626, 17044, 1363, 12564, 11818, 3217, 2635, 3522, 3516, 15551, 12426, 14871, 16684, 6850, 6697, 11151, 9648, 6260, 13828, 9877, 12192, 4266, 15959, 10760, 15268, 7948, 12282, 1373, 16419, 7070, 9036, 8113, 6089, 1513, 11854, 10581, 2542, 10829, 12550, 15316, 16316, 7794, 2903, 1555, 5523, 11534, 11120, 2057, 12989, 8235, 3738, 16251, 1516, 4047, 10203, 3586, 3471, 199, 11398, 11582, 555, 13175, 1474, 11509, 8052, 14521, 7689, 8274, 15338, 14757, 9012, 14125, 7241, 13397, 8375, 14028, 11849, 2118, 5221, 9865, 4903, 1676, 10585, 9466, 15905, 10901, 14592, 6691, 13463, 7060, 2924, 14907, 46, 5774, 6618, 7576, 6881, 7080, 6587, 14314, 9092, 10233, 15380, 7106, 16736, 9234, 16249, 13610, 15149, 15417, 12203, 9121, 373, 12076, 11801, 17118, 10531, 8716, 600, 17057, 918, 7270, 6866, 5513, 6494, 4787, 10108, 14584, 6949, 15961, 9998, 7729, 8571, 7305, 7596, 16906, 5133, 2879, 4660, 16095, 7373, 5613, 13809, 10652, 8069, 7049, 10968, 8553, 9585, 16680, 7595, 803, 6769, 12894, 4193, 3157, 586, 264, 4006, 8284, 9627, 5714, 15612, 12152, 1954, 8997, 3179, 5704, 542, 9905, 446, 8470, 2442, 2904, 1864, 12678, 12493, 848, 5187, 2686, 15070, 9958, 6443, 3110, 10304, 14786, 1259, 11864, 9802, 12376, 16991, 1119, 4761, 5344, 12190, 9357, 13488, 15291, 15145, 7803, 1487, 5684, 2649, 8517, 6886, 10327, 15441, 6821, 15934, 5595, 4916, 6606, 11178, 10353, 3973, 7403, 9442, 15968, 9501, 11351, 9769, 10023, 15966, 5848, 15874, 8879, 9286, 14239, 12561, 14944, 15920, 33, 14882, 15757, 14790, 13157, 10729, 16642, 12211, 6365, 14278, 981, 8016, 6, 11693, 11385, 12773, 10701, 4192, 9689, 10078, 7749, 4179, 1074, 6976, 7713, 8701, 8634, 7239, 2699, 4152, 6578, 11071, 4819, 15004, 15322, 7198, 6127, 668, 3616, 4939, 8168, 6906, 2694, 1732, 9703, 11004, 930, 592, 13466, 15589, 6179, 389, 8909, 12596, 6213, 10235, 8290, 4213, 6785, 5871, 8599, 15716, 4894, 4435, 7652, 6334, 4964, 16767, 654, 5862, 1137, 5899, 5284, 2910, 6960, 1905, 14938, 13883, 12667, 7142, 2794, 5253, 8958, 2348, 17171, 17061, 4560, 14680, 16555, 5857, 2025, 7042, 6458, 9031, 844, 10161, 9929, 3224, 2704, 9960, 11461, 14294, 11965, 15885, 16962, 10026, 5993, 7486, 10707, 5093, 2861, 9097, 5096, 9064, 13042, 8320, 9039, 13692, 383, 8126, 2990, 5193, 6862, 12204, 14922, 13551, 6846, 6659, 8285, 16498, 13318, 9013, 13089, 6721, 6332, 6883, 8061, 17104, 1010, 16917, 14225, 10077, 13206, 16065, 15804, 406, 5542, 2602, 368, 3589, 16703, 13411, 14911, 1502, 16522, 1960, 6714, 11564, 2837, 9693, 11076, 1945, 1705, 15767, 1408, 10417, 11261, 4742, 10160, 8726, 12293, 9034, 4160, 6418, 8528, 5013, 15603, 8164, 15508, 15326, 14122, 13631, 5338, 13583, 15318, 7720, 12135, 6347, 14422, 2671, 4075, 9409, 11435, 14905, 12311, 6338, 11973, 990, 4631, 10137, 12548, 13247, 9966, 12553, 13730, 5863, 13964, 9275, 2802, 787, 440, 15849, 9452, 6210, 16131, 11067, 2926, 5551, 14930, 12546, 5888, 2981, 8546, 219, 12284, 10045, 11345, 12881, 13823, 13242, 5694, 10215, 8894, 11556, 14412, 8270, 5501, 2423, 16049, 12685, 13815, 12004, 16785, 10372, 16562, 16158, 13817, 7057, 10910, 12675, 4502, 10343, 14819, 1037, 17187, 14925, 6251, 5035, 9438, 15817, 10344, 14823, 3044, 8282, 7753, 2072, 15052, 1894, 16024, 15844, 8501, 10626, 4911, 16678, 12652, 12599, 3879, 11413, 5212, 14769, 15695, 7717, 8135, 11074, 3049, 15416, 3323, 12356, 7692, 7094, 7482, 3891, 4654, 8621, 1559, 16477, 6864, 51, 14937, 13914, 1342, 17192, 15469, 10692, 14533, 3404, 13705, 8840, 13872, 2545, 6875, 9130, 16013, 3470, 16713, 8541, 550, 15179, 5656, 6386, 3642, 7203, 7058, 16879, 1265, 2921, 1182, 4692, 8908, 9611, 13143, 12230, 9812, 8592, 1274, 14764, 13327, 10519, 12397, 15133, 14590, 4085, 5172, 14549, 8811, 11078, 17038, 14365, 10978, 12937, 3570, 8448, 2265, 3565, 853, 9614, 345, 16621, 15747, 546, 1984, 8875, 3222, 3118, 3098, 9251, 472, 3885, 16286, 14585, 7120, 1930, 174, 6811, 5183, 13406, 13626, 4565, 2372, 7733, 9491, 15364, 6837, 4230, 3542, 3986, 9284, 16861, 12020, 5963, 1422, 7735, 7907, 16769, 17176, 2749, 5280, 11086, 5148, 15033, 12210, 16689, 9049, 9090, 768, 14137, 2744, 10463, 11600, 16738, 14662, 16096, 4616, 15765, 8370, 11208, 10033, 5760, 9561, 11786, 10862, 12987, 4410, 156, 7128, 1573, 5727, 4029, 10300, 17062, 2835, 639, 5304, 2343, 11439, 5261, 8379, 6475, 7759, 3142, 12534, 1159, 5169, 4917, 5488, 6829, 4042, 14626, 6056, 6218, 6093, 4619, 12065, 13238, 6996, 14784, 13398, 15114, 2827, 16622, 2765, 4438, 12306, 12499, 233, 9309, 1223, 15863, 7389, 11384, 656, 8030, 4735, 5015, 4847, 7191, 2890, 10826, 14322, 1833, 7615, 16285, 1277, 684, 4547, 1419, 2882, 7987, 7850, 859, 3558, 3083, 14180, 13228, 10793, 4390, 17088, 9394, 4581, 12276, 10615, 671, 10861, 14958, 6905, 5911, 3636, 8491, 5004, 14783, 10713, 10263, 8008, 16437, 15228, 12778, 315, 12739, 11769, 13915, 7489, 194, 16548, 1584, 8593, 9543, 5430, 8224, 13136, 9396, 15298, 2352, 9559, 16063, 12793, 12764, 2067, 11924, 13110, 3785, 4290, 8063, 6125, 15021, 16624, 13038, 2867, 5426, 3518, 3037, 10386, 1359, 3934, 11051, 14335, 5384, 792, 7020, 6088, 4153, 1672, 5903, 5522, 9016, 6746, 12890, 13965, 9549, 13142, 9454, 588, 11599, 10480, 16480, 14456, 12560, 8191, 12660, 991, 2116, 10822, 13177, 14834, 16914, 4419, 8867, 12362, 11954, 11855, 4382, 8498, 8616, 11647, 14799, 7109, 8700, 4015, 12627, 10348, 4950, 12484, 16534, 16672, 16224, 1297, 16507, 10924, 13195, 4605, 4705, 5572, 15810, 6878, 5402, 3181, 17119, 9220, 15499, 8771, 8957, 7873, 10288, 9622, 15530, 10544, 5509, 12320, 4845, 15967, 3691, 14351, 1493, 14885, 10445, 6401, 15901, 2980, 14182, 2533, 15517, 10452, 7894, 16460, 10508, 16089, 3547, 5622, 898, 1439, 11916, 613, 12091, 4155, 11020, 10370, 6202, 13691, 6424, 7458, 6544, 11666, 952, 10166, 13413, 4441, 8344, 11827, 188, 13783, 16942, 5946, 16487, 14506, 11438, 7001, 7901, 9790, 12635, 7274, 9651, 11056, 3537, 8468, 11583, 7868, 13416, 17078, 2303, 12100, 4714, 13162, 8221, 12131, 11639, 6190, 2862, 16412, 6638, 7790, 4299, 4074, 1164, 10426, 13837, 15940, 14591, 13850, 8182, 7132, 13629, 8045, 7148, 15078, 1784, 8253, 13279, 12757, 16225, 15569, 535, 9809, 13957, 12429, 3593, 14741, 17125, 4892, 1197, 2982, 3720, 14302, 5016, 2473, 9001, 3975, 15727, 9946, 12305, 9616, 1936, 8401, 5153, 2084, 2430, 4079, 836, 5214, 8210, 16560, 1518, 15187, 5410, 9096, 11800, 11861, 9385, 4048, 11390, 16760, 12050, 10623, 10492, 5199, 5450, 4450, 15446, 6823, 12524, 7422, 16136, 9024, 12530, 8313, 337, 15066, 7994, 7086, 2997, 2609, 5762, 13111, 840, 660, 15224, 1980, 15437, 11346, 2183, 5520, 3598, 5935, 1184, 2783, 16958, 3001, 11553, 4954, 691, 5121, 5208, 6355, 8201, 14588, 15345, 7036, 1071, 15917, 338, 13884, 726, 4627, 6490, 4681, 15648, 10326, 4884, 6884, 3169, 14818, 8904, 1540, 182, 1788, 14132, 10439, 12255, 8109, 15460, 8299, 11568, 10059, 5160, 10960, 2616, 12506, 5422, 5279, 14633, 8563, 11513, 16171, 15754, 17001, 12025, 4285, 13522, 16385, 4762, 3653, 15492, 12623, 2505, 6162, 6570, 4181, 6381, 4019, 5812, 5732, 6006, 11234, 15211, 1053, 5018, 2808, 2177, 13886, 12092, 4381, 10146, 15117, 3818, 12457, 2031, 15495, 11437, 9639, 1039, 15331, 7646, 11396, 101, 12798, 11425, 11937, 7227, 6499, 13744, 10571, 16055, 912, 6187, 6611, 330, 4965, 16847, 13885, 6572, 1481, 13311, 2984, 16366, 10323, 6688, 5314, 7806, 5118, 10931, 7192, 2305, 2335, 14362, 15969, 7421, 9818, 11064, 13055, 2103, 10877, 4126, 4615, 8647, 7534, 14910, 15237, 14544, 982, 7301, 15916, 784, 14616, 6661, 12257, 17177, 12566, 16653, 10075, 7365, 8275, 5690, 16140, 15301, 15643, 11741, 11567, 1985, 16104, 3728, 2314, 7616, 5075, 17199, 3355, 9065, 2080, 8012, 15436, 15072, 10979, 15096, 9250, 13353, 12549, 35, 4587, 777, 7993, 10853, 10828, 7467, 497, 4664, 5618, 7052, 3744, 1194, 519, 6234, 8604, 4491, 9276, 13287, 16435, 10241, 16558, 10800, 16835, 875, 7352, 2917, 10617, 6520, 9638, 8793, 2628, 9575, 10817, 1051, 7808, 12924, 9825, 6679, 15749, 22, 10560, 13854, 11386, 12842, 13103, 13321, 14631, 1377, 1648, 3381, 14140, 1556, 10471, 1757, 16411, 10331, 6728, 6185, 16309, 14708, 3692, 11170, 15177, 14378, 15780, 8906, 2730, 15568, 14606, 7871, 11530, 6947, 15363, 7955, 8556, 3941, 9766, 14771, 1726, 3244, 12558, 15079, 144, 2922, 1658, 12533, 12993, 14620, 2159, 1522, 636, 11574, 4354, 14852, 4076, 10670, 7625, 1206, 14693, 14500, 4428, 2149, 9256, 16326, 9590, 2653, 1521, 17114, 9692, 7272, 2153, 9219, 5269, 14903, 8232, 2286, 3335, 5326, 2566, 11174, 1023, 11102, 4686, 26, 13467, 5468, 1937, 11633, 272, 10126, 5134, 585, 5473, 16143, 15327, 2536, 6122, 7611, 10202, 6643, 6577, 5127, 9558, 1926, 703, 16743, 3534, 207, 11015, 4062, 12726, 1484, 10129, 9314, 2178, 6047, 11119, 9066, 2256, 12953, 5240, 6036, 9315, 7795, 6847, 12871, 6814, 4070, 9171, 6426, 4135, 12215, 9395, 16985, 12505, 14035, 1048, 1963, 9914, 13018, 11588, 7217, 11383, 1302, 11062, 13036, 3072, 5300, 685, 6558, 10607, 11629, 7511, 12090, 16782, 16791, 2184, 3235, 13114, 15540, 14324, 15626, 281, 14986, 13594, 12412, 10133, 13367, 13292, 15409, 17126, 14172, 17071, 7481, 16865, 15496, 2018, 6573, 8025, 14037, 9150, 15907, 10317, 7050, 3685, 2888, 16074, 1824, 2294, 12221, 4600, 650, 15109, 2954, 12967, 14240, 2418, 2712, 10147, 9873, 8298, 14300, 1712, 3360, 7374, 11232, 6916, 5243, 8524, 15373, 5814, 13160, 3838, 14491, 395, 6978, 3111, 11863, 11389, 5680, 14370, 1969, 7361, 12254, 525, 9365, 7381, 434, 6192, 449, 11410, 11643, 2339, 533, 10559, 539, 9878, 2021, 9514, 9484, 9852, 11114, 8514, 3203, 15567, 948, 7119, 687, 16068, 4886, 14678, 633, 149, 4436, 2915, 11844, 564, 9129, 15484, 11292, 16807, 667, 1310, 15779, 17108, 5164, 971, 14414, 2044, 7866, 8787, 4125, 10155, 10781, 11720, 10128, 15616, 15151, 6435, 12175, 5764, 3429, 16779, 4217, 12803, 7719, 6375, 7466, 7460, 10238, 16490, 2648, 10994, 12345, 9882, 3289, 14962, 4549, 11541, 6783, 10185, 717, 3084, 2849, 13706, 14004, 11505, 9889, 5107, 14393, 3591, 9871, 2208, 8532, 4175, 2326, 7170, 8103, 2669, 9334, 10809, 5879, 9389, 2603, 12386, 6203, 14299, 2107, 13924, 6343, 12811, 6132, 5842, 10697, 3716, 8244, 6755, 8410, 11559, 15942, 3468, 14914, 11881, 13490, 1199, 1679, 6800, 3070, 3600, 7333, 12883, 11621, 1903, 6472, 1601, 9360, 15450, 7492, 11293, 14450, 3792, 10503, 4060, 16801, 15131, 9965, 5653, 16091, 2839, 9186, 2579, 12366, 1642, 6726, 2030, 12268, 10648, 16174, 7221, 1162, 725, 317, 6644, 9696, 7064, 3234, 1070, 5568, 9968, 6704, 16601, 9867, 4877, 3006, 1811, 15063, 8712, 16398, 13887, 3008, 3178, 693, 280, 16397, 4998, 14530, 6649, 6988, 10548, 202, 8699, 6790, 8666, 11405, 8412, 5398, 16804, 6217, 9943, 12134, 5770, 16612, 9208, 9500, 888, 14471, 6223, 13429, 387, 2698, 10131, 15350, 1888, 14071, 16401, 14792, 17068, 10940, 14650, 7813, 6473, 14301, 17015, 7597, 2886, 16157, 12070, 7678, 11262, 14348, 9467, 16321, 15990, 5612, 3191, 9230, 8521, 8766, 15352, 5229, 12297, 17122, 10845, 3086, 17181, 12171, 5921, 3116, 16928, 2394, 9144, 1463, 15802, 8842, 11316, 10228, 1505, 16348, 13371, 5587, 4655, 10346, 16693, 1971, 16595, 9708, 11455, 14033, 2626, 14312, 3762, 16551, 16927, 4968, 7793, 151, 4831, 10784, 16674, 9515, 2356, 10451, 9399, 11847, 7133, 8565, 13848, 13333, 2315, 4374, 5406, 251, 3387, 10825, 3147, 15342, 2194, 14408, 13322, 15107, 2112, 1254, 3285, 7911, 262, 14523, 10141, 16178, 1479, 13790, 3625, 11548, 10794, 3160, 16783, 12543, 6574, 12746, 12286, 1210, 4118, 11992, 12807, 13008, 7223, 6328, 12926, 16563, 6174, 13358, 13585, 13829, 11213, 3055, 8950, 3928, 13619, 1775, 10688, 5156, 1031, 1008, 11690, 4440, 15654, 1207, 1161, 1928, 12432, 2878, 2696, 15244, 7606, 6562, 3106, 13294, 11258, 15135, 428, 13430, 947, 6749, 11442, 7811, 460, 16875, 6999, 3410, 7370, 6463, 4777, 11355, 11622, 7224, 577, 4898, 10990, 7451, 2168, 5955, 11268, 14325, 14036, 4813, 14313, 314, 11121, 10060, 16504, 16756, 16122, 12440, 596, 7456, 10630, 12333, 14374, 15622, 10301, 1154, 73, 6568, 2561, 15111, 445, 3016, 1652, 7238, 5651, 3643, 515, 411, 14171, 540, 1860, 15801, 16855, 10089, 3324, 4832, 16710, 12060, 3073, 9701, 17060, 4596, 7222, 2493, 9743, 8639, 14318, 5933, 559, 17006, 16472, 2431, 1424, 14825, 5256, 10966, 6617, 16893, 9524, 12141, 1942, 4347, 14195, 1813, 10164, 10188, 15034, 12086, 14608, 16996, 16255, 2755, 14100, 10201, 1865, 3662, 4780, 11138, 964, 214, 5226, 7930, 15836, 14330, 171, 12327, 11014, 3197, 3450, 7992, 16466, 10218, 3005, 16892, 6629, 3473, 9996, 13176, 11679, 15209, 13995, 11503, 7185, 10253, 4188, 8504, 12436, 16881, 10779, 8560, 16300, 5476, 7470, 602, 17135, 347, 15797, 3088, 827, 4489, 8172, 11109, 16362, 2111, 657, 479, 12304, 13896, 5709, 14628, 14078, 860, 10270, 893, 10893, 10956, 2166, 11471, 17133, 4395, 2962, 15945, 12645, 14049, 9669, 16352, 9794, 3334, 8195, 9441, 14900, 3915, 3629, 1524, 13912, 11404, 11728, 12301, 16069, 8914, 14319, 12153, 6151, 6753, 16359, 2875, 3848, 15340, 13996, 8272, 11939, 5458, 9948, 12901, 17081, 10449, 6181, 16792, 5633, 15865, 11211, 968, 5232, 8442, 10100, 11982, 14572, 5484, 8561, 4340, 4454, 5391, 8269, 2703, 7077, 5769, 12747, 9308, 3572, 14878, 9305, 5794, 16607, 2553, 10407, 11160, 6140, 6177, 10679, 4399, 5754, 5095, 13401, 8334, 4103, 13418, 10363, 7585, 1752, 5298, 12104, 11635, 7342, 13214, 284, 9702, 1256, 4823, 8461, 9684, 7087, 13879, 7487, 11041, 582, 10152, 9580, 6703, 4446, 3666, 8464, 13009, 11805, 2869, 14163, 965, 3775, 10805, 8131, 1696, 10021, 1100, 16235, 5884, 5087, 5122, 5905, 7400, 8972, 3757, 12312, 4588, 10911, 11917, 805, 16416, 8329, 12922, 6077, 11906, 2766, 4054, 10273, 3085, 2027, 6488, 7624, 720, 13690, 2717, 7416, 3054, 3261, 7892, 13091, 5756, 16102, 1396, 252, 4238, 8644, 10647, 7573, 1343, 11226, 15126, 6113, 3700, 1282, 11, 1589, 9971, 521, 11692, 3632, 7275, 16573, 7099, 6017, 14084, 574, 3942, 17147, 3913, 11460, 1327, 14861, 10118, 17014, 16603, 8689, 13983, 9413, 2726, 13218, 6865, 8100, 313, 356, 12694, 16511, 534, 12936, 4874, 5282, 1357, 4712, 14305, 6754, 2242, 5331, 9206, 14532, 10545, 7708, 3916, 6224, 8545, 15563, 14766, 14436, 14659, 14711, 1848, 2642, 11695, 5711, 11009, 3816, 1581, 13678, 15982, 12723, 14015, 11061, 9687, 8357, 177, 2015, 16982, 17116, 14723, 147, 3650, 8132, 361, 11922, 9216, 13305, 1840, 10586, 13540, 6229, 1173, 1877, 601, 12036, 229, 1619, 12540, 8051, 14955, 8638, 2455, 11938, 16485, 13051, 8429, 6559, 14729, 6408, 2974, 9015, 14730, 13022, 15723, 12372, 12437, 2502, 3671, 11571, 76, 6745, 6136, 13129, 5216, 14009, 3483, 5661, 2143, 16146, 8254, 8775, 12331, 3090, 14842, 16978, 126, 6385, 5365, 3347, 12140, 5763, 10820, 8954, 1081, 1690, 4393, 14466, 4641, 10950, 13623, 14558, 4392, 9221, 4497, 15816, 4007, 1841, 3163, 16934, 11326, 13497, 3172, 10918, 1591, 332, 1999, 3985, 16857, 17056, 5202, 658, 10099, 6560, 12101, 3402, 15, 9489, 6793, 5111, 797, 3018, 744, 5602, 12399, 15714, 13304, 17194, 5730, 8681, 12580, 17065, 7246, 5266, 11885, 13863, 16298, 15778, 12439, 8472, 9153, 8801, 7297, 5637, 12500, 14531, 2745, 2345, 830, 11230, 8509, 1400, 1777, 3446, 1451, 569, 15800, 12833, 1387, 16964, 13547, 3780, 11870, 12491, 689, 14165, 9060, 5297, 8910, 14963, 4764, 5223, 2180, 13344, 10801, 6409, 3926, 13841, 11307, 4349, 6633, 8684, 13099, 2193, 10274, 3048, 10536, 1981, 60, 11616, 5742, 6106, 10116, 13926, 7226, 9961, 8864, 13095, 12589, 17203, 11306, 873, 6062, 11180, 3375, 7278, 11182, 4394, 154, 5564, 9715, 10289, 16536, 10999, 12219, 15662, 13602, 7551, 15741, 16133, 11761, 1209, 14085, 14759, 7140, 3971, 14535, 4690, 14839, 12557, 10852, 11551, 886, 9827, 15468, 16211, 14376, 13166, 1692, 353, 3339, 15718, 5032, 12378, 3489, 6001, 8607, 10899, 14632, 4827, 15091, 9076, 10946, 9911, 6920, 1772, 8676, 7313, 14849, 6387, 8627, 14767, 9304, 16180, 15871, 13189, 13207, 7609, 44, 8450, 10011, 7706, 15478, 2555, 6741, 4870, 9788, 11595, 12986, 12321, 4808, 9461, 12676, 4059, 1245, 9720, 15686, 7254, 12390, 1765, 13052, 12058, 16220, 14477, 6751, 16570, 13805, 5974, 9474, 11303, 12097, 8064, 5643, 708, 7445, 1787, 579, 5072, 10620, 5027, 12122, 7199, 206, 7547, 163, 80, 12360, 653, 12279, 4949, 6091, 4201, 5066, 15649, 2610, 1809, 12536, 9045, 198, 9204, 7537, 7990, 5725, 10912, 16889, 7525, 5585, 6018, 608, 12191, 1018, 4979, 4307, 4241, 15042, 109, 7763, 7924, 17145, 6971, 13239, 1886, 2660, 3665, 11391, 8861, 16319, 11290, 10050, 363, 2278, 7181, 2673, 17051, 1520, 10972, 16580, 9883, 11865, 15684, 14952, 13932, 15604, 15910, 1925, 5115, 11270, 11943, 1241, 11011, 6211, 10849, 9947, 7501, 3444, 612, 10027, 16952, 1355, 1135, 16339, 14375, 10894, 2365, 2661, 2008, 7251, 13502, 8582, 8759, 3853, 6496, 16981, 16552, 5858, 1232, 11323, 11539, 8263, 12938, 16705, 16834, 4695, 4211, 1180, 2929, 11466, 1922, 9833, 16634, 3069, 9844, 5295, 7369, 6493, 5916, 8007, 15875, 5708, 2776, 1080, 10070, 13787, 12898, 3956, 6068, 12885, 5470, 648, 6506, 8452, 8390, 10949, 11980, 4593, 5625, 5683, 15243, 14418, 4935, 1616, 6575, 1715, 7538, 8734, 16724, 16384, 1427, 8653, 5462, 932, 6020, 13204, 9787, 6455, 7900, 11523, 3730, 15037, 4174, 13032, 2255, 14306, 13666, 15752, 12736, 4991, 507, 4001, 9725, 11978, 13673, 6250, 16805, 3437, 8388, 5328, 4471, 14721, 13171, 12447, 8305, 10477, 1951, 5346, 14889, 7555, 6259, 14396, 11131, 1916, 10904, 12827, 2371, 3889, 5700, 3196, 77, 3028, 7391, 8948, 8916, 16823, 11394, 15023, 580, 896, 7073, 1, 8626, 4388, 11341, 418, 8226, 12048, 7067, 14981, 7449, 8675, 1613, 6792, 7599, 8922, 3395, 11456, 11829, 4254, 966, 15242, 15300, 10106, 2743, 15019, 4546, 7637, 16936, 11365, 15488, 9618, 1496, 4187, 11275, 9646, 7664, 8371, 10834, 3805, 10313, 3615, 9777, 8998, 7991, 9730, 16763, 4987, 12834, 2211, 6932, 4926, 9713, 1009, 16845, 11063, 16297, 16579, 2155, 11132, 15815, 5630, 11328, 15354, 11238, 3791, 11840, 14610, 13867, 7985, 9493, 103, 5044, 13161, 11524, 741, 7431, 7359, 7409, 13283, 5378, 556, 838, 8485, 1003, 5958, 48, 15014, 3170, 16434, 13412, 7681, 6535, 1913, 12698, 13939, 1901, 3621, 12525, 4945, 14687, 9331, 7258, 8011, 12661, 12108, 10279, 5692, 6945, 14091, 8497, 12715, 2340, 6904, 8077, 7382, 16946, 12465, 3103, 4936, 2847, 3213, 7031, 5369, 4933, 6647, 2907, 7512, 15795, 1013, 15748, 12579, 9816, 3273, 14276, 268, 11584, 11721, 7392, 13066, 3372, 8843, 6033, 6802, 6809, 96, 16589, 91, 12959, 3623, 14133, 12650, 14108, 4834, 11216, 70, 12396, 16327, 6239, 10170, 306, 12199, 11612, 10947, 6602, 15307, 1329, 2514, 5067, 13743, 9148, 17023, 3220, 14893, 16908, 13147, 14739, 2095, 4896, 5120, 5626, 11716, 14053, 11736, 16048, 4484, 4805, 14023, 3253, 993, 3800, 4045, 11987, 15783, 9124, 12150, 15347, 2102, 3158, 5982, 8283, 1020, 13616, 15538, 5198, 7645, 11946, 9729, 1749, 3108, 9597, 7800, 10057, 2627, 12954, 7962, 5461, 15207, 6025, 9288, 6564, 456, 12893, 16026, 9665, 1361, 17102, 9763, 5362, 6208, 6700, 14349, 10830, 8589, 8827, 13911, 14755, 15371, 5667, 17043, 8597, 16078, 5695, 1549, 6888, 11017, 1356, 5578, 2393, 4439, 13370, 3035, 289, 8394, 13495, 17019, 14117, 16243, 2475, 11949, 9680, 9404, 15027, 14673, 12514, 15007, 12531, 7639, 7149, 4515, 12799, 8006, 6760, 1155, 3343, 14528, 9381, 15423, 1178, 5795, 415, 8294, 996, 2504, 4859, 7821, 9214, 5941, 1072, 11285, 6102, 7989, 661, 10873, 5449, 10892, 12334, 10311, 620, 10724, 11572, 7605, 11157, 11277, 2605, 7401, 2272, 15667, 16422, 6315, 17161, 10360, 10476, 9190, 4804, 2040, 8149, 13769, 9117, 10903, 14002, 14763, 5409, 8433, 10542, 8834, 4156, 9995, 14402, 2308, 13325, 10393, 384, 8895, 9698, 7286, 16370, 1566, 227, 846, 591, 11967, 1381, 15431, 4530, 10120, 6983, 14864, 15928, 8190, 1827, 674, 13101, 4626, 15048, 6035, 5592, 16887, 3592, 16975, 13763, 4470, 2351, 5930, 10606, 10624, 529, 2267, 8610, 1390, 15986, 11273, 7213, 3066, 3793, 10297, 3494, 1915, 15794, 13274, 8505, 10754, 24, 13679, 9771, 3096, 6622, 7791, 4946, 10995, 11482, 7690, 13774, 11441, 10532, 13264, 1464, 1744, 16949, 2832, 4447, 10741, 679, 4262, 14586, 6667, 11291, 11214, 14242, 14959, 2564, 8342, 2965, 13227, 5778, 2400, 13334, 4563, 14099, 10597, 4252, 12037, 7861, 13990, 6064, 13862, 13519, 5387, 5989, 10915, 8493, 632, 9453, 296, 10689, 10909, 16088, 191, 9412, 14550, 1268, 522, 9111, 7495, 6738, 16587, 1725, 5190, 8206, 12443, 13751, 8021, 10465, 17169, 8144, 15535, 7824, 4689, 4798, 13461, 3307, 7277, 12096, 5739, 16903, 1136, 16614, 1900, 1547, 1040, 13432, 10032, 2938, 3527, 8944, 12663, 9386, 15583, 14201, 6109, 16479, 7509, 4258, 5166, 377, 12328, 15762, 4716, 2978, 15615, 16878, 11876, 15729, 10513, 1276, 10088, 1700, 10248, 14139, 11298, 14469, 13178, 16874, 13156, 15067, 9796, 12657, 3822, 1446, 14228, 14308, 6339, 15310, 6320, 3509, 2866, 9856, 1435, 12915, 1354, 5291, 11469, 902, 609, 2195, 14025, 2833, 5616, 1019, 2425, 955, 16441, 2367, 3886, 10668, 5745, 485, 14869, 1413, 2203, 2005, 14762, 3856, 4344, 5435, 4182, 473, 5719, 3719, 14803, 9229, 6990, 14153, 15101, 15030, 11154, 13263, 16107, 1414, 4306, 3772, 9607, 9578, 12700, 669, 11221, 8579, 2613, 11032, 15632, 365, 14971, 16732, 12978, 532, 4880, 14371, 9846, 1340, 16209, 10180, 13092, 11724, 5813, 2380, 6067, 3080, 9048, 15645, 12632, 6466, 3661, 14354, 2706, 12111, 1012, 7914, 1808, 3099, 1476, 16050, 7828, 2914, 12884, 5492, 13617, 2532, 1022, 3677, 5405, 1541, 16208, 8307, 16344, 6130, 578, 8992, 12956, 548, 13029, 4478, 14101, 3678, 8467, 3899, 15933, 11252, 15984, 16638, 5028, 1814, 16222, 10259, 5887, 12176, 11611, 11212, 15212, 2471, 8189, 9446, 14854, 13528, 3631, 3469, 2683, 9922, 16654, 15285, 9752, 14867, 15876, 1817, 6432, 2760, 3935, 13076, 2548, 1798, 9311, 16218, 6727, 14385, 13106, 11554, 15286, 13281, 3545, 6124, 10709, 7577, 8871, 13012, 15868, 6957, 8229, 13332, 3129, 15786, 5885, 16670, 5046, 9374, 9123, 2001, 2638, 9886, 9283, 2761, 16523, 12348, 9863, 15554, 11569, 1314, 11545, 8990, 2820, 6725, 1595, 5934, 4372, 9979, 1167, 2856, 3520, 15452, 9545, 11085, 13167, 5557, 9553, 4358, 15837, 11901, 7362, 11889, 10261, 3467, 14646, 3052, 2927, 11783, 14285, 8865, 8196, 10860, 16789, 7476, 16407, 5771, 4659, 9151, 16745, 2880, 6981, 15254, 14647, 3548, 15531, 4472, 5299, 10191, 15036, 2427, 6427, 2581, 4746, 5880, 7154, 10976, 11694, 13672, 12595, 8738, 13799, 13680, 12861, 7570, 14777, 12450, 14118, 16912, 15976, 12916, 9105, 9383, 11251, 10844, 15232, 9398, 11246, 8940, 1528, 4014, 11628, 7107, 15655, 9270, 14383, 13718, 14658, 7141, 2498, 9656, 2051, 1982, 1457, 6830, 3423, 5755, 4953, 12707, 15659, 3843, 6521, 16444, 5671, 15872, 10614, 11927, 3021, 4708, 5404, 14604, 9918, 3465, 6891, 2395, 2260, 6198, 8937, 9252, 6215, 1034, 12513, 2692, 4802, 7704, 14908, 15730, 4342, 1156, 3024, 13603, 2985, 5791, 5467, 13875, 98, 4366, 13762, 16514, 9114, 8265, 12267, 13782, 5049, 13210, 15948, 4918, 12406, 9531, 8460, 6899, 1537, 16364, 1403, 2817, 9431, 13112, 10168, 7328, 4824, 16082, 2220, 16167, 4071, 1755, 14609, 16205, 3164, 11750, 5713, 11416, 4696, 7210, 3555, 13842, 7996, 8153, 1857, 9792, 8569, 6534, 5877, 16648, 4812, 14039, 12738, 15579, 6503, 5163, 3475, 9981, 6950, 5647, 1661, 16613, 5975, 4607, 6313, 13775, 2449, 13726, 3540, 2154, 1943, 16424, 1043, 27, 4417, 4559, 9674, 9608, 1577, 11429, 5452, 8855, 737, 16800, 6603, 8693, 8435, 9772, 3764, 6705, 17021, 16872, 5244, 12786, 4501, 3788, 15674, 13889, 6360, 16391, 9007, 17132, 15771, 9297, 8758, 4567, 16129, 12431, 2697, 11191, 8156, 12702, 3119, 8752, 15501, 17074, 16577, 15134, 4646, 9941, 8694, 8499, 11118, 13970, 15047, 173, 5961, 331, 11960, 3231, 616, 2205, 9091, 6902, 16742, 16279, 11380, 7307, 14995, 12740, 8087, 3989, 10082, 5469, 5726, 12195, 5875, 115, 13927, 12281, 5831, 6038, 3361, 6010, 2117, 2711, 2695, 15713, 6032, 14857, 3256, 6601, 10528, 925, 2123, 2721, 2190, 8341, 14555, 15335, 1126, 9038, 3722, 5686, 13677, 13387, 458, 16495, 2857, 1077, 13944, 17050, 5086, 4769, 13056, 8490, 5648, 5627, 16664, 8808, 13635, 1471, 4959, 6985, 11150, 1242, 5083, 8246, 7075, 17144, 9147, 1393, 11703, 12040, 3810, 8620, 2476, 10775, 329, 17167, 5030, 15590, 11095, 6363, 12818, 8951, 15539, 8268, 12976, 5969, 9589, 6975, 4788, 7249, 2099, 6345, 4685, 10982, 2246, 7589, 1908, 11793, 16971, 16764, 9377, 89, 15018, 10937, 9210, 7408, 12434, 14876, 10431, 13575, 7145, 62, 10086, 4391, 205, 16303, 14317, 3132, 7939, 5129, 13439, 1869, 7691, 14045, 15271, 12, 15859, 13951, 11440, 5797, 10174, 30, 3391, 4044, 13765, 4789, 7879, 16019, 16159, 7200, 3100, 3104, 13170, 14954, 12709, 6371, 8960, 11748, 7973, 4857, 3264, 1966, 9011, 15022, 1511, 6594, 8437, 9719, 12128, 15633, 1899, 15050, 7331, 11354, 1677, 12559, 8440, 13967, 5380, 5603, 8953, 13172, 2513, 16315, 16726, 13316, 3126, 9402, 10153, 12180, 11872, 9044, 12371, 13627, 11375, 11364, 1075, 7069, 16105, 1281, 5053, 1192, 14263, 15227, 10058, 12082, 11606, 9192, 4693, 8856, 9736, 17178, 14575, 4521, 3645, 554, 13961, 14124, 8612, 2419, 11224, 7446, 19, 1659, 2668, 1225, 571, 2675, 11634, 15196, 16723, 11264, 6711, 9338, 8173, 13420, 9970, 5818, 6514, 14207, 15573, 3310, 3117, 2458, 11481, 6648, 1747, 15803, 15696, 5276, 10444, 15339, 4577, 3759, 5389, 9040, 4849, 16244, 12879, 6662, 2098, 7731, 8665, 10507, 17186, 1153, 15252, 16458, 9223, 14999, 10951, 10114, 1388, 10577, 16535, 4184, 9261, 4838, 17067, 5460, 6022, 3447, 3212, 16564, 5139, 7680, 13407, 10498, 2404, 635, 13240, 14987, 4004, 16016, 13576, 12408, 4922, 8836, 10422, 10958, 6762, 10169, 12292, 16354, 14439, 9307, 14668, 10790, 2519, 6311, 5176, 8767, 9211, 1812, 3300, 3304, 9232, 16383, 14983, 14135, 17153, 14273, 13498, 336, 7323, 184, 12395, 14751, 5416, 2549, 8866, 1625, 12692, 17155, 14250, 13513, 12735, 4875, 8631, 7184, 4810, 1345, 8974, 10355, 16777, 16484, 11815, 5275, 13881, 7315, 15887, 7459, 305, 74, 9348, 2682, 12266, 9340, 1152, 5904, 2152, 7889, 12033, 7024, 2275, 6510, 10130, 8207, 11043, 8455, 14291, 249, 8487, 11698, 16968, 1420, 12805, 15017, 2201, 3459, 7298, 17152, 10102, 3174, 3409, 11853, 13403, 9602, 1552, 5006, 6007, 13796, 13078, 9238, 15970, 15957, 12503, 17191, 13194, 15074, 14206, 16517, 9432, 13779, 11998, 9279, 913, 11168, 16856, 15182, 10832, 2736, 13861, 16582, 10552, 13031, 12510, 11970, 6429, 11826, 11512, 2274, 9915, 14097, 16594, 3146, 14202, 14648, 6620, 9565, 4703, 3154, 6895, 183, 13746, 14410, 10698, 7420, 2961, 14379, 16537, 15661, 4348, 10413, 950, 12464, 3770, 2478, 10310, 12882, 15833, 8845, 2702, 13916, 6200, 10388, 9688, 15257, 10788, 15278, 7530, 352, 4209, 10109, 3647, 14720, 7963, 17195, 1090, 4133, 2443, 1014, 7797, 15639, 814, 13800, 3438, 2959, 14856, 10691, 3604, 1097, 4763, 1835, 14167, 344, 7498, 10975, 1169, 7976, 15533, 11451, 2946, 6004, 11888, 11103, 11846, 1202, 16106, 100, 12843, 763, 2389, 5397, 1252, 1042, 14159, 5806, 9161, 10148, 6631, 12714, 12578, 6400, 16455, 4794, 3905, 7661, 8947, 4633, 6478, 11592, 15205, 16259, 16400, 10538, 3318, 10864, 4409, 11317, 5800, 6737, 16682, 6595, 8187, 4907, 7398, 8680, 774, 3480, 15266, 9704, 12329, 5317, 13664, 2836, 6384, 8373, 4162, 1321, 12574, 10514, 11016, 14230, 670, 14176, 4855, 13425, 7903, 15787, 5394, 872, 12214, 6324, 697, 12379, 1919, 12172, 5664, 11434, 13455, 3453, 7519, 2763, 2894, 9628, 11540, 1512, 11824, 13120, 7478, 4680, 7869, 1600, 6816, 12126, 15592, 14501, 6238, 2560, 54, 1534, 680, 9310, 15700, 15546, 8107, 6235, 8154, 7494, 9666, 11986, 15777, 15879, 32, 10447, 4373, 4852, 1970, 14990, 5227, 5259, 5865, 364, 13662, 13715, 7350, 12168, 4334, 541, 6045, 9673, 1637, 259, 10262, 11358, 7450, 3925, 1317, 9447, 11962, 2742, 16012, 12872, 10808, 13007, 3519, 7443, 13064, 4129, 12899, 10187, 10421, 2973, 17042, 12031, 14121, 15381, 13595, 6500, 2383, 16323, 10493, 3951, 10425, 14489, 10356, 13399, 1623, 7874, 2998, 11850, 10056, 145, 6982, 5085, 1123, 11522, 15407, 2905, 1557, 8526, 8868, 2100, 16984, 16282, 5853, 7608, 6231, 10068, 9421, 13063, 15295, 11209, 16665, 12792, 9477, 4031, 13302, 5136, 13375, 14112, 2679, 6770, 16151, 6650, 6459, 14559, 4625, 16920, 7056, 12186, 10534, 1545, 17024, 9901, 7845, 3232, 15025, 4176, 5773, 14845, 3684, 6295, 3712, 5490, 11241, 4206, 11577, 10003, 10043, 4092, 5042, 983, 4952, 15083, 12545, 2518, 141, 3947, 16194, 6296, 15383, 2503, 15515, 14652, 14709, 4815, 8395, 15009, 166, 11875, 16871, 6531, 3888, 16784, 6993, 13537, 5817, 5589, 3243, 7651, 13346, 16240, 3202, 14722, 10401, 14455, 16228, 3415, 2041, 13929, 484, 5873, 6690, 9000, 17034, 16247, 2438, 5080, 2615, 4114, 5550, 7161, 10389, 11282, 14021, 12228, 9641, 6919, 4235, 15698, 7544, 11787, 14486, 9603, 8549, 9942, 4490, 9068, 15791, 14798, 16021, 6583, 1881, 16237, 13105, 8971, 1270, 5830, 11148, 8044, 16938, 15581, 16328, 10411, 4740, 13702, 9345, 3988, 1704, 8367, 12495, 16193, 10221, 14475, 14674, 6271, 4083, 5451, 5744, 9384, 2003, 8250, 9201, 5948, 16067, 13567, 13840, 11788, 14183, 2871, 386, 12216, 11784, 14807, 4481, 16261, 4691, 14797, 1650, 11010, 16776, 15349, 13643, 15412, 583, 13345, 3337, 10886, 3277, 16475, 6449, 13788, 9099, 3227, 7163, 11755, 10366, 9006, 6413, 16937, 11188, 2313, 7747, 2565, 6120, 1722, 11497, 13650, 8949, 8768, 16900, 1647, 9821, 16038, 6431, 12576, 13138, 8641, 13670, 7909, 9174, 5078, 13624, 11820, 9112, 3990, 3713, 14920, 5938, 16059, 10539, 15141, 4971, 6782, 14984, 14734, 9682, 13955, 5248, 16709, 13731, 9851, 14093, 12601, 13028, 5660, 12837, 13865, 5917, 2663, 3877, 11768, 3120, 5310, 4141, 9936, 9717, 12689, 11382, 13972, 1094, 12098, 1866, 12782, 12049, 3898, 10330, 4365, 1729, 3114, 11322, 2375, 6824, 8512, 4190, 14768, 16035, 2570, 7654, 12340, 12519, 15421, 11203, 8683, 7440, 278, 2790, 6593, 12045, 4159, 16033, 7727, 498, 4154, 14338, 5710, 7854, 13943, 8854, 2448, 12352, 4191, 4236, 6635, 15647, 10839, 13126, 2089, 6372, 16465, 10335, 900, 11803, 1940, 17053, 15357, 8330, 2087, 624, 1586, 2789, 14054, 327, 15737, 11283, 606, 12941, 2852, 694, 7966, 4077, 8727, 16876, 927, 11764, 16553, 16457, 4405, 11028, 10234, 15861, 16210, 5070, 6171, 2955, 16004, 7351, 7619, 15489, 10022, 95, 4143, 4554, 9061, 9870, 12719, 7549, 16766, 16919, 7015, 2042, 2575, 7561, 15104, 12455, 10857, 7635, 8194, 8778, 4736, 7516, 14231, 15625, 3502, 9606, 85, 2164, 2942, 425, 1166, 16408, 6264, 11197, 10843, 10943, 16842, 9269, 12592, 8369, 5303, 13539, 16774, 4741, 10734, 13487, 962, 9569, 6763, 1987, 8578, 7986, 9053, 16717, 12400, 988, 6416, 3428, 14691, 2363, 11573, 16692, 241, 884, 10941, 6300, 14580, 13013, 10134, 13577, 1246, 2809, 11370, 7480, 4509, 12488, 5334, 7242, 6070, 3161, 15120, 5687, 16976, 13468, 3747, 10582, 8169, 11314, 10812, 1095, 5910, 469, 6696, 10576, 13804, 13159, 13982, 13436, 4665, 7626, 1973, 13686, 7147, 12802, 10740, 1141, 5882, 2558, 10365, 15425, 15743, 3131, 5466, 15003, 14875, 10283, 8458, 1924, 14245, 16223, 12696, 3959, 4046, 15547, 14130, 12470, 10455, 835, 7693, 8411, 12038, 3301, 587, 10527, 5837, 6858, 10246, 360, 14696, 828, 1475, 4718, 12217, 3403, 11779, 17162, 1689, 14956, 12073, 10496, 607, 8096, 15197, 6914, 10750, 10884, 16486, 14398, 6147, 3892, 987, 2291, 14090, 16114, 6545, 8760, 15474, 1764, 7300, 8249, 4871, 9803, 16671, 1780, 16443, 5801, 5790, 14129, 5983, 4343, 1845, 994, 1290, 12193, 9822, 12438, 3737, 9358, 2202, 15171, 1710, 10948, 4284, 5379, 11825, 10778, 12856, 13997, 15935, 2092, 10590, 15851, 15721, 14749, 5681, 16740, 8036, 9866, 16176, 7707, 15678, 16606, 10726, 9149, 15461, 15503, 1441, 8927, 13453, 7212, 4487, 12498, 786, 13803, 9828, 4760, 2972, 8441, 5611, 1307, 558, 1574, 12016, 12010, 9733, 3441, 6974, 11981, 8200, 2330, 13974, 132, 11514, 12294, 2338, 161, 13835, 308, 2128, 8763, 10247, 10266, 11123, 10334, 1251, 16232, 13202, 5793, 7967, 5456, 7131, 11055, 14574, 7327, 15343, 1961, 1288, 8601, 2333, 16452, 8378, 7814, 12768, 5220, 9417, 10681, 16378, 11352, 1086, 8333, 11902, 8788, 2596, 642, 999, 6693, 2263, 6057, 8791, 1694, 6428, 125, 5895, 8978, 8053, 1977, 7337, 9085, 1822, 4263, 16716, 9195, 793, 6569, 4507, 15582, 15088, 16221, 430, 5867, 13727, 6969, 4512, 6241, 12594, 4636, 4749, 820, 3998, 6237, 9563, 9554, 6817, 15763, 4205, 5847, 12943, 9997, 12337, 5945, 13506, 3597, 9479, 1572, 10095, 16043, 13687, 7849, 13913, 16152, 3185, 391, 12147, 4662, 8359, 7810, 238, 7497, 5646, 14424, 9667, 2772, 4451, 11300, 8188, 12889, 13681, 16916, 16431, 626, 6479, 11099, 10938, 13386, 11192, 2090, 3416, 9370, 4304, 5508, 2727, 10888, 11674, 15710, 4620, 6358, 699, 8897, 2120, 10718, 414, 7650, 16374, 3673, 16478, 13339, 2909, 1469, 9653, 13899, 12673, 9739, 945, 7038, 14596, 4730, 6803, 17092, 10821, 4225, 7565, 4040, 1742, 3071, 834, 9671, 5011, 1836, 15494, 13856, 14237, 9047, 1568, 14899, 3356, 4667, 2366, 5536, 16170, 6299, 10561, 15308, 10418, 8309, 8176, 11407, 4247, 9800, 4961, 3105, 8088, 3498, 16588, 2949, 5323, 3833, 4997, 5987, 14213, 4026, 375, 7698, 4283, 5213, 13428, 2495, 17107, 15608, 16531, 9734, 3577, 7303, 4986, 14933, 9110, 9868, 12260, 8794, 16811, 4474, 15770, 7904, 4531, 135, 7311, 5277, 9373, 2662, 4595, 2557, 15820, 9225, 526, 5890, 7921, 14266, 13559, 15239, 3263, 5936, 6457, 8404, 129, 6639, 11281, 10074, 8481, 1258, 12064, 14006, 10101, 15139, 10889, 12638, 5225, 4999, 6967, 8424, 16639, 13079, 13703, 9850, 1280, 14134, 2572, 8218, 9710, 2287, 15831, 11648, 15995, 11199, 6249, 13534, 13391, 8718, 11950, 12854, 10314, 2530, 1083, 10376, 9098, 7762, 5577, 16930, 13486, 3328, 9926, 3827, 7504, 14859, 6104, 11075, 3977, 14283, 6219, 1734, 11995, 13035, 2877, 3708, 15051, 1243, 8611, 10019, 15736, 5483, 10333, 1509, 12427, 6641, 622, 4350, 1735, 10265, 11697, 14409, 13950, 7240, 14643, 13953, 1703, 14175, 8152, 7266, 6936, 5236, 10780, 4251, 13739, 8179, 9615, 2716, 1536, 14605, 9773, 15201, 11652, 3932, 12463, 7447, 7686, 16231, 11746, 14745, 3281, 14821, 817, 11601, 1706, 12006, 13004, 6476, 13552, 15282, 13377, 15321, 1994, 13910, 4912, 9367, 4694, 5324, 3482, 1934, 531, 15044, 721, 998, 2497, 2165, 14791, 12552, 14753, 2977, 5390, 13080, 7666, 2311, 11158, 9550, 500, 14817, 8106, 5342, 16999, 7809, 13830, 11760, 13422, 14526, 15076, 5782, 2906, 1249, 14238, 16685, 673, 16388, 12403, 5924, 11144, 1890, 6245, 15599, 8171, 2684, 8986, 1212, 14265, 1142, 16025, 4408, 2050, 9959, 8238, 15595, 4535, 14154, 4890, 7346, 16979, 1698, 13355, 11665, 12313, 15552, 15424, 7230, 15983, 4791, 14865, 6282, 8183, 3938, 3342, 7579, 420, 15231, 4493, 6225, 14656, 8020, 6563, 2953, 10610, 14828, 9840, 5112, 837, 10865, 5141, 15444, 11837, 4013, 15012, 8618, 10732, 2122, 8818, 11308, 12988, 16737, 4124, 5048, 1743, 6581, 11301, 3867, 15290, 13791, 11873, 11608, 3552, 3887, 3957, 16417, 7483, 7285, 6678, 6037, 6900, 7429, 11626, 2446, 1834, 14785, 1839, 14570, 14814, 7247, 15545, 10420, 15000, 9200, 1341, 15448, 14795, 3041, 15071, 5182, 433, 14566, 11909, 3504, 13568, 12823, 4523, 17185, 12496, 1059, 16246, 6222, 5494, 13999, 15389, 10112, 758, 6592, 8850, 8929, 1262, 3840, 6485, 11289, 17106, 16324, 14236, 10593, 16292, 9185, 12633, 13058, 8674, 8670, 7580, 14248, 13560, 10453, 4799, 13811, 15598, 6283, 2831, 12835, 6634, 11454, 6111, 4817, 6053, 1660, 1272, 5644, 412, 11893, 1222, 5624, 1515, 16868, 7215, 13001, 4772, 11229, 14256, 2411, 682, 15630, 5677, 6436, 12317, 16110, 6246, 6133, 12182, 5273, 14578, 3860, 14111, 5308, 14634, 17179, 8863, 15850, 9243, 12349, 6851, 3236, 11630, 8702, 7617, 6759, 10475, 4320, 10612, 3060, 5696, 15123, 3393, 16198, 10722, 12061, 5503, 6362, 9245, 4883, 11731, 1801, 13674, 13254, 4786, 12972, 3771, 14332, 8303, 14022, 8065, 7682, 13632, 4069, 16304, 14579, 11472, 127, 16706, 2933, 12672, 880, 16986, 10523, 13077, 11186, 3599, 16128, 12895, 14832, 8198, 13591, 15090, 13733, 2020, 10827, 8137, 11463, 4518, 402, 9196, 9215, 2269, 7469, 9757, 3529, 14274, 11835, 8518, 9301, 5165, 8790, 1121, 7583, 7550, 9994, 2357, 8161, 13414, 598, 6059, 2420, 16392, 4457, 1671, 137, 10485, 9879, 1179, 15882, 15520, 4573, 4313, 15366, 2355, 2058, 11977, 5419, 13563, 1171, 8005, 167, 13068, 14243, 5119, 3607, 11070, 1170, 10737, 7621, 15442, 1949, 3015, 10339, 290, 16819, 13882, 12896, 13196, 6374, 12527, 6894, 2672, 439, 14380, 10031, 12043, 8324, 13183, 2323, 8996, 16459, 12850, 13764, 13225, 11309, 15869, 13612, 14297, 4067, 6812, 5150, 9721, 730, 6044, 629, 11462, 16187, 863, 870, 8776, 12336, 1304, 4548, 13023, 866, 5894, 6285, 269, 16051, 14233, 1442, 13059, 12369, 13307, 10404, 12394, 4644, 14896, 5186, 13503, 15751, 11879, 1739, 15058, 9115, 11968, 755, 14196, 6082, 4830, 8102, 14309, 7837, 15330, 7053, 8240, 9319, 12316, 10501, 1068, 7319, 8977, 7728, 12914, 9938, 10595, 8602, 11766, 2629, 2174, 10293, 15996, 16462, 2054, 12908, 12952, 1436, 2004, 5964, 6791, 7231, 15646, 2844, 9260, 14976, 14520, 7197, 10763, 1461, 5309, 11357, 10588, 11991, 5436, 12855, 8345, 10627, 372, 7027, 12481, 9156, 3373, 5835, 1370, 482, 6170, 10705, 7758, 11715, 10096, 706, 7822, 11485, 12265, 2161, 8692, 4239, 9566, 2245, 3313, 2228, 4082, 2710, 6733, 6939, 5669, 3927, 7248, 139, 1683, 11684, 3958, 13573, 12448, 4158, 13485, 9482, 247, 6267, 14158, 6150, 11944, 1611, 9188, 12679, 8358, 9854, 14637, 15005, 8015, 16333, 9052, 3603, 5540, 15665, 335, 1674, 311, 3897, 4161, 14342, 10662, 401, 8609, 16132, 10971, 7851, 3912, 7870, 16227, 16393, 4570, 5330, 16168, 3515, 1323, 4248, 7603, 2590, 17000, 1875, 13073, 15671, 14229, 6201, 12804, 14420, 13002, 13536, 13596, 6768, 2714, 13821, 3004, 1598, 16668, 2517, 16288, 8259, 8386, 3920, 8543, 3420, 1800, 1514, 7798, 1965, 14776, 3010, 14387, 10406, 11993, 3303, 779, 11488, 11880, 10450, 16728, 9626, 10195, 15297, 14027, 5395, 14756, 7566, 15544, 14355, 17011, 2919, 3058, 3901, 9782, 11890, 4322, 12968, 8017, 9189, 921, 5605, 261, 15614, 9350, 15860, 13445, 13450, 10774, 14815, 8465, 2173, 13858, 13962, 1988, 1490, 8166, 12002, 11329, 10575, 1670, 5377, 6352, 6684, 16798, 8094, 16989, 8550, 9517, 4272, 2952, 12878, 7091, 12981, 11562, 3011, 5588, 1459, 7553, 4025, 5306, 14344, 4097, 2187, 1239, 5126, 1635, 16730, 13901, 11031, 10520, 9226, 7204, 1103, 11500, 4897, 2752, 9, 1645, 7701, 14068, 13586, 9705, 6321, 4785, 3194, 3940, 10664, 10887, 14280, 6954, 9336, 6442, 16166, 14765, 4458, 3463, 14507, 4298, 13180, 16190, 12511, 3149, 10659, 17085, 6547, 17141, 12335, 11135, 7766, 16322, 7739, 4027, 4165, 568, 9528, 6742, 1015, 7084, 10272, 228, 9202, 2341, 9890, 3239, 16616, 6799, 3290, 16001, 12727, 11239, 2304, 13137, 8559, 13153, 3492, 8354, 118, 8277, 15140, 3488, 12970, 4709, 8765, 610, 14000, 7776, 1884, 8919, 1407, 14649, 16948, 563, 4706, 5912, 5772, 14077, 15973, 4602, 8097, 13870, 9134, 12017, 12711, 7807, 13465, 10371, 16765, 12116, 4294, 9711, 7658, 16599, 16137, 7880, 3735, 16961, 9390, 5996, 8849, 12417, 4569, 8075, 11177, 12047, 422, 1796, 15739, 7656, 2554, 4745, 7957, 13434, 15426, 10042, 1335, 3454, 12236, 5822, 13988, 12618, 15195, 8825, 2737, 16608, 15702, 3568, 11678, 5821, 7819, 3219, 17188, 5149, 8042, 8204, 4538, 8391, 2804, 31, 15490, 13697, 10183, 8935, 4960, 10390, 6624, 10723, 189, 10942, 8418, 3749, 3038, 9765, 2769, 4792, 7360, 6421, 12183, 4650, 1665, 9302, 10957, 11593, 2583, 7715, 7209, 5145, 14052, 12218, 926, 6962, 13146, 4571, 14151, 4233, 6943, 6196, 2439, 16266, 16268, 6069, 12363, 15999, 17143, 2604, 15556, 12184, 13256, 5735, 12984, 1738, 7554, 2887, 16833, 2873, 5099, 6275, 4674, 6555, 2037, 11688, 4080, 2636, 2601, 16539, 9131, 13720, 1211, 15998, 2156, 12127, 5851, 11831, 11269, 4167, 12814, 1820, 8709, 10678, 11782, 1588, 16512, 611, 16496, 560, 2199, 16992, 10530, 7100, 15952, 16757, 10041, 10770, 4765, 10071, 13888, 13211, 7088, 3602, 8175, 8383, 4888, 390, 743, 7964, 7548, 7349, 6536, 9213, 12917, 1188, 14738, 15911, 652, 10257, 15596, 10222, 13735, 7592, 7118, 15146, 2960, 8456, 14992, 907, 3551, 12177, 6293, 11068, 2562, 11433, 5631, 11527, 13306, 14307, 13152, 291, 1236, 1631, 11129, 15688, 3895, 11052, 7151, 10044, 7127, 14164, 16293, 10486, 1819, 5437, 16203, 8725, 10309, 14848, 11312, 14707, 6284, 9695, 14081, 14735, 13362, 10735, 8851, 2353, 15908, 10352, 5959, 3872, 14473, 4316, 11137, 15094, 10547, 943, 12767, 1369, 3057, 2986, 2197, 8279, 12859, 8217, 10684, 8125, 16456, 15056, 1639, 443, 12046, 1651, 11722, 8396, 15118, 8139, 15158, 9392, 11702, 1477, 2607, 8302, 9075, 16797, 9978, 4989, 15035, 11487, 15775, 8832, 7843, 2983, 12841, 17033, 10719, 9415, 4713, 7572, 12590, 3500, 1275, 10083, 12621, 4288, 14630, 6243, 5195, 15812, 10142, 10125, 12062, 15832, 15168, 13382, 6524, 1499, 3425, 3821, 1001, 565, 8911, 16771, 16675, 5965, 14468, 2429, 2225, 16461, 5748, 1416, 5834, 5601, 11898, 10430, 762, 1644, 11146, 989, 15453, 9728, 15683, 13781, 818, 783, 13977, 12795, 7187, 11597, 15764, 14188, 8361, 4112, 13918, 10603, 9761, 10151, 5504, 4427, 15041, 9982, 1344, 3622, 8123, 6744, 15574, 17158, 12703, 16037, 12753, 15365, 7164, 9480, 13005, 14719, 15377, 2996, 12567, 16939, 7235, 11717, 14443, 1974, 6209, 9326, 12239, 13356, 15262, 14211, 12365, 2995, 13410, 3736, 1565, 10072, 5554, 11082, 220, 15097, 3657, 17026, 13117, 2361, 13360, 5197, 3211, 4477, 2198, 8740, 11249, 9142, 7775, 1997, 13527, 9074, 5922, 13525, 7649, 14013, 8112, 7030, 15068, 12749, 901, 10167, 12005, 3524, 15075, 9003, 9668, 5907, 2756, 9675, 14985, 13290, 15593, 10016, 2083, 8983, 5431, 14806, 10242, 3233, 14840, 9224, 5555, 11594, 13284, 15902, 12716, 8399, 14928, 13908, 14904, 7687, 7158, 13100, 9050, 4910, 9476, 16864, 15847, 7679, 4404, 13483, 3732, 7953, 11996, 13071, 2428, 4671, 3210, 11638, 4533, 666, 17076, 16006, 8457, 6779, 8649, 8165, 16241, 8356, 5736, 260, 1892, 11685, 15102, 4309, 4734, 4637, 5307, 7046, 9380, 4328, 8041, 10573, 7952, 9354, 157, 6085, 13192, 1230, 7736, 16904, 6155, 16188, 3148, 13847, 6084, 1454, 10564, 14264, 3159, 5741, 15249, 10833, 4036, 10375, 15015, 3255, 13987, 12648, 16142, 4790, 7425, 3910, 7378, 6028, 7829, 517, 1366, 8742, 12237, 17165, 12187, 16799, 10874, 8295, 9483, 11408, 6286, 10686, 11325, 9391, 6403, 6543, 16902, 6709, 16677, 16280, 7110, 9913, 13173, 13379, 10276, 12067, 12223, 12770, 746, 1783, 13755, 728, 14754, 2096, 2437, 14476, 1264, 2876, 5262, 10504, 4210, 1140, 857, 16813, 7059, 2750, 7647, 10338, 7366, 4541, 7770, 16572, 16084, 605, 13509, 5728, 107, 1830, 7404, 16117, 9927, 499, 8057, 12358, 16186, 16556, 13582, 13620, 9335, 16838, 5807, 17183, 13945, 12419, 6590, 11759, 5543, 11444, 6262, 10512, 13732, 15807, 8208, 15881, 8558, 16894, 10666, 4866, 15175, 6340, 16630, 13930, 16888, 10589, 4768, 1383, 2344, 8387, 2646, 3497, 7189, 2524, 10645, 10467, 11696, 10555, 8703, 528, 3378, 7757, 14557, 7627, 889, 13188, 2007, 1938, 14809, 13994, 17117, 10282, 9102, 13868, 13482, 7261, 4257, 1489, 10633, 15610, 9753, 10913, 2764, 10745, 7563, 12888, 2450, 9143, 12026, 14712, 15526, 782, 882, 7137, 3628, 15553, 10065, 4281, 6596, 9212, 2858, 1998, 3641, 1127, 5204, 1932, 16216, 13562, 2829, 2725, 6099, 12087, 9522, 3992, 5425, 6487, 13604, 7567, 12944, 12745, 3435, 13550, 14830, 11260, 9088, 9444, 1829, 8084, 1429, 3056, 5620, 1617, 11225, 5058, 12353, 6240, 9268, 5560, 5108, 2349, 9917, 6233, 7858, 7895, 1150, 3767, 9430, 11699, 15422, 15356, 1506, 5939, 17055, 10583, 14462, 7969, 13219, 8714, 7683, 2074, 3970, 7095, 8392, 14357, 3074, 13671, 16163, 1433, 13633, 6723, 713, 1724, 3740, 7601, 14653, 14638, 13931, 13125, 6676, 6247, 11392, 7641, 8690, 11030, 4429, 9502, 8050, 7928, 5693, 1826, 14636, 15163, 480, 2939, 294, 778, 4630, 6389, 10052, 16837, 16569, 12295, 6228, 2014, 16399, 5584, 8291, 9737, 8083, 14426, 7980, 7309, 17052, 286, 13659, 14432, 10400, 5994, 13045, 10231, 536, 11271, 13618, 9829, 5157, 15660, 14804, 435, 4109, 10673, 7295, 10419, 15978, 13340, 10568, 8316, 10165, 16895, 1885, 9118, 6112, 11054, 3091, 4578, 5919, 8606, 4994, 10229, 12949, 16451, 10641, 12030, 13611, 12581, 13221, 8642, 13198, 5097, 11034, 7799, 6640, 12410, 16972, 11236, 13917, 9690, 7310, 15112, 16631, 7771, 10746, 9253, 9949, 7357, 4889, 200, 12731, 11817, 4460, 7004, 1029, 12690, 14774, 9436, 17059, 11966, 14397, 15077, 10721, 8286, 8060, 14326, 6207, 3811, 3906, 2032, 13621, 13826, 899, 2435, 12971, 8598, 11673, 12258, 4330, 16030, 7182, 9018, 8733, 78, 3955, 7738, 9786, 1224, 1105, 13151, 15944, 1946, 2690, 4194, 10124, 1017, 15173, 10634, 9361, 4854, 63, 15274, 14957, 15532, 2718, 12462, 5088, 16294, 9505, 9984, 9372, 2468, 2526, 13581, 5340, 13772, 8421, 7598, 5039, 3761, 14624, 16274, 5872, 453, 8624, 3550, 17082, 5447, 11153, 10959, 712, 17200, 1776, 7503, 14569, 9869, 5151, 8222, 9084, 14384, 2377, 3209, 15565, 3705, 6492, 5524, 5071, 14328, 5716, 3549, 12115, 3823, 6660, 4355, 13685, 1786, 662, 618, 12539, 3890, 8645, 13545, 6528, 16546, 15358, 9581, 12718, 15543, 7663, 16722, 9267, 5094, 5347, 14997, 1185, 3559, 936, 6887, 7543, 10295, 4835, 8661, 11256, 5231, 10655, 5185, 15900, 14415, 8963, 9026, 5658, 12629, 9028, 12253, 8225, 13241, 4442, 3933, 10459, 15280, 2185, 14011, 1444, 7571, 12537, 11284, 1491, 5788, 916, 12605, 3863, 9113, 6897, 15486, 10084, 9630, 8068, 9834, 15264, 8536, 10649, 9141, 9179, 11196, 6465, 11458, 13272, 1911, 10139, 4724, 9810, 3486, 5567, 4267, 6556, 2859, 9457, 6357, 5950, 6740, 14862, 7471, 3866, 1473, 9804, 4173, 14200, 9748, 5432, 11449, 12476, 16862, 3639, 5211, 10916, 17075, 924, 15522, 334, 14115, 1257, 10619, 16080, 17197, 13262, 2479, 5063, 524, 14105, 3267, 16846, 14147, 15405, 9475, 734, 8719, 6051, 4929, 15337, 1571, 2674, 16360, 12479, 6672, 14131, 13236, 7857, 6166, 9568, 2523, 8127, 4292, 13906, 14144, 10687, 14072, 11044, 10961, 15186, 8434, 1336, 2422, 6668, 4841, 4111, 10184, 16302, 6248, 15471, 10091, 11400, 13570, 1957, 1895, 9127, 13258, 12789, 16367, 15519, 13688, 9990, 6694, 7890, 12836, 11780, 1237, 1129, 13248, 4944, 8710, 10440, 8720, 9576, 14935, 5418, 15706, 6468, 5374, 3968, 7587, 2792, 2777, 6554, 15884, 14697, 14943, 3674, 17048, 963, 5529, 4463, 3690, 11245, 14251, 7653, 455, 5181, 8784, 2221, 14392, 655, 225, 1862, 897, 3050, 13968, 1041, 6329, 10996, 12234, 11315, 4464, 2499, 831, 14689, 13437, 10991, 8301, 11704, 15250, 7205, 10336, 14681, 5366, 11421, 1278, 9037, 16488, 16733, 7183, 2574, 14623, 14215, 9290, 6434, 2556, 3007, 4972, 14945, 13033, 10574, 15828, 14029, 6317, 5691, 14360, 3095, 14483, 15447, 10714, 8384, 767, 16356, 7816, 15176, 13852, 9450, 5250, 1215, 3282, 1319, 5021, 6718, 1590, 10250, 852, 4579, 3894, 6105, 3389, 2034, 1428, 9955, 10489, 5329, 8500, 3525, 12285, 10237, 3710, 7177, 7827, 12755, 14515, 9255, 9546, 16207, 15222, 14525, 1296, 11081, 7789, 2508, 9187, 11388, 1318, 3855, 5116, 15106, 14042, 7257, 11142, 14267, 16335, 14218, 4516, 14459, 4796, 15892, 10094, 4302, 16803, 2189, 7033, 7700, 4449, 7999, 14939, 2664, 10592, 195, 5500, 1750, 12600, 7865, 11926, 6327, 8831, 7063, 1467, 16955, 6095, 15560, 13364, 9672, 3506, 6695, 5635, 8167, 16568, 12674, 14883, 14395, 3579, 1380, 9487, 9330, 1448, 4377, 13447, 8266, 15410, 10710, 394, 5992, 4498, 9861, 8147, 7915, 7916, 10064, 10792, 15722, 10062, 2101, 5481, 6411, 3819, 1597, 10875, 8525, 10963, 9762, 8732, 8444, 5698, 8838, 3567, 16870, 3937, 9541, 9401, 10098, 12512, 6699, 6655, 13725, 15128, 5662, 10631, 14043, 8449, 66, 16839, 13128, 6815, 637, 12118, 2464, 9462, 2796, 4433, 15277, 7842, 15960, 11134, 1923, 9601, 14679, 14932, 9657, 16281, 16330, 12876, 17139, 9789, 2902, 3832, 10410, 6134, 13357, 7021, 265, 14796, 7105, 11356, 11734, 14440, 14571, 5758, 5511, 13949, 8822, 2552, 6046, 13721, 11496, 4833, 12384, 13491, 12658, 3440, 14337, 9907, 2231, 12459, 12777, 3461, 8539, 142, 6913, 5724, 8482, 10322, 17095, 13127, 14411, 973, 13291, 16094, 14063, 14760, 138, 13819, 16761, 12483, 3924, 16884, 185, 11842, 13404, 6188, 13006, 13443, 385, 2226, 172, 6844, 2770, 5652, 10239, 14190, 2897, 12654, 15709, 11450, 3999, 16427, 10985, 16361, 15334, 10855, 9811, 4037, 3921, 6030, 2851, 13657, 5065, 3530, 12624, 4938, 3363, 10442, 13025, 7526, 7918, 16386, 3226, 12950, 3796, 2043, 12225, 2595, 4380, 4679, 975, 645, 11631, 5499, 5932, 6810, 16519, 2757, 1195, 2577, 5789, 6826, 14844, 4525, 751, 5512, 10618, 4461, 15906, 6702, 10037, 9427, 5200, 16448, 5396, 2967, 3002, 8292, 14431, 13039, 11371, 4783, 1523, 2976, 1756, 4180, 5582, 16189, 3571, 3781, 9468, 15319, 9145, 3844, 9353, 10171, 7150, 15746, 7714, 1887, 2408, 1007, 11675, 9677, 10357, 11098, 9900, 1144, 10144, 2786, 6828, 1399, 16402, 11851, 11603, 811, 3109, 5281, 4315, 14463, 12059, 12892, 5367, 9233, 15719, 14853, 15026, 3384, 8520, 15856, 7832, 11006, 12995, 15143, 2302, 12622, 5325, 7102, 12347, 17004, 2708, 13978, 6252, 11302, 4710, 11585, 12000, 15840, 14232, 2957, 4524, 16182, 10105, 4924, 3837, 8548, 14382, 9237, 11642, 4333, 7593, 5060, 37, 4532, 2969, 6951, 4618, 12368, 5670, 14698, 12644, 3984, 11778, 16886, 13293, 6546, 9814, 1871, 4356, 13515, 10500, 12374, 12862, 9106, 13810, 14185, 15393, 11447, 15002, 15137, 14543, 5414, 7954, 6519, 7672, 710, 7143, 5090, 9248, 11740, 1226, 6955, 16363, 2594, 15618, 13877, 9862, 11045, 2908, 16271, 10008, 520, 6831, 15498, 2469, 959, 15525, 1587, 11971, 1438, 11189, 11804, 8310, 13756, 9316, 6756, 3022, 7885, 7292, 2016, 15880, 1933, 1069, 14657, 442, 11645, 10776, 4739, 12693, 11093, 11535, 6845, 4003, 5092, 2599, 5113, 7186, 3411, 153, 8267, 1567, 13569, 3852, 5382, 1768, 15306, 13832, 5440, 1870, 8805, 9924, 8121, 14110, 12710, 16423, 11259, 16413, 9987, 16877, 7441, 10660, 6586, 160, 11175, 457, 1214, 4102, 13833, 14748, 13158, 510, 11176, 2176, 17029, 16317, 10009, 14390, 11320, 13229, 11580, 2013, 16739, 6301, 5189, 10458, 4200, 12617, 7838, 9410, 9355, 9599, 6788, 1708, 8622, 690, 6608, 8878, 15312, 10018, 17097, 505, 7610, 11547, 6597, 10324, 2918, 14146, 16538, 6833, 14310, 11228, 10470, 1868, 15588, 6312, 8985, 9845, 695, 13330, 4721, 15344, 7395, 4858, 11581, 16206, 8877, 223, 16795, 14282, 12167, 5619, 12725, 3503, 842, 50, 9119, 2293, 16729, 13098, 15627, 11126, 8633, 5860, 14345, 6145, 15521, 4505, 5495, 2273, 14644, 7620, 7591, 13510, 547, 13625, 13645, 4663, 11035, 12602, 10249, 5786, 5537, 9375, 11171, 1000, 17202, 8239, 12860, 13134, 775, 15087, 8770, 6525, 14940, 2258, 10140, 7262, 8033, 1339, 2285, 12242, 7259, 11931, 9419, 8667, 5321, 6795, 7820, 13971, 9506, 17066, 8248, 15462, 341, 14642, 8185, 5491, 3798, 11994, 4010, 12695, 7970, 10731, 13776, 7648, 4599, 6540, 4286, 9287, 2251, 16052, 6720, 9539, 11414, 13578, 9292, 8478, 13243, 10567, 8199, 5290, 594, 10502, 6180, 13275, 6149, 11615, 2019, 4732, 742, 3987, 388, 10278, 8966, 11862, 15216, 1782, 3914, 7898, 1519, 15664, 12565, 8698, 14918, 7665, 250, 3419, 6854, 1531, 1358, 17020, 12095, 1622, 5047, 12870, 4522, 12507, 3254, 8163, 11130, 16124, 12844, 16832, 7172, 12666, 3214, 1488, 14946, 5659, 14788, 8180, 1606, 12497, 12475, 1447, 16150, 1878, 13299, 12256, 9881, 13342, 16245, 5179, 8251, 3094, 11955, 13864, 9165, 11504, 6752, 14214, 9231, 3727, 13464, 8595, 8941, 10345, 7631, 15557, 5337, 11866, 3406, 7847, 16974, 15055, 10367, 8789, 16418, 12287, 11125, 14421, 15528, 13260, 5441, 14942, 3801, 11623, 16313, 13526, 2105, 2028, 13683, 15016, 14787, 13270, 14915, 16258, 2822, 10364, 8128, 6304, 16499, 11348, 1238, 7472, 16079, 6609, 7125, 16852, 16598, 12377, 7792, 11757, 3121, 4940, 3802, 13517, 8136, 11426, 514, 8643, 7521, 1873, 3122, 2209, 16092, 11905, 7108, 14978, 12272, 7974, 10598, 2259, 527, 7831, 3532, 954, 13421, 474, 6439, 11047, 14587, 17094, 8280, 10460, 16113, 15738, 12928, 3225, 9406, 7804, 2126, 11754, 6273, 16831, 6373, 7743, 12790, 2012, 8000, 16768, 939, 7216, 11430, 15697, 12428, 1052, 13102, 12373, 2999, 13113, 3911, 6073, 9508, 12615, 16160, 3221, 5268, 16121, 10988, 7437, 9643, 15903, 1406, 9464, 218, 1382, 9378, 11920, 6395, 5854, 12248, 12359, 14303, 9912, 3831, 25, 4941, 7590, 1807, 5953, 4268, 7321, 1418, 5288, 1334, 15272, 756, 4081, 3039, 8380, 14537, 8999, 6934, 5918, 8159, 8588, 12903, 2911, 2540, 2622, 16087, 10611, 14433, 15214, 490, 11248, 3495, 3682, 2948, 14593, 8584, 7972, 7484, 2381, 16571, 11310, 7214, 15691, 14654, 15136, 9700, 10491, 14423, 8454, 4534, 8184, 4860, 7009, 16658, 407, 4164, 2591, 8782, 14141, 9376, 3535, 8261, 7805, 10409, 6184, 10605, 7339, 11342, 15241, 808, 15449, 11555, 4300, 7711, 11677, 5995, 3341, 10720, 11479, 13922, 8757, 6043, 13958, 15707, 2828, 12706, 6701, 14665, 15915, 16770, 3426, 14417, 1316, 1918, 421, 4753, 14597, 9778, 13597, 16543, 1576, 13131, 9423, 16494, 17189, 6502, 6118, 12810, 2053, 5114, 6422, 12296, 10198, 5059, 4130, 2288, 16357, 10397, 1248, 3012, 2623, 1680, 1856, 5349, 181, 14339, 16256, 14829, 2283, 1460, 12721, 131, 7071, 13785, 14479, 4293, 6404, 3688, 13011, 16850, 4899, 14701, 13839, 3260, 9645, 11445, 12806, 7074, 10281, 13062, 11533, 5636, 13574, 3826, 7891, 13350, 254, 13046, 12701, 15174, 15732, 9343, 10193, 2132, 11590, 9264, 9351, 3624, 7500, 13667, 17028, 9749, 12318, 5898, 3696, 6221, 9078, 8933, 2740, 3000, 10642, 809, 3649, 3523, 3724, 11661, 2941, 11147, 3262, 869, 9337, 16957, 13969, 10214, 10676, 11464, 12148, 3508, 14522, 740, 10382, 1437, 8748, 2061, 2424, 14119, 3702, 15329, 2687, 16880, 15355, 3578, 2547, 10738, 13402, 15541, 11708, 5486, 13557, 11576, 1036, 16940, 1717, 8469, 14682, 8178, 6333, 14001, 10107, 5519, 71, 5743, 13546, 17146, 5785, 6083, 12575, 906, 2846, 1050, 5889, 14560, 3830, 11511, 12762, 16191, 9271, 11235, 892, 15790, 5348, 7965, 13016, 9884, 14406, 1685, 16775, 15458, 14727, 15210, 12338, 8473, 7667, 13773, 11443, 4604, 17070, 8066, 2124, 7710, 8635, 10132, 9303, 9162, 11220, 8507, 1260, 15609, 13584, 15558, 13514, 4956, 9945, 11789, 12467, 16265, 4171, 8900, 3859, 16464, 14268, 6710, 3259, 15296, 13232, 1542, 772, 17130, 7502, 802, 7250, 14143, 13308, 13816, 13041, 13935, 11475, 10797, 2568, 1309, 6637, 14258, 4958, 8340, 9397, 8339, 7740, 6533, 16394, 7944, 123, 12584, 12800, 12935, 8228, 15576, 15276, 9473, 10977, 4962, 13378, 2060, 2172, 5233, 3382, 9490, 15755, 4090, 6784, 9320, 1033, 10204, 11112, 14150, 16773, 16153, 13736, 14279, 917, 8352, 7586, 10121, 3348, 12775, 16625, 11617, 4993, 16720, 12288, 2490, 10212, 3574, 13309, 10816, 12608, 9448, 16772, 11161, 9573, 9807, 7461, 2373, 13181, 1792, 11321, 14961, 3443, 11525, 2169, 1485, 854, 12851, 14017, 10179, 7452, 13384, 13812, 13441, 15248, 1907, 3789, 12146, 12269, 3634, 9642, 2062, 16851, 14487, 359, 12445, 3315, 15378, 10298, 15524, 9746, 3876, 2510, 9544, 12955, 6131, 201, 15965, 1983, 3618, 9686, 8140, 11366, 13661, 12102, 11111, 2724, 13049, 6805, 4678, 9182, 9022, 3362, 12233, 11069, 15085, 13094, 9512, 3166, 11791, 13179, 6680, 6813, 7841, 4056, 6926, 1673, 10225, 3794, 1349, 13973, 13208, 15962, 16134, 1208, 7334, 6972, 11181, 10997, 1421, 3950, 2848, 11288, 11491, 11007, 12526, 13549, 13802, 4775, 12593, 1627, 5597, 14822, 17064, 1657, 15742, 5749, 5864, 6758, 13067, 5682, 1699, 7062, 10412, 5553, 11377, 1332, 2486, 12691, 8322, 2640, 14718, 10810, 15353, 15854, 3648, 9364, 16619, 12469, 12289, 293, 15914, 8150, 10934, 5765, 9652, 1805, 16338, 15455, 10136, 5561, 3031, 333, 1409, 5218, 12797, 15756, 8273, 152, 4985, 14010, 12027, 11947, 133, 13538, 16644, 13454, 3228, 5906, 3206, 15255, 11897, 10608, 14964, 1486, 9723, 9342, 14972, 6786, 9837, 3561, 8366, 2788, 9122, 5305, 4609, 1293, 16214, 7343, 11637, 7386, 12107, 10984, 946, 3949, 800, 10569, 17031, 2701, 4101, 13373, 1151, 5757, 4757, 5740, 8331, 6599, 4329, 6016, 8393, 9806, 8824, 14062, 12461, 3814, 14860, 13135, 16039, 8093, 5487, 14193, 1374, 13119, 7037, 164, 15370, 9910, 2158, 6836, 6378, 5850, 4723, 7524, 11395, 16061, 9629, 7396, 16652, 5283, 11113, 7136, 8211, 11605, 15428, 5106, 9510, 7863, 14320, 3533, 7684, 8746, 12904, 15606, 15459, 10549, 8839, 5014, 2975, 3587, 16744, 495, 5515, 12819, 9159, 13010, 15473, 6040, 7941, 10461, 9691, 4900, 11172, 12416, 4543, 8739, 9718, 1084, 9842, 5566, 4829, 9551, 4558, 9222, 9439, 10868, 1305, 2223, 11333, 11859, 8141, 1085, 503, 10869, 325, 6346, 11476, 15628, 5372, 14142, 12425, 14080, 10113, 13609, 879, 1455, 16679, 3314, 7971, 4582, 2936, 10690, 3245, 11205, 4905, 4453, 2834, 8981, 6331, 9969, 6169, 4652, 3460, 7418, 15011, 3130, 2146, 7019, 2489, 15512, 8245, 5844, 5839, 4982, 285, 7995, 11607, 7662, 16405, 16610, 10223, 12996, 10654, 4822, 9976, 14941, 10783, 1740, 11814, 11773, 6448, 1320, 2441, 732, 6707, 7883, 509, 14640, 11459, 7316, 11110, 937, 12477, 10206, 4287, 3695, 3617, 10443, 13933, 17208, 1430, 6504, 12846, 17170, 3651, 5038, 1002, 16830, 1958, 10381, 15204, 7379, 9799, 1044, 5210, 12197, 16034, 9620, 15406, 117, 9830, 11000, 14457, 15676, 8637, 11669, 9418, 2414, 16935, 221, 5003, 11979, 12866, 17035, 9647, 8723, 11050, 4338, 2230, 1701, 938, 7096, 7826, 13794, 16442, 6924, 14003, 16997, 10469, 13795, 2440, 14094, 4955, 3741, 1507, 3750, 10974, 850, 2567, 2522, 10632, 10900, 69, 4865, 10196, 5674, 10081, 14700, 15368, 12407, 14740, 16699, 12139, 5902, 12160, 3660, 13200, 6658, 11899, 204, 8882, 4915, 12583, 15480, 16657, 15059, 2436, 162, 9194, 9722, 14060, 604, 12123, 13825, 15753, 8376, 2931, 4592, 9511, 8880, 393, 11474, 10621, 9246, 5776, 4638, 1452, 16565, 731, 7978, 12705, 14445, 15954, 10017, 7983, 10965, 3456, 7545, 5, 6652, 1303, 15956, 3995, 3562, 6819, 11397, 3266, 647, 8186, 5287, 10385, 11529, 6335, 14827, 10092, 3619, 3061, 14573, 16046, 2885, 15939, 3292, 4363, 5084, 14717, 10472, 5947, 16816, 6281, 5255, 9999, 6532, 723, 9030, 408, 855, 13770, 6003, 736, 12442, 12472, 8506, 1667, 9716, 13741, 5640, 15658, 11709, 6054, 8873, 9217, 1714, 15766, 113, 15761, 11561, 2460, 16212, 2250, 3733, 14991, 4416, 11059, 12022, 11048, 2337, 452, 1498, 13108, 14181, 11727, 12752, 3188, 4383, 10537, 11531, 8903, 16963, 3655, 3779, 10521, 14529, 17159, 9939, 15822, 8749, 887, 10669, 5311, 14690, 2945, 11104, 13349, 5424, 379, 9609, 6651, 258, 15374, 16301, 1560, 2386, 9974, 12990, 14742, 7830, 1996, 553, 6621, 14950, 15947, 6351, 15294, 3124, 2281, 5249, 13700, 11767, 11871, 8777, 12273, 1955, 16135, 12413, 2670, 116, 12874, 2298, 6330, 13651, 165, 1148, 15919, 10115, 6675, 15689, 8003, 8233, 16276, 2619, 2923, 12137, 15013, 4617, 7975, 3430, 9072, 2778, 14441, 11206, 4793, 14846, 8315, 7632, 5599, 9163, 10847, 14005, 12012, 6576, 15230, 12323, 13768, 4113, 16497, 13203, 8372, 2270, 12923, 9931, 11976, 8587, 14416, 12598, 9140, 4751, 16334, 4271, 10761, 16058, 10369, 2038, 9973, 14160, 1325, 1410, 5056, 3697, 15166, 4021, 7960, 9564, 5237, 5712, 4966, 9895, 2157, 15793, 11506, 3432, 12322, 9244, 15451, 5302, 760, 2700, 1529, 8892, 15142, 8351, 7764, 4932, 1483, 2119, 2280, 15253, 2951, 11468, 3754, 1449, 10867, 12729, 110, 6995, 6598, 4018, 10403, 11339, 5809, 15198, 15315, 3742, 1682, 3013, 14703, 362, 11295, 9051, 14329, 9795, 11918, 14948, 5751, 18, 5998, 11409, 4291, 7629, 92, 8781, 1244, 10163, 7358, 10835, 4702, 5031, 6477, 992, 13895, 1030, 15304, 11274, 3427, 4494, 12744, 11501, 1896, 15384, 6765, 14254, 2576, 8058, 8160, 7364, 4032, 11012, 4387, 8243, 13898, 7860, 7201, 3150, 2741, 12099, 15299, 5159, 242, 12056, 16578, 15305, 4806, 14577, 14407, 3763, 5400, 13087, 11210, 9393, 2870, 271, 5689, 16869, 11828, 8636, 16873, 7007, 14224, 5721, 16474, 7532, 2753, 8010, 13209, 15119, 2815, 2249, 4553, 2421, 7780, 538, 9874, 16253, 3258, 11710, 10181, 15229, 663, 16090, 15951, 640, 7434, 2525, 3869, 9235, 3302, 16947, 16633, 10182, 2494, 10290, 15621, 10236, 8039, 11951, 13366, 7473, 15162, 4967, 4123, 16545, 4296, 10863, 2160, 16503, 17046, 14625, 5368, 6138, 12013, 4639, 7368, 2358, 4825, 17091, 15932, 450, 11218, 6366, 2433, 3063, 2271, 13458, 274, 7367, 6139, 11751, 15309, 1174, 1028, 3917, 15694, 13523, 12918, 17131, 3606, 12998, 8406, 4651, 11467, 10682, 1953, 119, 4767, 2793, 13320, 15392, 4839, 12492, 6146, 4406, 16015, 5896, 7755, 14425, 16860, 5534, 11286, 6861, 5343, 7642, 14145, 9002, 4305, 3909, 16637, 7568, 12241, 6777, 10954, 1116, 10622, 16993, 13716, 11867, 11781, 2049, 3836, 3967, 16156, 239, 15619, 2593, 10379, 10674, 10244, 1362, 12612, 13890, 4038, 4131, 6316, 9634, 2538, 16273, 13521, 6204, 13476, 7877, 11507, 4414, 3605, 3397, 10766, 8874, 4755, 13758, 8101, 175, 3370, 2621, 2913, 12563, 2387, 15784, 4244, 4566, 7330, 16640, 0, 8215, 7282, 13941, 15930, 3472, 8338, 911, 3162, 9793, 1346, 10264, 4728, 13745, 7160, 16953, 6230, 6350, 5944, 2963, 8423, 7781, 3845, 234, 795, 11839, 5131, 4840, 967, 13124, 11836, 7152, 4078, 2482, 7864, 2081, 14446, 13660, 11758, 9768, 6039, 5258, 8193, 14688, 2110, 5215, 12200, 10759, 4455, 9089, 5024, 13438, 6778, 724, 159, 4887, 2214, 9754, 3176, 16750, 2130, 3223, 3496, 5521, 9805, 10189, 12683, 7267, 15325, 2707, 4245, 10638, 11763, 12054, 8552, 7279, 1880, 12421, 10558, 15925, 14965, 4867, 871, 13034, 3448, 7318, 13975, 10898, 15931, 12355, 16072, 16483, 11627, 2506, 5020, 4510, 3077, 10405, 2634, 8055, 470, 14341, 14366, 7578, 11810, 15303, 13711, 13186, 1663, 16184, 8669, 969, 1653, 4220, 16368, 5545, 8300, 3620, 7655, 10905, 1508, 16967, 6670, 2398, 2830, 15129, 3585, 3982, 9472, 8785, 1220, 10773, 16820, 6137, 5188, 5246, 15806, 1554, 1897, 3669, 2811, 11233, 16602, 10693, 7882, 6060, 3125, 9649, 3322, 5135, 13505, 8888, 16410, 9663, 7332, 4475, 16883, 704, 5891, 13348, 4539, 7397, 15668, 7039, 8691, 15788, 6571, 9093, 12206, 16175, 10437, 2350, 7688, 13415, 16002, 5103, 16306, 16492, 14513, 16195, 16164, 1378, 13723, 3247, 5001, 8432, 12966, 6911, 8510, 2412, 15289, 6258, 13508, 960, 6921, 6867, 10192, 1789, 8938, 14208, 6511, 7505, 4146, 10516, 15505, 15642, 8807, 15217, 2463, 11683, 15189, 11892, 4483, 10667, 5628, 8181, 6254, 15924, 6677, 9209, 5849, 14113, 11493, 13122, 11887, 11155, 12516, 1904, 11019, 5293, 11038, 11700, 15061, 15527, 6159, 4699, 1324, 16320, 5289, 9538, 15283, 16371, 13484, 10640, 14582, 4715, 11254, 11733, 6021, 3023, 6176, 8970, 7716, 8214, 10993, 6027, 11823, 3590, 7098, 7669, 253, 16998, 3850, 1655, 7289, 1106, 16944, 6903, 10325, 13698, 4466, 1198, 516, 14563, 6344, 7294, 7477, 5940, 16646, 5943, 15284, 10699, 10749, 14750, 13245, 12816, 11983, 12032, 7435, 12227, 2076, 9604, 13233, 6557, 2309, 9962, 230, 11558, 6123, 4873, 11361, 8968, 8242, 10143, 11914, 13278, 10342, 8614, 14912, 14589, 2935, 7438, 6497, 9838, 5784, 12910, 7218, 7082, 1803, 9906, 343, 3776, 1478, 14257, 10782, 13365, 13653, 4758, 7430, 15886, 1229, 1889, 10040, 1299, 14270, 10646, 7018, 12350, 5796, 3609, 13960, 13838, 9164, 13928, 9058, 7673, 4396, 11494, 2920, 1143, 11244, 12205, 5411, 8111, 5617, 13845, 5897, 13492, 14743, 1781, 3320, 11453, 6876, 14847, 11498, 11975, 4969, 7910, 6550, 2289, 1005, 11609, 5722, 64, 9562, 7479, 16718, 10020, 16960, 17148, 11037, 5549, 2379, 6000, 11730, 5639, 1093, 8289, 4590, 676, 6612, 3783, 13116, 14219, 957, 14953, 10157, 16018, 6515, 14381, 675, 14894, 3554, 7122, 15487, 2806, 16700, 16604, 34, 4106, 10245, 15053, 7433, 11770, 1664, 15878, 10383, 16377, 6261, 5074, 8480, 14998, 1025, 7112, 13427, 12456, 5045, 4492, 8281, 6288, 5951, 9847, 15147, 9339, 13000, 4476, 12907, 3366, 1728, 13351, 7774, 1111, 6729, 3981, 14197, 10757, 7423, 11958, 14556, 7675, 17007, 5162, 10787, 11484, 6447, 15006, 9080, 14968, 14747, 6616, 10565, 10158, 13593, 5563, 13376, 5433, 14960, 3053, 130, 13630, 8466, 3286, 3092, 6713, 9919, 15514, 8257, 10727, 14249, 5444, 13654, 2009, 4385, 8753, 16987, 9637, 106, 13512, 4397, 9362, 2121, 11141, 1114, 11162, 4063, 6849, 6164, 10651, 13767, 2860, 16053, 3173, 7674, 8276, 12820, 9239, 14872, 12991, 12730, 4754, 5420, 13689, 9019, 10838, 14104, 9835, 16821, 14253, 14083, 13754, 10639, 4259, 3218, 14779, 9731, 3594, 7448, 6731, 643, 12508, 9333, 813, 12490, 6625, 8583, 5971, 11194, 2266, 1964, 4317, 10277, 15703, 1279, 3729, 15485, 9820, 6194, 3311, 12207, 9203, 14333, 9954, 15475, 11518, 4934, 3152, 9897, 7428, 6538, 7788, 16541, 6107, 16542, 3279, 11762, 4375, 3510, 3658, 17182, 14989, 12220, 16628, 5296, 7744, 16346, 1719, 5615, 7083, 4826, 4731, 14666, 4100, 16252, 2534, 8049, 14136, 15317, 6917, 1445, 14024, 4909, 13480, 10015, 10511, 14901, 15580, 10929, 617, 4551, 16951, 11660, 15202, 5583, 3980, 12342, 9923, 4367, 9848, 11499, 5041, 12522, 8605, 11566, 14538, 9759, 11723, 4104, 12653, 6959, 9132, 7724, 12264, 2413, 1526, 935, 3278, 13806, 8802, 15194, 6565, 14581, 8046, 1992, 13115, 17149, 8572, 10190, 6415, 12023, 10149, 10483, 8335, 8754, 7427, 7405, 15213, 196, 8162, 13252, 7079, 11739, 416, 11344, 3293, 8151, 13516, 7228, 14527, 16185, 7090, 4265, 4462, 10736, 9344, 4368, 16438, 4594, 6673, 12946, 6461, 8364, 10428, 10872, 14510, 1333, 9032, 7336, 7044, 5920, 2459, 13986, 486, 1221, 15038, 11122, 15463, 15396, 16863, 14149, 16446, 15367, 1389, 405, 10680, 10004, 7884, 16312, 464, 12801, 4701, 11139, 6935, 7732, 3369, 7076, 12075, 3474, 7745, 9857, 14594, 15594, 3944, 6232, 5037, 13646, 13587, 3854, 2512, 11912, 8812, 9041, 179, 9425, 10708, 6489, 15946, 15464, 15400, 7312, 1649, 7462, 13665, 17128, 12129, 4925, 11023, 321, 3638, 8522, 7823, 7726, 12424, 4011, 14051, 8886, 13786, 14247, 3336, 1300, 9218, 8231, 12052, 14148, 11988, 13057, 1200, 12370, 4142, 15160, 6446, 13215, 1082, 13959, 2133, 9928, 6789, 15938, 6739, 6128, 1624, 7574, 15020, 951, 12106, 13543, 4564, 3133, 707, 10076, 2666, 7628, 6687, 11223, 16404, 3880, 6414, 4469, 931, 15482, 5868, 9843, 4072, 9898, 11903, 12720, 1539, 12156, 14913, 12315, 2033, 11448, 5230, 10992, 15759, 1453, 15708, 7852, 5184, 277, 2799, 14442, 6114, 1331, 14837, 16913, 5000, 11424, 1134, 2137, 2327, 11963, 2376, 2331, 12982, 8613, 1585, 16815, 16349, 9070, 16426, 16318, 5678, 318, 15156, 12404, 14031, 6186, 16943, 6048, 4199, 3627, 4465, 8993, 4544, 193, 12839, 7602, 5679, 9699, 3458, 8360, 7155, 4803, 9556, 14474, 13244, 2588, 16636, 6110, 8557, 6946, 13479, 43, 12974, 1720, 12077, 13235, 7028, 7066, 409, 1046, 7742, 3994, 3640, 342, 15497, 5098, 13199, 2461, 1503, 816, 12088, 5061, 14728, 13369, 14290, 8419, 10856, 11510, 15789, 6495, 7887, 1843, 16853, 1313, 1183, 678, 2800, 12734, 12414, 10616, 12681, 1384, 7607, 3250, 9062, 9166, 13044, 9138, 12303, 2893, 493, 9379, 3870, 14888, 4743, 7171, 10495, 12009, 5991, 890, 13082, 15260, 10846, 16910, 282, 6736, 9975, 8942, 10306, 3786, 4603, 11830, 11657, 11419, 16691, 16111, 8711, 4321, 9858, 6090, 6818, 14812, 5224, 821, 13050, 4782, 12354, 10870, 11343, 16812, 12473, 3795, 10837, 6154, 13984, 4580, 1218, 3199, 9440, 10030, 9832, 13722, 13231, 4704, 9738, 1480, 120, 4500, 7748, 11403, 13323, 8750, 1187, 6589, 2368, 9896, 12591, 13361, 1544, 15857, 16528, 11313, 2247, 12229, 7138, 3528, 8513, 4800, 12684, 8576, 9352, 10819, 12911, 9530, 4744, 7685, 13761, 13529, 9347, 8347, 10656, 10494, 7594, 2407, 11018, 1564, 2819, 10771, 3751, 12587, 17049, 3868, 16708, 4115, 1110, 11412, 11550, 10703, 1326, 702, 4670, 9548, 764, 8227, 4942, 9137, 4376, 3861, 8956, 3481, 13919, 4324, 1608, 5985, 14120, 7220, 4186, 1205, 10177, 6380, 10876, 10803, 9572, 2723, 39, 8884, 3923, 665, 590, 1168, 12125, 2521, 4448, 15992, 1047, 2824, 15949, 1763, 8148, 1055, 11164, 9574, 9451, 5448, 599, 4698, 5023, 9600, 2145, 16250, 14884, 10441, 7623, 16561, 12838, 2073, 14929, 5666, 6167, 4434, 2791, 5759, 14949, 8795, 4413, 5173, 12779, 7569, 5558, 8573, 15028, 12339, 15773, 13024, 15164, 5820, 3297, 15430, 3340, 3569, 8035, 2319, 12628, 2608, 1791, 307, 1816, 12717, 5301, 17124, 16898, 1636, 13963, 10802, 16345, 5866, 5576, 8009, 14138, 10123, 4273, 5634, 15394, 14092, 6212, 8901, 13354, 13449, 12569, 8772, 3706, 2232, 9103, 5925, 8939, 2884, 16379, 15830, 15613, 9498, 5928, 8031, 9014, 13047, 10728, 11809, 9872, 168, 3009, 4784, 13324, 561, 11641, 12631, 2237, 10038, 13251, 14619, 11686, 16901, 10672, 12130, 4591, 8796, 4632, 13676, 14220, 5581, 13030, 6771, 5723, 3368, 5478, 6165, 12794, 15375, 209, 7533, 382, 6623, 1741, 12655, 12113, 53, 13216, 16918, 13187, 10858, 2299, 6857, 9664, 5209, 9521, 6717, 15838, 942, 12173, 16909, 2467, 7068, 7411, 9633, 12411, 12572, 8688, 2252, 8462, 3353, 380, 7488, 17098, 4127, 9294, 7612, 3167, 3107, 10209, 11883, 11662, 5596, 2631, 11928, 7089, 448, 11327, 3972, 16169, 13558, 15152, 1543, 8234, 12750, 1967, 12482, 12812, 1806, 6508, 15769, 2865, 3553, 15728, 3464, 15927, 5408, 5033, 10989, 2645, 2474, 3882, 9714, 10007, 8288, 551, 16375, 13314, 13501, 13499, 9172, 36, 5799, 12708, 5573, 16778, 7008, 12460, 4658, 10316, 4215, 4310, 10665, 9933, 3365, 1947, 11953, 12071, 10969, 15712, 1375, 2301, 11667, 3422, 2868, 3394, 1163, 12858, 2300, 9583, 6368, 10541, 11378, 7287, 441, 5869, 10964, 1909, 13027, 2227, 170, 13638, 7055, 1267, 6665, 12639, 12887, 9175, 2818, 5036, 15215, 11363, 5333, 933, 112, 12330, 7016, 9727, 12189, 15433, 14977, 2384, 491, 2573, 5571, 8034, 14008, 374, 2426, 3595, 351, 6144, 6615, 14016, 1562, 4978, 8730, 9780, 12544, 10226, 14372, 13979, 6980, 6452, 17100, 134, 7196, 11143, 5593, 12299, 14615, 6928, 5358, 10014, 3828, 11521, 6420, 8426, 5915, 12202, 14505, 2729, 4727, 10587, 16373, 908, 1016, 3407, 15811, 9046, 14067, 10529, 8038, 3714, 8817, 1995, 40, 5339, 12677, 7695, 16806, 14509, 47, 11027, 13859, 12822, 3398, 8984, 13343, 4128, 14048, 16242, 8516, 13457, 4303, 12973, 6481, 8628, 8651, 16586, 10661, 10553, 7940, 5972, 2035, 6671, 13992, 1641, 822, 15069, 14714, 2409, 9619, 224, 9513, 16014, 16270, 715, 10006, 86, 8117, 12620, 8129, 12875, 5238, 6049, 322, 3352, 14155, 5883, 3135, 8630, 8586, 915, 6630, 12007, 14870, 8385, 8192, 14088, 16983, 16108, 4431, 2798, 6274, 9128, 2571, 16931, 17111, 11632, 5350, 17002, 3153, 8961, 13472, 16701, 5132, 5062, 13433, 7979, 15870, 1350, 2597, 14086, 16103, 10748, 4231, 4415, 17080, 4750, 1392, 9660, 6834, 11465, 16650, 13084, 2325, 7552, 75, 10851, 366, 13317, 4778, 8056, 4504, 3380, 15336, 10902, 8870, 9063, 12174, 8792, 735, 8177, 4529, 349, 1365, 15275, 14877, 1089, 16518, 155, 16139, 266, 5614, 9985, 3806, 1688, 13532, 11701, 2405, 2109, 14781, 9964, 14655, 11163, 15269, 13393, 12066, 7206, 14611, 14973, 7388, 3580, 8475, 3330, 12867, 4198, 4359, 11578, 16926, 1196, 3560, 15095, 8991, 7801, 10220, 3184, 13313, 11956, 5861, 7772, 11338, 7560, 5569, 16406, 6772, 1432, 16596, 13121, 16748, 10358, 3399, 3803, 9972, 4370, 11105, 17, 6326, 8659, 3177, 9254, 7896, 5360, 13980, 304, 16071, 10987, 11294, 23, 552, 16544, 12383, 8853, 6889, 13303, 16262, 2115, 12562, 4613, 7407, 11794, 16896, 8415, 17174, 5836, 14820, 10061, 6168, 10625, 11799, 12643, 15115, 12367, 9747, 867, 9227, 9095, 1395, 10010, 5874, 6257, 4345, 10764, 625, 1504, 2071, 5109, 4923, 4842, 12766, 1026, 8932, 7314, 11183, 9751, 17047, 4467, 6116, 6370, 14352, 7507, 13530, 16513, 13273, 14102, 3433, 3929, 8554, 2739, 8728, 16213, 13423, 6537, 1975, 856, 1032, 3583, 94, 13086, 1386, 17207, 7493, 2385, 1067, 2728, 2390, 11422, 8416, 15153, 3113, 16077, 2600, 15124, 11368, 5438, 17193, 84, 11024, 12852, 9560, 2010, 12155, 7958, 8511, 16064, 4412, 6882, 14116, 781, 7159, 17058, 5881, 12997, 4064, 11557, 15110, 45, 5201, 4583, 1352, 1255, 12235, 12357, 3288, 3414, 754, 15963, 15687, 14629, 9178, 729, 4801, 13572, 12478, 11495, 14879, 11808, 4331, 3140, 9420, 8205, 17009, 15681, 3978, 8799, 13277, 6896, 8326, 11945, 9009, 12538, 12857, 2492, 3093, 9781, 3715, 9116, 7245, 14484, 5823, 10739, 16340, 5779, 6517, 15693, 12741, 15273, 15311, 14705, 12886, 4863, 419, 13507, 4016, 923, 16954, 7638, 4269, 4339, 14179, 5777, 10914, 16780, 15685, 12501, 11311, 2515, 9977, 7988, 1912, 9317, 4204, 10613, 11869, 14430, 3846, 14087, 6080, 9086, 13400, 8921, 1295, 13213, 7514, 14205, 11508, 8988, 7927, 9017, 11362, 11655, 11929, 4121, 2181, 2681, 727, 208, 11707, 11128, 9735, 8617, 12344, 12398, 1753, 6764, 15631, 16376, 15799, 3171, 5496, 1891, 14514, 1592, 14394, 8389, 9783, 5312, 2620, 2235, 17103, 7012, 7542, 12515, 4335, 12604, 3731, 9494, 15889, 13814, 5968, 5706, 9488, 12275, 5285, 2762, 10067, 6871, 4323, 5439, 10917, 1837, 13419, 12085, 8600, 3936, 13784, 2722, 3346, 17037, 6912, 10039, 1872, 7950, 3815, 12570, 14331, 14327, 2855, 16011, 4963, 9552, 16325, 14801, 11140, 15559, 11253, 9324, 2746, 2059, 628, 13663, 4117, 1404, 10554, 12697, 9429, 16125, 6780, 16027, 1825, 15772, 2307, 3321, 7490, 6287, 2543, 5270, 6774, 15401, 4278, 8946, 1124, 15379, 1468, 2774, 806, 13184, 4657, 11108, 14667, 5407, 6014, 6199, 13656, 11961, 7263, 6081, 10578, 16, 5110, 3045, 4995, 16238, 14246, 14614, 3709, 9055, 13269, 5464, 1466, 6804, 2782, 9534, 72, 4426, 12093, 14405, 2943, 13648, 5077, 1594, 1736, 12251, 9823, 16353, 10768, 15981, 8407, 2093, 11124, 11806, 15086, 15825, 11985, 8717, 2068, 4930, 6927, 16230, 7600, 5548, 3386, 7380, 9967, 3881, 8247, 17096, 3841, 11278, 1061, 11932, 4020, 11116, 5455, 4608, 13266, 928, 5878, 6268, 13831, 11489, 3265, 10920, 3020, 5816, 14800, 14980, 12120, 11719, 14874, 410, 12985, 4137, 17110, 7417, 1810, 7905, 2916, 7535, 2108, 1234, 8820, 14073, 13580, 4065, 9274, 12226, 3526, 6195, 12466, 15897, 3646, 14639, 11227, 1569, 7556, 15561, 14736, 12169, 5832, 8308, 8847, 12733, 7011, 1497, 8237, 8685, 16342, 8780, 16260, 3490, 15644, 16844, 7375, 12528, 6553, 4957, 15988, 7919, 7281, 1063, 16751, 13440, 9247, 8915, 13991, 3676, 2932, 52, 4253, 11682, 7694, 1213, 2378, 8085, 12068, 20, 4814, 16526, 16471, 4647, 6516, 5267, 5901, 3003, 15979, 12109, 9908, 6066, 8596, 14813, 4816, 3491, 12642, 2297, 9322, 1959, 9891, 7457, 8575, 11670, 12573, 2276, 17063, 5217, 12662, 15734, 5746, 1766, 4975, 9662, 14334, 12760, 6908, 8078, 2310, 11222, 5621, 785, 9741, 12532, 14554, 11957, 14936, 1379, 15918, 8439, 5556, 2480, 2029, 2196, 13873, 6410, 3945, 16453, 14488, 12080, 13220, 3112, 13085, 2292, 2826, 10700, 8969, 7341, 7010, 10785, 5257, 4552, 263, 5528, 9774, 6119, 11725, 8311, 1172, 2369, 13003, 10637, 14713, 8623, 14607, 13201, 4051, 8652, 9849, 1815, 6019, 12817, 14453, 13097, 16747, 839, 11560, 2823, 12900, 11013, 9956, 15084, 2732, 12422, 15382, 3596, 14059, 11543, 2625, 7929, 12909, 13395, 3442, 9533, 5649, 5990, 16924, 15476, 12486, 9291, 12659, 8608, 12409, 6423, 11857, 2659, 10456, 7721, 5219, 14841, 7188, 15265, 14516, 13947, 2481, 12364, 10291, 4635, 12232, 7640, 9904, 14881, 121, 9205, 11858, 15846, 3531, 15172, 8967, 14184, 16973, 16358, 12259, 10392, 13894, 4776, 15233, 4901, 17157, 9683, 8574, 3769, 14836, 6712, 8508, 16584, 7372, 16023, 511, 13533, 7886, 9481, 14518, 1968, 11022, 575, 5505, 4312, 10435, 6869, 13246, 14304, 7081, 10296, 12646, 11618, 8377, 13797, 16590, 12687, 5960, 16420, 15333, 13190, 16808, 7515, 12724, 9323, 12929, 7347, 6822, 12057, 9071, 13669, 10267, 9621, 15726, 4673, 8145, 16290, 7406, 6097, 5316, 1838, 9408, 1893, 2807, 3878, 9582, 2328, 6798, 4951, 2813, 15768, 6942, 16781, 8619, 3566, 5147, 13531, 8346, 16826, 16000, 6794, 11714, 9176, 2529, 8032, 11036, 1634, 651, 3248, 16695, 12143, 12840, 16890, 6072, 5017, 5926, 1139, 10110, 8928, 6979, 7414, 9592, 6551, 9318, 2541, 2134, 12291, 1175, 16759, 10093, 12325, 17196, 15823, 11765, 15235, 12361, 6388, 9831, 8409, 14902, 9242, 5731, 5102, 17087, 8048, 5532, 2454, 10258, 5931, 12975, 9986, 370, 369, 7139, 1737, 3611, 15039, 5357, 3773, 8844, 12382, 2022, 6724, 2466, 6748, 14552, 16814, 7630, 4881, 3237, 14988, 12051, 1638, 8930, 9437, 6307, 3076, 7207, 15980, 11565, 323, 3030, 6961, 2825, 13474, 3997, 7917, 10464, 3875, 8297, 6486, 17069, 5381, 10362, 7124, 14055, 5205, 15912, 5957, 2516, 3588, 10840, 3919, 2773, 7047, 11334, 13855, 16127, 8786, 13408, 7035, 8810, 6776, 12585, 7003, 10434, 9932, 13144, 11749, 3743, 14694, 7913, 3820, 1707, 12314, 14095, 11087, 14427, 17086, 16753, 15680, 13639, 11579, 1371, 6336, 11972, 504, 6505, 14020, 6666, 5738, 9808, 492, 14547, 11852, 14974, 15893, 6220, 16841, 2452, 13285, 3097, 9658, 12699, 976, 10035, 8503, 780, 6841, 7180, 15302, 3421, 11373, 16041, 2264, 13780, 10359, 2840, 1450, 13065, 14951, 11526, 6437, 823, 12927, 10227, 6242, 13394, 7097, 4720, 12117, 3514, 6031, 16085, 10772, 14873, 4012, 9366, 57, 15155, 16627, 4094, 12520, 6669, 11401, 7751, 4282, 623, 3862, 10394, 6890, 4053, 10178, 16179, 8936, 3778, 7465, 17045, 4473, 14551, 3686, 12485, 940, 6135, 2551, 2580, 14296, 5701, 6855, 8072, 15842, 13555, 5008, 14458, 3192, 747, 17121, 12761, 5781, 10945, 16372, 8002, 5423, 14448, 14664, 8212, 15971, 13701, 8321, 2691, 68, 4992, 3614, 2023, 14887, 3797, 6474, 4050, 5703, 1762, 7232, 2578, 4893, 1906, 2222, 3457, 8804, 2055, 6096, 7000, 16141, 15510, 8538, 8099, 7968, 11184, 4246, 1443, 8973, 3139, 2767, 3413, 226, 10814, 11672, 14336, 13524, 12796, 11658, 15502, 807, 7518, 6175, 13598, 6567, 5265, 99, 9760, 12405, 11324, 6398, 15682, 16600, 301, 9623, 10473, 14494, 14490, 705, 14982, 6808, 12089, 11636, 9697, 5175, 11919, 12529, 15226, 3900, 1322, 9876, 8722, 13750, 3168, 13280, 4906, 6042, 6009, 14542, 6848, 15635, 15404, 6023, 5286, 5859, 1495, 6178, 16532, 4178, 15852, 13268, 10685, 12743, 11813, 4908, 2853, 5029, 13015, 501, 7061, 5819, 7705, 16403, 496, 13072, 9414, 1423, 934, 1385, 5966, 15043, 4848, 11910, 7399, 7746, 13904, 10341, 5292, 15188, 16491, 16343, 6163, 11729, 2000, 12509, 4274, 3051, 81, 1867, 7348, 15634, 3809, 12682, 903, 7113, 12270, 1779, 2144, 14627, 1695, 15419, 10349, 941, 4341, 8110, 17018, 4948, 4052, 5673, 6970, 8086, 7165, 8925, 15781, 2768, 2754, 14187, 11705, 8260, 10973, 2843, 12240, 93, 7065, 7697, 6584, 10416, 6518, 12261, 3190, 13405, 4369, 3143, 5825, 9433, 468, 16524, 13069, 11101, 11332, 8223, 9183, 3478, 8924, 5140, 3952, 9940, 9299, 3319, 8697, 2445, 5699, 8073, 16101, 8488, 6747, 9801, 2821, 3379, 10599, 5421, 14386, 11868, 4707, 463, 4134, 13712, 6290, 16566, 10200, 13880, 14123, 17040, 6318, 3501, 13319, 7784, 9280, 8527, 7696, 217, 3270, 4737, 4459, 6956, 12504, 2667, 10506, 12044, 2236, 2140, 9154, 6732, 14373, 16073, 815, 14553, 178, 7115, 3376, 13641, 15564, 4520, 8318, 1697, 12517, 180, 12274, 12074, 12392, 10596, 16100, 16651, 6348, 1266, 2966, 13644, 5970, 10087, 14126, 3390, 13271, 16229, 5194, 7041, 630, 4562, 4717, 12163, 1633, 11989, 15845, 7815, 13224, 3274, 14497, 12551, 749, 7782, 10347, 12641, 16115, 11896, 2535, 7796, 49, 5241, 8024, 8124, 9937, 12542, 2240, 7531, 11423, 16707, 16314, 13249, 3200, 8663, 2678, 1204, 7092, 9930, 12161, 9989, 1632, 3252, 5999, 3452, 4920, 9043, 4974, 11427, 9295, 4843, 15220, 13696, 1602, 10907, 2191, 16977, 7276, 4513, 10479, 11790, 16966, 15620, 6129, 6870, 12343, 15281, 1177, 3493, 14789, 12201, 11185, 10980, 6579, 10154, 3242, 6292, 14810, 9010, 771, 2382, 10906, 5361, 3025, 1269, 7117, 581, 10930, 10562, 3557, 16264, 12877, 8724, 12649, 13708, 10055, 14444, 10752, 10438, 8751, 3893, 5278, 10047, 12668, 12611, 4634, 9993, 14470, 14919, 287, 10197, 14347, 9920, 6173, 2388, 788, 2150, 16663, 15408, 7668, 4216, 1582, 3884, 5375, 16660, 13893, 14066, 13288, 2127, 16702, 523, 14706, 2360, 14927, 13392, 1603, 14079, 4057, 2142, 4420, 15167, 12625, 4023, 6050, 3364, 10138, 11856, 11544, 8952, 12381, 17120, 6781, 8848, 7426, 4256, 8846, 2491, 3670, 13289, 7345, 10791, 16802, 1501, 256, 9610, 16331, 4002, 6843, 14460, 3439, 14677, 4850, 12947, 16687, 16060, 4264, 1261, 12586, 7783, 16428, 11276, 2964, 12391, 16683, 7718, 4099, 15080, 11546, 1078, 12458, 3538, 1931, 4846, 10683, 16727, 15699, 5242, 4337, 5956, 2462, 2457, 5254, 3445, 2803, 15397, 11367, 11650, 6470, 13793, 2312, 1759, 1273, 9181, 10466, 8451, 8783, 12121, 8037, 16959, 1535, 14178, 16097, 7613, 16183, 8122, 1402, 10122, 5356, 5802, 10921, 4928, 7614, 7130, 9240, 7022, 11552, 10414, 16450, 10073, 4882, 10490, 1693, 12651, 12964, 2520, 3043, 13123, 566, 210, 7444, 11001, 8332, 11193, 8625, 4039, 11668, 8255, 16885, 3128, 1397, 9593, 759, 11732, 1190, 2238, 4005, 4752, 7173, 5497, 9422, 14400, 12212, 431, 12136, 6291, 6094, 2066, 7998, 16840, 12992, 6907, 1831, 5672, 4649, 4260, 5876, 15206, 6636, 7129, 5386, 9259, 10882, 1367, 5886, 4904, 17039, 13265, 14298, 1157, 16758, 13798, 3680, 11215, 3388, 6807, 15032, 3734, 432, 8287, 3693, 17079, 3654, 7432, 16529, 7737, 6853, 6148, 7101, 16387, 15641, 1596, 12283, 13469, 12430, 9591, 14492, 11752, 5685, 13212, 16662, 885, 9035, 1620, 9594, 1751, 8943, 6933, 2563, 6342, 15065, 15904, 2056, 13460, 14676, 14065, 8349, 14478, 6152, 13613, 2889, 16843, 6750, 2113, 13952, 7722, 10866, 6552, 4091, 1049, 8857, 14863, 16147, 4228, 15623, 1733, 1301, 16714, 14056, 9478, 14545, 979, 13139, 11136, 7280, 15454, 8362, 5352, 1353, 16425, 7194, 9184, 3029, 8591, 974, 13818, 6743, 10799, 14343, 4479, 1640, 4779, 9496, 2528, 3134, 16787, 5315, 17190, 7730, 8755, 7293, 7384, 9579, 7725, 6297, 15024, 300, 9885, 16735, 16332, 4482, 4276, 5234, 15895, 4545, 16741, 13261, 11832, 3238, 14564, 9332, 15513, 11587, 2444, 8704, 3983, 2950, 3517, 15585, 12614, 454, 8987, 15122, 4030, 5729, 7236, 13442, 1551, 5178, 13554, 8013, 2759, 13456, 10374, 1411, 1761, 13813, 8955, 2248, 15438, 2131, 12588, 2239, 2780, 6078, 7085, 572, 4249, 15937, 16099, 14026, 15798, 12252, 11502, 11812, 8368, 4913, 1462, 4149, 15829, 16941, 2200, 1431, 212, 14186, 3205, 16559, 7190, 3667, 8381, 3943, 8447, 14702, 6440, 4105, 5824, 2233, 2243, 13808, 1760, 7178, 8835, 15679, 1563, 16433, 2632, 1580, 8486, 14909, 3575, 845, 9020, 5525, 14286, 6766, 7, 7260, 9980, 7356, 9021, 79, 6272, 716, 9712, 2585, 12785, 1646, 12825, 1910, 12298, 2397, 16119, 12069, 3543, 1748, 13601, 4809, 11079, 4086, 15899, 2501, 5717, 3418, 10175, 6454, 13388, 4970, 16854, 5632, 9797, 235, 9903, 8443, 10395, 3136, 4733, 11774, 12324, 4147, 15898, 15385, 14350, 10213, 6686, 14173, 12164, 2104, 11335, 791, 15203, 6011, 1347, 16749, 12105, 1745, 14826, 16618, 1828, 13753, 4748, 12897, 7557, 12208, 2406, 15607, 13141, 10487, 3701, 9228, 203, 6840, 7875, 5104, 7329, 4325, 7529, 15824, 16793, 3766, 8603, 12688, 3825, 2175, 8130, 12452, 8819, 8743, 3681, 10499, 13921, 14106, 13729, 12640, 11775, 248, 4140, 12480, 9632, 11821, 3582, 8018, 12957, 299, 3961, 1189, 16611, 3963, 733, 16436, 8327, 6075, 15057, 1115, 2719, 4157, 3187, 7644, 10811, 8896, 11202, 7546, 8405, 4232, 413, 5453, 13728, 14007, 997, 6270, 3298, 8745, 2797, 5399, 11021, 7508, 9369, 2065, 14210, 4400, 12388, 3462, 7045, 475, 2618, 11387, 13331, 2136, 8531, 5336, 8762, 17093, 16617, 13267, 6191, 15049, 3296, 3078, 8355, 12932, 5715, 8138, 2988, 5417, 1066, 13255, 10415, 1882, 15666, 10090, 4821, 392, 1073, 13946, 15549, 13719, 14346, 3613, 6012, 14921, 7702, 10319, 5073, 148, 1099, 12084, 16585, 6973, 4087, 17012, 13724, 7765, 12159, 17168, 3141, 16482, 11948, 15835, 6390, 13938, 16311, 12035, 7932, 13383, 15711, 5428, 14465, 9087, 8965, 10742, 3659, 16173, 953, 2069, 13341, 7290, 5623, 9207, 15670, 13615, 15169, 5055, 399, 11204, 6685, 11519, 16950, 10671, 2665, 13649, 12742, 14602, 14244, 8803, 8934, 12034, 512, 3359, 4068, 15690, 7876, 3019, 10584, 6901, 14934, 9504, 6158, 3601, 13149, 3081, 14199, 3034, 4242, 11187, 8213, 15288, 7818, 10162, 3327, 4598, 13909, 10377, 6160, 11848, 11908, 3284, 4224, 9257, 9934, 8170, 9263, 3521, 8365, 6480, 5459, 16990, 4585, 15445, 9584, 6322, 13109, 16858, 5125, 11841, 4311, 2036, 5929, 16796, 6471, 9278, 13026, 5128, 11092, 16042, 398, 8116, 677, 16236, 15813, 15890, 11776, 3633, 6968, 3062, 15669, 9853, 11756, 5733, 6984, 649, 12865, 10194, 16489, 7410, 6438, 8090, 14221, 6909, 1979, 5855, 692, 11057, 3726, 11671, 9839, 12963, 7734, 397, 1730, 11042, 9465, 7558, 3183, 11257, 8907, 4747, 1227, 2531, 11520, 4628, 10312, 13934, 2017, 7454, 3033, 12263, 13759, 1308, 13223, 14391, 16933, 10199, 16200, 11933, 15427, 9596, 14598, 14565, 16505, 4876, 283, 8828, 16970, 11340, 12029, 11517, 2881, 14287, 8708, 2125, 15651, 17137, 11598, 17030, 5954, 10556, 10436, 15701, 9157, 4540, 7984, 3338, 2586, 2779, 11089, 10885, 3082, 11077, 471, 6309, 15481, 16673, 16010, 14152, 14461, 2810, 5052, 2968, 16746, 13520, 16867, 295, 597, 12444, 1118, 1286, 7926, 13760, 15132, 14892, 4589, 1854, 7812, 14838, 8881, 15855, 1104, 2928, 14534, 10540, 5538, 16278, 14675, 14168, 7006, 9661, 14716, 986, 11369, 761, 1011, 9169, 8650, 14030, 13998, 17032, 15493, 12041, 17072, 4139, 8001, 1844, 7243, 275, 186, 12119, 4612, 2091, 3675, 10224, 13590, 13140, 3704, 914, 10378, 4683, 15758, 3309, 15731, 11925, 833, 10730, 10955, 12686, 7413, 16415, 16295, 1131, 15853, 3032, 12222, 7778, 8660, 6377, 9411, 8826, 589, 5609, 4314, 4528, 3333, 2472, 12713, 12616, 4601, 14204, 3229, 10986, 4669, 8328, 15617, 7893, 9191, 13169, 16233, 17205, 14924, 16540, 9888, 2733, 1054, 7114, 9532, 11040, 489, 6498, 1530, 4280, 14536, 11802, 11319, 13571, 13061, 5510, 6491, 4327, 15362, 10932, 1948, 10287, 15534, 5167, 16525, 16429, 4275, 9518, 11359, 1465, 12948, 9198, 11689, 13693, 11654, 16217, 8079, 770, 9265, 16527, 16554, 1087, 15287, 3745, 8779, 3065, 9300, 7499, 13874, 799, 12433, 1770, 3739, 15652, 8975, 1160, 7093, 11536, 14082, 16922, 753, 2359, 4640, 11280, 12853, 10305, 8945, 4151, 15208, 16116, 13381, 4756, 5766, 1311, 3466, 13191, 2138, 3672, 5271, 12969, 15921, 1681, 16284, 4687, 4336, 10591, 16932, 10604, 4308, 688, 13636, 1989, 11025, 12783, 9459, 9371, 15677, 11874, 7269, 8098, 10795, 10517, 2106, 10269, 13504, 11190, 1064, 14670, 6052, 16557, 13771, 17206, 4378, 10733, 355, 15841, 12244, 8530, 9547, 10644, 619, 270, 7982, 7193, 2785, 2900, 6361, 1550, 14775, 3993, 12003, 1076, 15993, 2589, 9507, 2432, 15323, 7709, 1723, 8537, 8502, 15987, 7324, 1962, 16690, 6325, 14601, 42, 12078, 12401, 9571, 2182, 6892, 15601, 14438, 7777, 722, 13752, 8982, 14660, 6716, 2912, 3931, 7559, 9836, 4672, 2617, 16075, 7931, 8816, 6872, 15105, 7078, 9644, 4389, 10368, 11624, 1849, 10079, 3505, 14018, 1621, 9069, 909, 641, 8219, 6965, 10643, 12021, 10706, 659, 10176, 11267, 7156, 10251, 9443, 5507, 6610, 15483, 8157, 10883, 16155, 2569, 4352, 12149, 1774, 8306, 11418, 6944, 9516, 1525, 231, 4066, 16215, 7840, 14227, 14524, 16593, 17123, 3305, 11659, 14613, 108, 6153, 9893, 16656, 9631, 1853, 6055, 13163, 16149, 10962, 6918, 958, 1614, 13647, 8540, 2048, 2693, 8562, 15923, 5803, 3960, 13473, 279, 15414, 1500, 13936, 7048, 4868, 11743, 13658, 3204, 10069, 12055, 10025, 4797, 4398, 10299, 4774, 8581, 17140, 4668, 9152, 4145, 6689, 1217, 8314, 15575, 9054, 13900, 9136, 14805, 5393, 8155, 15584, 8995, 9726, 8252, 12832, 10704, 15985, 2641, 12759, 13876, 1629, 13565, 461, 5251, 1045, 12765, 14967, 8019, 15191, 2544, 14931, 7211, 10695, 11711, 738, 12246, 11921, 7169, 2655, 11263, 4407, 12245, 7283, 12763, 13704, 15555, 3412, 15587, 5076, 6653, 16020, 9826, 15292, 6394, 8890, 13622, 10510, 14519, 545, 2026, 8427, 5010, 2253, 11231, 9359, 12280, 17129, 9587, 11470, 4203, 11843, 17127, 9855, 8515, 7439, 15092, 16583, 13237, 9841, 3308, 709, 15922, 1802, 2956, 14746, 12341, 14947, 8074, 1228, 6308, 4095, 2814, 5752, 3858, 2689, 8336, 267, 16177, 11486, 8142, 13259, 9819, 5068, 16676, 7273, 11084, 700, 15060, 14770, 7510, 14388, 949, 5007, 437, 3918, 7961, 2282, 14075, 4864, 3807, 9784, 8815, 4853, 14916, 1415, 6226, 15240, 9325, 10205, 10135, 1668, 8420, 16859, 4503, 5610, 6873, 2892, 7126, 11798, 13628, 7643, 5506, 6825, 8713, 10046, 3725, 14222, 2079, 16007, 14162, 12939, 13107, 3312, 14234, 8029, 13642, 11200, 1306, 12166, 4931, 5984, 5675, 9756, 8494, 12571, 10294, 2151, 309, 14704, 12980, 5228, 11318, 12737, 15045, 4110, 3436, 15991, 5783, 5465, 447, 5977, 15138, 12387, 4, 7517, 15031, 15443, 326, 15234, 10756, 5177, 8414, 11247, 5373, 16062, 16988, 11272, 1662, 8920, 10594, 5810, 3748, 14316, 12828, 14174, 11173, 644, 15744, 10354, 5124, 9758, 8400, 4514, 255, 826, 7255, 9107, 10711, 11480, 9387, 4229, 3799, 5641, 12680, 8615, 14782, 13276, 9356, 2606, 9617, 7520, 17166, 10448, 357, 4058, 7054, 8067, 14262, 11179, 6527, 16810, 8695, 13250, 1548, 1458, 12905, 13093, 12157, 7848, 14169, 10315, 6205, 3138, 11687, 13296, 11620, 16003, 11411, 10424, 16022, 15411, 13766, 12185, 3408, 13148, 7703, 14069, 3026, 1287, 11049, 9306, 15994, 10104, 2771, 5541, 15351, 12788, 302, 11726, 2415, 4572, 6482, 11676, 881, 5498, 8523, 14109, 16829, 9880, 13607, 1312, 15328, 10462, 3908, 3765, 6986, 9909, 3777, 9555, 16516, 8994, 2322, 7485, 5798, 1004, 3904, 2241, 16329, 10602, 16389, 12375, 7677, 2320, 16697, 10600, 11969, 429, 11614, 12919, 8463, 10432, 5392, 13396, 2784, 2539, 16123, 8662, 10256, 3564, 944, 16609, 9285, 11538, 6444, 2396, 13154, 12845, 14833, 8022, 2401, 5130, 15029, 11744, 15785, 1294, 12053, 5841, 2582, 2039, 8893, 16836, 11279, 15183, 10308, 15624, 8459, 7442, 15062, 3079, 14292, 15089, 3689, 3371, 6041, 10361, 1247, 2416, 16882, 4996, 6898, 3644, 14209, 12028, 1675, 12451, 8133, 9458, 4202, 15372, 15760, 16502, 3064, 15159, 3668, 5168, 16788, 3156, 15348, 7933, 11822, 13500, 8081, 8325, 11735, 3350, 273, 10097, 10427, 13588, 17173, 13040, 544, 14898, 15997, 466, 15745, 12864, 4914, 4891, 9180, 5720, 11002, 15740, 6977, 1991, 12704, 8737, 3679, 12931, 2216, 11737, 5980, 2024, 6197, 4597, 5427, 15040, 16476, 14311, 4586, 8337, 9388, 16667, 13150, 14831, 14868, 3608, 5539, 14752, 910, 7385, 16688, 10928, 15827, 21, 4495, 2403, 5761, 7168, 3401, 7522, 10484, 11691, 8962, 6941, 2234, 1102, 5792, 4255, 8353, 9120, 4536, 13347, 6396, 11680, 7111, 7354, 3663, 9125, 13043, 6735, 8741, 2213, 11406, 5952, 14996, 4136, 7937, 15432, 4937, 11706, 12781, 13451, 5811, 6121, 11060, 2758, 929, 9042, 4697, 13037, 621, 12665, 12178, 12951, 7802, 2052, 14485, 7103, 1079, 9094, 13359, 7051, 3283, 1494, 16056, 4049, 9860, 14070, 10572, 13197, 9349, 276, 7945, 13942, 10836, 15263, 11895, 11549, 15550, 4402, 11473, 16980, 15391, 6029, 1978, 1767, 5203, 13714, 15170, 7153, 7922, 13448, 773, 15877, 17083, 12502, 8823, 16120, 6664, 2295, 12554, 1538, 124, 5152, 7474, 1216, 9126, 15245, 6141, 6530, 4584, 13857, 9456, 17073, 6337, 13300, 12906, 10216, 1939, 11165, 1612, 14603, 5245, 10725, 2364, 8686, 10751, 4981, 15929, 7387, 5767, 9241, 16365, 14368, 1181, 15320, 9557, 10482, 8004, 5526, 7902, 15663, 7657, 1219, 3198, 14600, 7946, 11942, 15972, 9328, 7575, 6430, 2219, 6074, 11610, 14403, 12081, 1328, 4485, 4766, 15516, 1654, 15673, 5565, 14198, 3357, 4770, 14289, 6305, 9935, 12758, 8413, 2410, 12011, 3396, 543, 16715, 12669, 3351, 12965, 14895, 10880, 1976, 14685, 15103, 14076, 6925, 6953, 5913, 28, 2086, 11649, 15629, 10818, 16036, 3842, 14715, 17204, 14684, 11586, 9925, 5137, 5264, 8483, 10186, 14975, 15279, 5544, 10117, 16040, 10, 16501, 16891, 10380, 10747, 7135, 13444, 3768, 6877, 5192, 14404, 8656, 1158, 1785, 1716, 14451, 14886, 5552, 1615, 11065, 8547, 3753, 11008, 980, 11923, 13871, 15653, 12728, 12474, 4279, 3871, 13869, 4508, 5705, 7377, 16762, 5019, 2470, 6157, 14399, 11613, 4295, 15415, 12607, 17036, 9902, 14177, 5057, 3512, 7785, 12521, 1731, 2872, 2651, 5586, 4364, 3964, 12351, 11792, 12008, 13014, 9740, 146, 13130, 14437, 11712, 4561, 376, 13352, 4116, 6450, 4781, 11537, 8484, 9170, 8143, 10429, 718, 13053, 15479, 12671, 6383, 4437, 615, 9624, 4771, 2850, 14843, 1101, 6761, 7032, 8430, 16721, 10983, 6796, 2346, 2210, 4614, 12015, 14323, 1027, 15073, 6566, 11516, 9081, 9282, 3374, 5949, 5826, 11742, 459, 9400, 17089, 13851, 5174, 2262, 2477, 13182, 12014, 2812, 8479, 4445, 6349, 4983, 8023, 13389, 2713, 9992, 6314, 5997, 12568, 8912, 8814, 16635, 6256, 9817, 105, 4403, 15388, 14356, 5579, 10762, 15361, 5341, 9767, 11167, 16643, 1793, 4196, 5412, 12165, 8293, 15883, 9109, 2509, 11096, 3344, 16057, 8821, 3215, 12913, 16897, 11159, 4017, 920, 8519, 10454, 15270, 10280, 9382, 10150, 1902, 5967, 7072, 114, 6600, 9434, 4411, 2306, 6456, 14359, 14260, 790, 15395, 15518, 5477, 6549, 10716, 1851, 4759, 11884, 4183, 3317, 9236, 865, 8230, 3101, 3241, 11117, 16824, 16248, 9463, 13981, 3717, 4218, 7299, 12751, 3922, 16929, 995, 7174, 15839, 6354, 12771, 4351, 1417, 5322, 864, 3294, 16305, 15636, 14969, 14170, 13684, 6255, 11646, 919, 8043, 16192, 8014, 1057, 9108, 16786, 13431, 5546, 104, 7436, 2841, 10677, 13535, 8489, 14794, 11195, 10210, 4653, 5676, 13282, 7121, 11999, 7320, 6005, 2077, 7527, 14906, 16008, 11940, 11591, 10012, 9707, 10211, 9776, 7754, 436, 8134, 894, 11589, 11528, 3046, 1426, 6542, 15236, 16866, 15247, 5272, 7157, 4150, 3718, 11207, 2896, 12925, 1263, 14041, 14731, 8542, 4093, 14692, 4526, 1376, 8671, 8062, 14191, 14429, 883, 3208, 3656, 13954, 14622, 12847, 549, 789, 631, 3189, 5900, 5590, 15605, 752, 5591, 14034, 1914, 11379, 213, 2296, 15953, 1271, 1583, 15640, 2070, 6580, 5655, 1532, 14811, 3102, 15402, 381, 7284, 9497, 367, 3698, 13920, 8476, 8858, 4189, 10340, 513, 17154, 1146, 16350, 4676, 847, 15125, 13985, 8220, 10002, 858, 9469, 3216, 3930, 6923, 1149, 2434, 14435, 11033, 12920, 150, 13337, 10658, 10628, 1832, 4722, 9273, 7234, 6529, 12402, 3694, 9173, 9724, 10563, 15313, 2447, 11772, 9764, 11935, 17160, 10653, 17156, 4318, 9486, 4371, 12606, 12556, 1240, 5371, 6433, 3721, 4555, 15936, 14089, 6244, 16632, 1348, 3400, 7756, 12821, 2483, 14452, 14, 12133, 11640, 7146, 17172, 6101, 13368, 3291, 978, 15332, 16239, 9492, 9598, 10145, 2148, 17113, 7390, 14733, 627, 5413, 2657, 7219, 13976, 10635, 6827, 10579, 10474, 346, 14663, 9745, 9135, 12613, 12826, 14502, 1283, 14835, 8202, 9470, 11483, 14389, 14050, 6467, 1797, 4818, 128, 1472, 12912, 8829, 2550, 8428, 10925, 16575, 7304, 2147, 11353, 6183, 9577, 16905, 16591, 16161, 16641, 29, 4537, 15192, 8570, 12196, 5354, 15548, 14482, 8403, 3155, 6279, 4486, 4033, 14428, 5434, 3829, 14635, 9177, 11058, 10254, 10842, 12072, 13390, 2633, 841, 16899, 1401, 15834, 7014, 10329, 16148, 4432, 1337, 6856, 8114, 6356, 10601, 3, 5604, 7855, 12380, 4977, 5808, 10636, 7208, 16923, 17109, 10944, 2218, 13374, 6306, 502, 7633, 5531, 7383, 14481, 4289, 14671, 3896, 11094, 462, 7536, 17090, 849, 13827, 4034, 13298, 14499, 5570, 3544, 426, 13853, 10550, 9988, 739, 8869, 192, 14498, 9894, 3883, 16581, 9813, 2354, 8918, 13301, 2088, 2592, 10981, 3295, 7582, 10446, 2864, 9694, 176, 13312, 5535, 4499, 6698, 13297, 9921, 11894, 14495, 2925, 15943, 8271, 9327, 13717, 16754, 481, 13713, 9520, 2895, 11974, 14612, 5978, 7264, 8095, 16790, 13652, 8203, 10823, 9197, 10570, 15293, 10765, 7195, 5852, 9079, 891, 5043, 3449, 14539, 5263, 16341, 288, 1120, 6462, 6469, 4677, 14449, 16017, 5527, 4606, 11296, 1038, 7363, 14917, 9298, 3499, 4240, 10268, 8672, 1941, 8453, 1203, 1686, 895, 16380, 4648, 15974, 13682, 2775, 6963, 5081, 13417, 4089, 14541, 13222, 6108, 2451, 6216, 16154, 12555, 17077, 16473, 11604, 7296, 12319, 13471, 10879, 15989, 12271, 9004, 8872, 12487, 2321, 12999, 3546, 14103, 13426, 12393, 15705, 1253, 3962, 16028, 11219, 2329, 1758, 8931, 2639, 1790, 5845, 7581, 4055, 9341, 8363, 6682, 861, 4386, 9525, 16468, 1846, 9067, 15413, 11304, 16439, 8800, 13878, 6483, 7872, 1434, 7017, 1112, 5489, 5833, 13640, 10796, 14724, 14014, 6657, 6117, 17008, 1795, 14617, 13286, 4362, 14217, 3687, 2170, 488, 10307, 15465, 7463, 13054, 8887, 17027, 10243, 2650, 9859, 16044, 13675, 15046, 1176, 15808, 7588, 8258, 12302, 11619, 16172, 2748, 4984, 6310, 12863, 4035, 1186, 15440, 17017, 7951, 9277, 3089, 3405, 15439, 8629, 12933, 1482, 8158, 9523, 8119, 4443, 15113, 13133, 9659, 10789, 4234, 16605, 4360, 9875, 15184, 14293, 6156, 14772, 13446, 7908, 12198, 970, 9529, 10230, 11845, 819, 2644, 8278, 16921, 16655, 10271, 4452, 8756, 9426, 4610, 7326, 11651, 61, 4684, 11026, 14096, 6100, 9709, 15796, 4022, 17010, 10881, 11570, 4028, 6189, 2347, 4488, 3180, 8382, 1818, 9158, 14367, 17151, 5034, 5923, 16515, 10702, 10939, 10423, 7835, 14223, 4424, 3230, 2268, 487, 15001, 82, 14032, 3946, 350, 11091, 5530, 714, 2, 796, 5294, 10696, 2688, 12179, 7288, 9650, 10384, 15858, 8105, 3760, 6628, 5942, 5100, 922, 14508, 15975, 3392, 1874, 15578, 15467, 3329, 905, 8764, 6367, 1607, 9416, 13363, 12231, 14641, 11393, 10505, 7040, 15314, 6832, 3974, 13217, 5376, 8397, 5355, 10207, 14255, 5117, 12213, 11349, 12308, 15814, 3479, 6451, 7659, 10111, 16254, 5562, 5665, 1113, 5443, 5514, 14464, 12541, 15386, 14275, 5517, 11663, 14321, 2816, 14778, 13145, 8976, 5385, 13792, 1855, 2584, 1687, 10080, 8837, 12132, 310, 5064, 403, 15792, 7402, 7844, 14994, 14454, 3755, 476, 16234, 16307, 3839, 8567, 4947, 13566, 15672, 2658, 15529, 8682, 4902, 14661, 12656, 15504, 10260, 15190, 2417, 16181, 11399, 10063, 15219, 90, 804, 4041, 11415, 6464, 11718, 15724, 6086, 2254, 2944, 12042, 7825, 16204, 5207, 6364, 3966, 1360, 6964, 14271, 14618, 7564, 6323, 17084, 13614, 766, 12902, 15246, 13948, 5775, 5787, 13478, 7906, 7344, 7025, 595, 1145, 11785, 5472, 8809, 11745, 8544, 16098, 17175, 1898, 9193, 2891, 16915, 10998, 6294, 5828, 5155, 13326, 4837, 11490, 14850, 8076, 10488, 5657, 9027, 6002, 15637, 10854, 15571, 11532, 16196, 12142, 16414, 15200, 9655, 16269, 14758, 11877, 8054, 11771, 6341, 7253, 12630, 4624, 8729, 6683, 8687, 6391, 14288, 6706, 14546, 8590, 4574, 15725, 6958, 9146, 3902, 11169, 4642, 14277, 14127, 11127, 88, 5829, 17136, 9542, 13090, 404, 2082, 1935, 17013, 1861, 3652, 8040, 9160, 2244, 5908, 2064, 14808, 2883, 8564, 15130, 6663, 8905, 7959, 13592, 5319, 4919, 2188, 13589, 14281, 11145, 12114, 15399, 1024, 12535, 4807, 13834, 5138, 8664, 16310, 9455, 7424, 719, 5026, 17164, 11265, 5332, 8529, 17101, 2559, 16694, 6501, 6303, 3630, 1394, 10159, 1879, 4851, 10933, 14773, 15866, 7335, 11542, 4973, 15082, 1773, 13168, 9272, 14651, 15178, 16283, 6929, 2643, 14710, 3907, 13193, 1713, 9460, 5252, 9526, 16165, 4214, 3507, 11819, 9899, 7981, 15259, 15657, 8654, 15805, 6820, 222, 10013, 4856, 10497, 11305, 4621, 7867, 12151, 13496, 1122, 12603, 14793, 4421, 10871, 5893, 16382, 4425, 14413, 8677, 7233, 10034, 10767, 6013, 16506, 4862, 12435, 13164, 11053, 10351, 5005, 8115, 14353, 1917, 5718, 11198, 13553, 5750, 1678, 16698, 10629, 6561, 8477, 798, 3316, 3424, 16550, 9321, 2838, 3487, 4872, 10275, 11446, 13328, 7767, 5022, 15888, 16661, 8495, 3059, 4943, 12808, 6874, 8398, 3784, 6991, 8047, 2993, 4277, 6893, 11747, 4138, 2680, 15577, 6161, 4725, 3484, 7528, 14966, 11242, 8744, 5594, 2546, 4576, 15108, 11934, 11420, 15720, 15509, 7322, 5518, 11330, 13185, 5962, 1405, 4921, 11838, 6767, 3573, 6839, 10001, 2141, 10457, 9471, 10350, 15819, 3182, 11115, 13737, 13155, 9258, 4456, 3451, 6842, 15193, 7371, 13710, 16118, 10433, 13749, 4726, 14761, 4527, 6065, 15251, 11046, 5101, 216, 5493, 13740, 1231, 12188, 801, 7859, 11477, 55, 9685, 1618, 13634, 10786, 1351, 7839, 14802, 3246, 12831, 4319, 9155, 16659, 5171, 13822, 11753, 8774, 1721, 12787, 8350, 16620, 16454, 15776, 5937, 7162, 11952, 5154, 12063, 15376, 11088, 16704, 12158, 3873, 14890, 8422, 12209, 6445, 9405, 14363, 11904, 10051, 6868, 3326, 14599, 6734, 13081, 13655, 14212, 467, 13748, 11152, 10085, 9678, 3953, 14269, 1859, 65, 6407, 6182, 4073, 701, 6987, 1823, 16719, 16199, 7506, 12145, 3556, 11243, 10391, 2874, 11331, 3145, 8657, 13605, 8104, 9742, 9083, 15507, 15429, 16432, 5105, 1091, 5457, 6931, 2284, 769, 5892, 13778, 13489, 6604, 16066, 7104, 776, 14098, 17138, 7935, 16289, 5870, 8833, 13310, 13600, 15165, 1088, 14128, 13937, 11237, 378, 10755, 17115, 16615, 6513, 3269, 3996, 9029, 5370, 8646, 5843, 3847, 10923, 6852, 7229, 8980, 169, 14567, 16396, 12420, 12772, 13481, 319, 10657, 1986, 6289, 593, 8926, 3584, 9057, 13606, 9495, 15181, 7920, 11834, 4556, 12238, 8471, 16337, 8813, 5629, 13824, 9519, 16828, 2485, 16755, 6880, 7464, 11653, 8696, 6646, 2958, 16440, 6523, 10292, 2279, 6775, 4197, 13699, 15818, 9025, 12346, 7317, 16848, 3539, 6393, 7340, 9056, 237, 1107, 7881, 5180, 12518, 1233, 427, 13070, 16592, 8534, 11066, 14855, 4119, 5471, 985, 15491, 14157, 7453, 10332, 9540, 10551, 1021, 13668, 6507, 7394, 5274, 1533, 7353, 13905, 6989, 243, 711, 8917, 573, 6719, 824, 4185, 17198, 1993, 2937, 15324, 14621, 4542, 16083, 15420, 14891, 7237, 5737, 3306, 16336, 11596, 13315, 4261, 4711, 13989, 6034, 3787, 4423, 7750, 3703, 5403, 13075, 11381, 8736, 1492, 16045, 13902, 16508, 1456, 15387, 14361, 12494, 2611, 14562, 9293, 7541, 15472, 15650, 8913, 2676, 8241, 4517, 16725, 10217, 16965, 1927, 3271, 16093, 15010, 567, 4878, 4980, 3969, 14261, 12930, 3711, 5054, 4811, 13470, 12247, 7712, 10777, 5988, 14107, 15369, 6539, 14993, 10813, 14576, 10967, 6885, 17150, 984, 11149, 9527, 12664, 6806, 245, 15099, 8262, 5012, 13104, 4568, 9953, 10525, 15955, 6115, 14019, 7833, 13844, 15826, 1006, 3127, 211, 5415, 17022, 6787, 4148, 13801, 506, 2374, 10399, 6940, 4661, 9346, 2139, 5479, 9732, 15506, 13, 12181, 7415, 17112, 14061, 9983, 5320, 7584, 16567, 15950, 7977, 9586, 4208, 3752, 6008, 1056, 1599, 13608, 5442, 6402, 4550, 6585, 15154, 11428, 15704, 8374, 8059, 2399, 11915, 8979, 15733, 14568, 3965, 87, 11297, 4480, 13747, 6715, 14472, 3849, 15127, 2598, 4219, 16647, 961, 1235, 13757, 1553, 6626, 698, 8445, 15542, 9266, 5973, 417, 15116, 2940, 16449, 11072, 15157, 12144, 1285, 12243, 6614, 451, 1527, 14156, 13599, 584, 4666, 140, 2507, 1604, 10127, 5463, 297, 3541, 6838, 14203, 1092, 292, 10240, 5580, 2537, 14358, 16263, 1972, 5051, 7134, 7936, 3151, 825, 478, 9407, 14340, 15809, 7636, 10398, 4098, 2163, 13257, 2167, 3367, 1108, 4611, 7634, 12873, 9073, 6922, 15536, 8348, 11402, 4885, 15782, 12784, 11811, 6605, 3485, 4326, 10337, 15941, 4719, 4575, 4221, 10908, 5383, 2179, 8705, 10252, 7376, 3536, 1315, 3299, 10970, 6253, 14192, 371, 5079, 794, 5838, 1098, 1863, 11452, 3193, 5429, 7013, 465, 1125, 2094, 7393, 16509, 7116, 13849, 358, 11515, 1609, 7779, 11936, 15434, 9435, 13017, 7752, 2212, 4169, 15600, 6588, 12310, 10396, 683, 396, 1298, 5191, 874, 14979, 1130, 8216, 6405, 16469, 5318, 16818, 3857, 9503, 603, 10048, 10953, 13165, 10824, 4212, 6172, 11777, 16109, 1610, 14189, 15267, 8070, 4729, 11039, 5351, 14669, 111, 4227, 15562, 1929, 1778, 862, 13477, 6071, 757, 8964, 10208, 7026, 4990, 7523, 9403, 11107, 9744, 4773, 3664, 5607, 14480, 13694, 868, 6263, 15692, 14645, 13579, 16574, 3804, 14493, 14503, 4384, 10926, 13966, 9329, 3047, 12880, 320, 1684, 10321, 7817, 1133, 5642, 7419, 8551, 6681, 3683, 2971, 562, 1558, 11436, 8, 56, 5123, 6276, 1605, 14038, 7355, 13556, 14517, 7202, 10533, 5856, 8632, 10896, 1593, 8319, 8577, 7956, 4557, 11563, 3865, 2002, 16734, 16629, 11797, 6938, 12712, 17180, 14970, 6417, 16597, 9262, 9963, 829, 13409, 15390, 7179, 13335, 3581, 2970, 14044, 8655, 9950, 6966, 7899, 5445, 3434, 2899, 6692, 12942, 10478, 8731, 10522, 9509, 8706, 1058, 10303, 9363, 7761, 7846, 4468, 16686, 6319, 9567, 16752, 7769, 3268, 7268, 14726, 4836, 12960, 6126, 10807, 9033, 12637, 12945, 2989, 16296, 5516, 3746, 5359, 12994, 16969, 16794, 13836, 13637, 8648, 6266, 16395, 17142, 9296, 3758, 6627, 15862, 13897, 9133, 8862, 7934, 5401, 1956, 1850, 2612, 6406, 9957, 8852, 122, 3707, 14447, 3723, 15150, 15864, 6656, 10284, 2215, 2370, 10526, 10848, 2011, 10743, 3275, 12471, 2047, 13544, 11738, 3249, 8898, 10028, 2317, 4401, 11299, 2453, 3782, 10524, 12754, 14369, 14252, 5143, 5050, 14047, 10219, 6915, 6937, 2085, 7338, 5909, 12262, 5986, 9654, 2652, 4688, 1920, 10663, 5645, 3835, 7604, 246, 4511, 15261, 15774, 340, 15750, 15572, 7455, 1847, 10005, 4828, 2647, 16219, 16047, 15100, 13338, 3075, 16257, 16669, 38, 3036, 1062, 11005, 2290, 9281, 8028, 6619, 9679, 8417, 9249, 1291, 16081, 570, 477, 1666, 6419, 2465, 97, 2046, 15500, 614, 11287, 14364, 10518, 16421, 5239, 6860, 10373, 13329, 12809, 1292, 13542, 12979, 6801, 8580, 7005, 4043, 10066, 6103, 16029, 6797, 16445, 2217, 5446, 6425, 5927, 2979, 438, 7144, 4172, 15470, 16945, 7938, 9167, 5502, 4008, 16626, 16681, 16299, 4084, 16086, 9824, 10859, 13074, 13493, 7699, 15537, 13372, 8197, 2801, 15466, 843, 11911, 4195, 12277, 5827, 3067, 2484, 9313, 6460, 4024, 8885, 1109, 12110, 6063, 2206, 6076, 810, 6397, 15511, 9595, 6730]\n",
      "[13060, 1628, 16447, 3331, 12634, 2715, 9755, 13253, 2787, 6773, 14851, 494, 10285, 5082, 7167, 5768, 2654, 16275, 9368, 8707, 16381, 10650, 4861, 15735, 1990, 3280, 17184, 6269, 5009, 12756, 5247, 17025, 11886, 2204, 339, 4346, 8735, 4879, 10000, 424, 5734, 16995, 7943, 16576, 8089, 5313, 3954, 15597, 15977, 14683, 15258, 4177, 1546, 6541, 13118, 4623, 3774, 1201, 2324, 17201, 7862, 6997, 15256, 2685, 12977, 5454, 16162, 15221, 13541, 6206, 12423, 6607, 3864, 6379, 14272, 16520, 4144, 3874, 10515, 2624, 7265, 14216, 14595, 3610, 11347, 10936, 14012, 187, 5840, 530, 1876, 12626, 2097, 904, 10103, 13923, 7912, 2511, 232, 7244, 15144, 2738, 10712, 14699, 11796, 5747, 2342, 4820, 877, 5353, 14897, 215, 15199, 10318, 5804, 17016, 16463, 1570, 11417, 8798, 4237, 1510, 518, 4927, 2075, 10024, 16287, 876, 12780, 11807, 7225, 9952, 11878, 8899, 13843, 6526, 10891, 8080, 7412, 15223, 14166, 2587, 12389, 1821, 13891, 11913, 4009, 10798, 3851, 14295, 7723, 1727, 696, 8533, 16076, 6399, 13048, 13452, 2487, 6642, 1771, 6302, 16291, 16308, 12748, 7308, 4519, 13295, 16649, 10580, 14058, 5142, 5606, 3824, 5638, 11860, 5688, 12940, 6193, 2186, 5663, 5345, 15873, 5976, 7660, 15398, 7271, 12103, 8640, 14725, 16369, 1284, 12597, 6298, 2705, 10402, 8312, 8721, 12162, 2992, 1578, 8902, 13807, 5388, 2994, 4120, 3991, 3385, 2898, 9005, 7166, 10054, 832, 7306, 4645, 9612, 7175, 16623, 9289, 2747, 8568, 11457, 7834, 4166, 6412, 4223, 12385, 5335, 12891, 9676, 12921, 328, 4988, 15656, 1425, 14419, 16696, 8236, 9485, 7256, 1338, 4795, 14194, 10232, 17041, 3251, 2934, 12961, 13435, 10286, 11350, 190, 9428, 15341, 10543, 3144, 15926, 13564, 12489, 12138, 11217, 58, 6227, 1391, 16130, 6058, 14467, 3626, 11664, 15456, 5846, 11930, 4682, 10172, 15570, 12224, 12830, 13459, 8876, 11156, 12094, 14235, 9887, 16907, 8830, 2842, 16549, 3040, 16277, 16533, 3834, 1952, 9785, 12019, 9008, 6998, 6369, 7786, 6353, 10815, 16070, 298, 12983, 4700, 13083, 13021, 3637, 2781, 12309, 7291, 16272, 8408, 6143, 10694, 3455, 2854, 16197, 634, 13132, 7176, 13096, 8679, 1794, 7942, 15964, 11374, 9168, 11656, 5547, 11795, 9916, 8438, 17163, 5170, 5559, 16547, 1330, 1842, 11100, 9864, 16430, 15403, 3325, 13380, 16994, 1368, 9139, 11090, 4418, 12636, 5475, 444, 6142, 9944, 6214, 9199, 10609, 8959, 9536, 2456, 13385, 5364, 6024, 7768, 2045, 1250, 3207, 3431, 12154, 1364, 1858, 2114, 9570, 6674, 12577, 13925, 8118, 7302, 5206, 10850, 10546, 2614, 15715, 9077, 8317, 9681, 11201, 15121, 16809, 8585, 2735, 16009, 9100, 6654, 11900, 12079, 12453, 11255, 11073, 4506, 12124, 8174, 6359, 11106, 10481, 5482, 4297, 2863, 6026, 59, 16666, 4163, 12278, 16645, 354, 9815, 7540, 6265, 8673, 2500, 15457, 15098, 7468, 10744, 9636, 8027, 17054, 16226, 8889, 10408, 11602, 15523, 4207, 9798, 15359, 4357, 9775, 638, 4000, 14377, 6484, 8594, 2731, 2162, 14672, 3813, 348, 15602, 15638, 8535, 16521, 5654, 7836, 12732, 10806, 5196, 14561, 4301, 1575, 745, 11376, 12018, 12869, 16005, 15913, 16510, 15566, 16032, 13518, 14511, 12848, 9082, 7618, 13956, 16493, 10049, 10758, 15477, 4976, 7325, 9445, 3808, 15418, 13940, 12001, 9499, 12523, 3272, 9951, 8071, 16712, 8092, 4738, 14401, 15821, 14880, 3354, 5363, 14040, 13903]\n"
     ]
    },
    {
     "name": "stdout",
     "output_type": "stream",
     "text": [
      "[[0.00000e+00 1.00000e+00 0.00000e+00 ... 0.00000e+00 1.24056e+05\n",
      "  3.00000e+00]\n",
      " [1.00000e+00 0.00000e+00 0.00000e+00 ... 0.00000e+00 1.18644e+05\n",
      "  5.00000e+00]\n",
      " [0.00000e+00 1.00000e+00 0.00000e+00 ... 0.00000e+00 1.07742e+05\n",
      "  1.00000e+00]\n",
      " ...\n",
      " [0.00000e+00 1.00000e+00 0.00000e+00 ... 3.00000e+00 9.37710e+04\n",
      "  4.00000e+00]\n",
      " [0.00000e+00 1.00000e+00 0.00000e+00 ... 2.00000e+00 1.23860e+04\n",
      "  2.00000e+00]\n",
      " [0.00000e+00 1.00000e+00 0.00000e+00 ... 0.00000e+00 6.32750e+04\n",
      "  0.00000e+00]]\n",
      "[[1.00000e+00 0.00000e+00 0.00000e+00 ... 1.00000e+00 7.27990e+04\n",
      "  5.00000e+00]\n",
      " [0.00000e+00 1.00000e+00 0.00000e+00 ... 0.00000e+00 7.41920e+04\n",
      "  0.00000e+00]\n",
      " [0.00000e+00 1.00000e+00 0.00000e+00 ... 0.00000e+00 4.66970e+04\n",
      "  2.00000e+00]\n",
      " ...\n",
      " [0.00000e+00 0.00000e+00 1.00000e+00 ... 0.00000e+00 3.32260e+04\n",
      "  0.00000e+00]\n",
      " [0.00000e+00 0.00000e+00 1.00000e+00 ... 0.00000e+00 5.55420e+04\n",
      "  0.00000e+00]\n",
      " [0.00000e+00 1.00000e+00 0.00000e+00 ... 4.00000e+00 1.58727e+05\n",
      "  4.00000e+00]]\n"
     ]
    }
   ],
   "source": [
    "## Randomly sample cases to create independent training and test data\n",
    "nr.seed(9988)\n",
    "indx = range(AdvWork_MM.shape[0])\n",
    "indx = ms.train_test_split(indx, test_size = 500)\n",
    "\n",
    "X_train = AdvWork_MM[indx[0],:]\n",
    "y_train = np.ravel(labels[indx[0]])\n",
    "X_test = AdvWork_MM[indx[1],:]\n",
    "y_test = np.ravel(labels[indx[1]])"
   ]
  },
  {
   "cell_type": "code",
   "execution_count": 19,
   "metadata": {},
   "outputs": [],
   "source": [
    "## Randomly sample cases to create independent training and test data\n",
    "nr.seed(9988)\n",
    "indx = range(AdvWork_MM.shape[0])\n",
    "indx = ms.train_test_split(indx, test_size = 500)\n",
    "\n",
    "X_train = AdvWork_MM[indx[0],:]\n",
    "y_train = np.ravel(labels[indx[0]])\n",
    "X_test = AdvWork_MM[indx[1],:]\n",
    "y_test = np.ravel(labels[indx[1]])\n"
   ]
  },
  {
   "cell_type": "code",
   "execution_count": 20,
   "metadata": {},
   "outputs": [
    {
     "data": {
      "text/plain": [
       "array([[0.00000000e+00, 1.00000000e+00, 0.00000000e+00, 0.00000000e+00,\n",
       "        0.00000000e+00, 0.00000000e+00, 1.00000000e+00, 0.00000000e+00,\n",
       "        0.00000000e+00, 1.00000000e+00, 0.00000000e+00, 1.00000000e+00,\n",
       "        0.00000000e+00, 0.00000000e+00, 1.24056000e+05, 5.81213684e-01],\n",
       "       [1.00000000e+00, 0.00000000e+00, 0.00000000e+00, 0.00000000e+00,\n",
       "        1.00000000e+00, 0.00000000e+00, 0.00000000e+00, 0.00000000e+00,\n",
       "        1.00000000e+00, 0.00000000e+00, 0.00000000e+00, 1.00000000e+00,\n",
       "        2.00000000e+00, 0.00000000e+00, 1.18644000e+05, 1.76771331e+00]])"
      ]
     },
     "execution_count": 20,
     "metadata": {},
     "output_type": "execute_result"
    }
   ],
   "source": [
    "scaler = preprocessing.StandardScaler().fit(X_train[:,15:])\n",
    "X_train[:,15:] = scaler.transform(X_train[:,15:])\n",
    "X_test[:,15:] = scaler.transform(X_test[:,15:]) \n",
    "X_train[:2,]"
   ]
  },
  {
   "cell_type": "code",
   "execution_count": 21,
   "metadata": {},
   "outputs": [
    {
     "data": {
      "text/plain": [
       "LogisticRegression(C=1.0, class_weight=None, dual=False, fit_intercept=True,\n",
       "          intercept_scaling=1, max_iter=100, multi_class='ovr', n_jobs=1,\n",
       "          penalty='l2', random_state=None, solver='liblinear', tol=0.0001,\n",
       "          verbose=0, warm_start=False)"
      ]
     },
     "execution_count": 21,
     "metadata": {},
     "output_type": "execute_result"
    }
   ],
   "source": [
    "logistic_mod = linear_model.LogisticRegression() \n",
    "logistic_mod.fit(X_train, y_train)"
   ]
  },
  {
   "cell_type": "code",
   "execution_count": 22,
   "metadata": {},
   "outputs": [
    {
     "name": "stdout",
     "output_type": "stream",
     "text": [
      "[-0.09915061]\n",
      "[[-6.58421617e-02  5.45382574e-03 -3.87622716e-02 -3.72069042e-02\n",
      "  -2.38957441e-03 -3.48659696e-02  1.49294138e-02 -3.96175731e-02\n",
      "  -8.42243124e-02 -1.49262952e-02 -1.02850172e-01  3.69956407e-03\n",
      "  -4.01924808e-02  2.68804097e-01 -4.99400580e-06  1.23165338e-01]]\n"
     ]
    }
   ],
   "source": [
    "print(logistic_mod.intercept_)\n",
    "print(logistic_mod.coef_)"
   ]
  },
  {
   "cell_type": "code",
   "execution_count": 23,
   "metadata": {},
   "outputs": [
    {
     "name": "stdout",
     "output_type": "stream",
     "text": [
      "[[0.54686369 0.45313631]\n",
      " [0.68335304 0.31664696]\n",
      " [0.61923641 0.38076359]\n",
      " [0.58735417 0.41264583]\n",
      " [0.74261934 0.25738066]\n",
      " [0.65703272 0.34296728]\n",
      " [0.67724795 0.32275205]\n",
      " [0.67036166 0.32963834]\n",
      " [0.62498124 0.37501876]\n",
      " [0.23480952 0.76519048]\n",
      " [0.661184   0.338816  ]\n",
      " [0.7207322  0.2792678 ]\n",
      " [0.64890319 0.35109681]\n",
      " [0.65423193 0.34576807]\n",
      " [0.6654742  0.3345258 ]]\n"
     ]
    }
   ],
   "source": [
    "probabilities = logistic_mod.predict_proba(X_test)\n",
    "print(probabilities[:15,:])"
   ]
  },
  {
   "cell_type": "code",
   "execution_count": null,
   "metadata": {},
   "outputs": [],
   "source": []
  },
  {
   "cell_type": "code",
   "execution_count": 24,
   "metadata": {},
   "outputs": [
    {
     "name": "stdout",
     "output_type": "stream",
     "text": [
      "[0 0 0 0 0 0 0 0 0 1 0 0 0 0 0]\n",
      "[1 0 0 1 0 0 1 0 1 1 0 1 0 0 0]\n"
     ]
    }
   ],
   "source": [
    "def score_model(probs, threshold):\n",
    "    return np.array([1 if x > threshold else 0 for x in probs[:,1]])\n",
    "scores = score_model(probabilities, 0.50)\n",
    "print(np.array(scores[:15]))\n",
    "print(y_test[:15])"
   ]
  },
  {
   "cell_type": "code",
   "execution_count": 25,
   "metadata": {},
   "outputs": [
    {
     "name": "stdout",
     "output_type": "stream",
     "text": [
      "                 Confusion matrix\n",
      "                 Score positive    Score negative\n",
      "Actual positive       315                21\n",
      "Actual negative       100                64\n",
      "\n",
      "Accuracy  0.76\n",
      " \n",
      "           Positive      Negative\n",
      "Num case      336           164\n",
      "Precision    0.76          0.75\n",
      "Recall       0.94          0.39\n",
      "F1           0.84          0.51\n"
     ]
    }
   ],
   "source": [
    "def print_metrics(labels, scores):\n",
    "    metrics = sklm.precision_recall_fscore_support(labels, scores)\n",
    "    conf = sklm.confusion_matrix(labels, scores)\n",
    "    print('                 Confusion matrix')\n",
    "    print('                 Score positive    Score negative')\n",
    "    print('Actual positive    %6d' % conf[0,0] + '             %5d' % conf[0,1])\n",
    "    print('Actual negative    %6d' % conf[1,0] + '             %5d' % conf[1,1])\n",
    "    print('')\n",
    "    print('Accuracy  %0.2f' % sklm.accuracy_score(labels, scores))\n",
    "    print(' ')\n",
    "    print('           Positive      Negative')\n",
    "    print('Num case   %6d' % metrics[3][0] + '        %6d' % metrics[3][1])\n",
    "    print('Precision  %6.2f' % metrics[0][0] + '        %6.2f' % metrics[0][1])\n",
    "    print('Recall     %6.2f' % metrics[1][0] + '        %6.2f' % metrics[1][1])\n",
    "    print('F1         %6.2f' % metrics[2][0] + '        %6.2f' % metrics[2][1])\n",
    "\n",
    "  \n",
    "print_metrics(y_test, scores)     "
   ]
  },
  {
   "cell_type": "code",
   "execution_count": 26,
   "metadata": {},
   "outputs": [
    {
     "data": {
      "image/png": "[encoded data removed]",
      "text/plain": [
       "<Figure size 432x288 with 1 Axes>"
      ]
     },
     "metadata": {
      "needs_background": "light"
     },
     "output_type": "display_data"
    }
   ],
   "source": [
    "def plot_auc(labels, probs):\n",
    "    ## Compute the false positive rate, true positive rate\n",
    "    ## and threshold along with the AUC\n",
    "    fpr, tpr, threshold = sklm.roc_curve(labels, probs[:,1])\n",
    "    auc = sklm.auc(fpr, tpr)\n",
    "    \n",
    "    ## Plot the result\n",
    "    plt.title('Receiver Operating Characteristic')\n",
    "    plt.plot(fpr, tpr, color = 'orange', label = 'AUC = %0.2f' % auc)\n",
    "    plt.legend(loc = 'lower right')\n",
    "    plt.plot([0, 1], [0, 1],'r--')\n",
    "    plt.xlim([0, 1])\n",
    "    plt.ylim([0, 1])\n",
    "    plt.ylabel('True Positive Rate')\n",
    "    plt.xlabel('False Positive Rate')\n",
    "    plt.show()\n",
    "    \n",
    "plot_auc(y_test, probabilities)    "
   ]
  },
  {
   "cell_type": "code",
   "execution_count": 27,
   "metadata": {},
   "outputs": [
    {
     "name": "stderr",
     "output_type": "stream",
     "text": [
      "/home/nbuser/anaconda3_501/lib/python3.6/site-packages/sklearn/metrics/classification.py:1135: UndefinedMetricWarning: Precision and F-score are ill-defined and being set to 0.0 in labels with no predicted samples.\n",
      "  'precision', 'predicted', average, warn_for)\n"
     ]
    },
    {
     "name": "stdout",
     "output_type": "stream",
     "text": [
      "                 Confusion matrix\n",
      "                 Score positive    Score negative\n",
      "Actual positive       336                 0\n",
      "Actual negative       164                 0\n",
      "\n",
      "Accuracy  0.67\n",
      " \n",
      "           Positive      Negative\n",
      "Num case      336           164\n",
      "Precision    0.67          0.00\n",
      "Recall       1.00          0.00\n",
      "F1           0.80          0.00\n"
     ]
    },
    {
     "data": {
      "image/png": "[encoded data removed]",
      "text/plain": [
       "<Figure size 432x288 with 1 Axes>"
      ]
     },
     "metadata": {
      "needs_background": "light"
     },
     "output_type": "display_data"
    }
   ],
   "source": [
    "probs_positive = np.concatenate((np.ones((probabilities.shape[0], 1)), \n",
    "                                 np.zeros((probabilities.shape[0], 1))),\n",
    "                                 axis = 1)\n",
    "scores_positive = score_model(probs_positive, 0.5)\n",
    "print_metrics(y_test, scores_positive)  \n",
    "plot_auc(y_test, probs_positive) "
   ]
  },
  {
   "cell_type": "code",
   "execution_count": 28,
   "metadata": {},
   "outputs": [
    {
     "data": {
      "text/plain": [
       "LogisticRegression(C=1.0, class_weight={0: 0.45, 1: 0.55}, dual=False,\n",
       "          fit_intercept=True, intercept_scaling=1, max_iter=100,\n",
       "          multi_class='ovr', n_jobs=1, penalty='l2', random_state=None,\n",
       "          solver='liblinear', tol=0.0001, verbose=0, warm_start=False)"
      ]
     },
     "execution_count": 28,
     "metadata": {},
     "output_type": "execute_result"
    }
   ],
   "source": [
    "logistic_mod = linear_model.LogisticRegression(class_weight = {0:0.45, 1:0.55}) \n",
    "logistic_mod.fit(X_train, y_train)"
   ]
  },
  {
   "cell_type": "code",
   "execution_count": 29,
   "metadata": {},
   "outputs": [
    {
     "name": "stdout",
     "output_type": "stream",
     "text": [
      "[[0.60668397 0.39331603]\n",
      " [0.70833967 0.29166033]\n",
      " [0.70597804 0.29402196]\n",
      " [0.53988152 0.46011848]\n",
      " [0.68148291 0.31851709]\n",
      " [0.76803033 0.23196967]\n",
      " [0.75121903 0.24878097]\n",
      " [0.55119021 0.44880979]\n",
      " [0.79244893 0.20755107]\n",
      " [0.10408351 0.89591649]\n",
      " [0.6624537  0.3375463 ]\n",
      " [0.79076877 0.20923123]\n",
      " [0.61422695 0.38577305]\n",
      " [0.7697771  0.2302229 ]\n",
      " [0.84483791 0.15516209]]\n"
     ]
    }
   ],
   "source": [
    "probabilities = logistic_mod.predict_proba(X_test)\n",
    "print(probabilities[:15,:])"
   ]
  },
  {
   "cell_type": "code",
   "execution_count": 30,
   "metadata": {},
   "outputs": [
    {
     "name": "stdout",
     "output_type": "stream",
     "text": [
      "                 Confusion matrix\n",
      "                 Score positive    Score negative\n",
      "Actual positive       304                32\n",
      "Actual negative        73                91\n",
      "\n",
      "Accuracy  0.79\n",
      " \n",
      "           Positive      Negative\n",
      "Num case      336           164\n",
      "Precision    0.81          0.74\n",
      "Recall       0.90          0.55\n",
      "F1           0.85          0.63\n"
     ]
    },
    {
     "data": {
      "image/png": "[encoded data removed]",
      "text/plain": [
       "<Figure size 432x288 with 1 Axes>"
      ]
     },
     "metadata": {
      "needs_background": "light"
     },
     "output_type": "display_data"
    }
   ],
   "source": [
    "scores = score_model(probabilities, 0.5)\n",
    "print_metrics(y_test, scores)  \n",
    "plot_auc(y_test, probabilities)  "
   ]
  },
  {
   "cell_type": "code",
   "execution_count": 31,
   "metadata": {},
   "outputs": [
    {
     "name": "stdout",
     "output_type": "stream",
     "text": [
      "\n",
      "For threshold = 0.45\n",
      "                 Confusion matrix\n",
      "                 Score positive    Score negative\n",
      "Actual positive       295                41\n",
      "Actual negative        64               100\n",
      "\n",
      "Accuracy  0.79\n",
      " \n",
      "           Positive      Negative\n",
      "Num case      336           164\n",
      "Precision    0.82          0.71\n",
      "Recall       0.88          0.61\n",
      "F1           0.85          0.66\n",
      "\n",
      "For threshold = 0.4\n",
      "                 Confusion matrix\n",
      "                 Score positive    Score negative\n",
      "Actual positive       281                55\n",
      "Actual negative        60               104\n",
      "\n",
      "Accuracy  0.77\n",
      " \n",
      "           Positive      Negative\n",
      "Num case      336           164\n",
      "Precision    0.82          0.65\n",
      "Recall       0.84          0.63\n",
      "F1           0.83          0.64\n",
      "\n",
      "For threshold = 0.35\n",
      "                 Confusion matrix\n",
      "                 Score positive    Score negative\n",
      "Actual positive       252                84\n",
      "Actual negative        50               114\n",
      "\n",
      "Accuracy  0.73\n",
      " \n",
      "           Positive      Negative\n",
      "Num case      336           164\n",
      "Precision    0.83          0.58\n",
      "Recall       0.75          0.70\n",
      "F1           0.79          0.63\n",
      "\n",
      "For threshold = 0.3\n",
      "                 Confusion matrix\n",
      "                 Score positive    Score negative\n",
      "Actual positive       214               122\n",
      "Actual negative        37               127\n",
      "\n",
      "Accuracy  0.68\n",
      " \n",
      "           Positive      Negative\n",
      "Num case      336           164\n",
      "Precision    0.85          0.51\n",
      "Recall       0.64          0.77\n",
      "F1           0.73          0.62\n",
      "\n",
      "For threshold = 0.25\n",
      "                 Confusion matrix\n",
      "                 Score positive    Score negative\n",
      "Actual positive       160               176\n",
      "Actual negative        18               146\n",
      "\n",
      "Accuracy  0.61\n",
      " \n",
      "           Positive      Negative\n",
      "Num case      336           164\n",
      "Precision    0.90          0.45\n",
      "Recall       0.48          0.89\n",
      "F1           0.62          0.60\n"
     ]
    }
   ],
   "source": [
    "def test_threshold(probs, labels, threshold):\n",
    "    scores = score_model(probs, threshold)\n",
    "    print('')\n",
    "    print('For threshold = ' + str(threshold))\n",
    "    print_metrics(labels, scores)\n",
    "\n",
    "thresholds = [0.45, 0.40, 0.35, 0.3, 0.25]\n",
    "for t in thresholds:\n",
    "    test_threshold(probabilities, y_test, t)"
   ]
  },
  {
   "cell_type": "code",
   "execution_count": null,
   "metadata": {},
   "outputs": [],
   "source": []
  }
 ],
 "metadata": {
  "kernelspec": {
   "display_name": "Python 3.6",
   "language": "python",
   "name": "python36"
  },
  "language_info": {
   "codemirror_mode": {
    "name": "ipython",
    "version": 3
   },
   "file_extension": ".py",
   "mimetype": "text/x-python",
   "name": "python",
   "nbconvert_exporter": "python",
   "pygments_lexer": "ipython3",
   "version": "3.6.6"
  }
 },
 "nbformat": 4,
 "nbformat_minor": 2
}
