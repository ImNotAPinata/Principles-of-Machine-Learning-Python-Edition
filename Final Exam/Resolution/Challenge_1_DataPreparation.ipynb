{
 "cells": [
  {
   "cell_type": "code",
   "execution_count": 1,
   "metadata": {},
   "outputs": [],
   "source": [
    "import pandas as pd\n",
    "import matplotlib.pyplot as plt\n",
    "import seaborn as sns\n",
    "import numpy as np\n",
    "import numpy.random as nr\n",
    "import math\n",
    "\n",
    "%matplotlib inline"
   ]
  },
  {
   "cell_type": "code",
   "execution_count": 2,
   "metadata": {},
   "outputs": [
    {
     "data": {
      "text/html": [
       "<div>\n",
       "<style scoped>\n",
       "    .dataframe tbody tr th:only-of-type {\n",
       "        vertical-align: middle;\n",
       "    }\n",
       "\n",
       "    .dataframe tbody tr th {\n",
       "        vertical-align: top;\n",
       "    }\n",
       "\n",
       "    .dataframe thead th {\n",
       "        text-align: right;\n",
       "    }\n",
       "</style>\n",
       "<table border=\"1\" class=\"dataframe\">\n",
       "  <thead>\n",
       "    <tr style=\"text-align: right;\">\n",
       "      <th></th>\n",
       "      <th>CustomerID</th>\n",
       "      <th>Title</th>\n",
       "      <th>FirstName</th>\n",
       "      <th>MiddleName</th>\n",
       "      <th>LastName</th>\n",
       "      <th>Suffix</th>\n",
       "      <th>AddressLine1</th>\n",
       "      <th>AddressLine2</th>\n",
       "      <th>City</th>\n",
       "      <th>StateProvinceName</th>\n",
       "      <th>...</th>\n",
       "      <th>BirthDate</th>\n",
       "      <th>Education</th>\n",
       "      <th>Occupation</th>\n",
       "      <th>Gender</th>\n",
       "      <th>MaritalStatus</th>\n",
       "      <th>HomeOwnerFlag</th>\n",
       "      <th>NumberCarsOwned</th>\n",
       "      <th>NumberChildrenAtHome</th>\n",
       "      <th>TotalChildren</th>\n",
       "      <th>YearlyIncome</th>\n",
       "    </tr>\n",
       "  </thead>\n",
       "  <tbody>\n",
       "    <tr>\n",
       "      <th>0</th>\n",
       "      <td>11000</td>\n",
       "      <td>?</td>\n",
       "      <td>Jon</td>\n",
       "      <td>V</td>\n",
       "      <td>Yang</td>\n",
       "      <td>?</td>\n",
       "      <td>3761 N. 14th St</td>\n",
       "      <td>?</td>\n",
       "      <td>Rockhampton</td>\n",
       "      <td>Queensland</td>\n",
       "      <td>...</td>\n",
       "      <td>1966-04-08</td>\n",
       "      <td>Bachelors</td>\n",
       "      <td>Professional</td>\n",
       "      <td>M</td>\n",
       "      <td>M</td>\n",
       "      <td>1</td>\n",
       "      <td>0</td>\n",
       "      <td>0</td>\n",
       "      <td>2</td>\n",
       "      <td>137947</td>\n",
       "    </tr>\n",
       "    <tr>\n",
       "      <th>1</th>\n",
       "      <td>11001</td>\n",
       "      <td>?</td>\n",
       "      <td>Eugene</td>\n",
       "      <td>L</td>\n",
       "      <td>Huang</td>\n",
       "      <td>?</td>\n",
       "      <td>2243 W St.</td>\n",
       "      <td>?</td>\n",
       "      <td>Seaford</td>\n",
       "      <td>Victoria</td>\n",
       "      <td>...</td>\n",
       "      <td>1965-05-14</td>\n",
       "      <td>Bachelors</td>\n",
       "      <td>Professional</td>\n",
       "      <td>M</td>\n",
       "      <td>S</td>\n",
       "      <td>0</td>\n",
       "      <td>1</td>\n",
       "      <td>3</td>\n",
       "      <td>3</td>\n",
       "      <td>101141</td>\n",
       "    </tr>\n",
       "    <tr>\n",
       "      <th>2</th>\n",
       "      <td>11002</td>\n",
       "      <td>?</td>\n",
       "      <td>Ruben</td>\n",
       "      <td>?</td>\n",
       "      <td>Torres</td>\n",
       "      <td>?</td>\n",
       "      <td>5844 Linden Land</td>\n",
       "      <td>?</td>\n",
       "      <td>Hobart</td>\n",
       "      <td>Tasmania</td>\n",
       "      <td>...</td>\n",
       "      <td>1965-08-12</td>\n",
       "      <td>Bachelors</td>\n",
       "      <td>Professional</td>\n",
       "      <td>M</td>\n",
       "      <td>M</td>\n",
       "      <td>1</td>\n",
       "      <td>1</td>\n",
       "      <td>3</td>\n",
       "      <td>3</td>\n",
       "      <td>91945</td>\n",
       "    </tr>\n",
       "    <tr>\n",
       "      <th>3</th>\n",
       "      <td>11003</td>\n",
       "      <td>?</td>\n",
       "      <td>Christy</td>\n",
       "      <td>?</td>\n",
       "      <td>Zhu</td>\n",
       "      <td>?</td>\n",
       "      <td>1825 Village Pl.</td>\n",
       "      <td>?</td>\n",
       "      <td>North Ryde</td>\n",
       "      <td>New South Wales</td>\n",
       "      <td>...</td>\n",
       "      <td>1968-02-15</td>\n",
       "      <td>Bachelors</td>\n",
       "      <td>Professional</td>\n",
       "      <td>F</td>\n",
       "      <td>S</td>\n",
       "      <td>0</td>\n",
       "      <td>1</td>\n",
       "      <td>0</td>\n",
       "      <td>0</td>\n",
       "      <td>86688</td>\n",
       "    </tr>\n",
       "    <tr>\n",
       "      <th>4</th>\n",
       "      <td>11004</td>\n",
       "      <td>?</td>\n",
       "      <td>Elizabeth</td>\n",
       "      <td>?</td>\n",
       "      <td>Johnson</td>\n",
       "      <td>?</td>\n",
       "      <td>7553 Harness Circle</td>\n",
       "      <td>?</td>\n",
       "      <td>Wollongong</td>\n",
       "      <td>New South Wales</td>\n",
       "      <td>...</td>\n",
       "      <td>1968-08-08</td>\n",
       "      <td>Bachelors</td>\n",
       "      <td>Professional</td>\n",
       "      <td>F</td>\n",
       "      <td>S</td>\n",
       "      <td>1</td>\n",
       "      <td>4</td>\n",
       "      <td>5</td>\n",
       "      <td>5</td>\n",
       "      <td>92771</td>\n",
       "    </tr>\n",
       "  </tbody>\n",
       "</table>\n",
       "<p>5 rows × 23 columns</p>\n",
       "</div>"
      ],
      "text/plain": [
       "   CustomerID Title  FirstName MiddleName LastName Suffix  \\\n",
       "0       11000     ?        Jon          V     Yang      ?   \n",
       "1       11001     ?     Eugene          L    Huang      ?   \n",
       "2       11002     ?      Ruben          ?   Torres      ?   \n",
       "3       11003     ?    Christy          ?      Zhu      ?   \n",
       "4       11004     ?  Elizabeth          ?  Johnson      ?   \n",
       "\n",
       "          AddressLine1 AddressLine2         City StateProvinceName  \\\n",
       "0      3761 N. 14th St            ?  Rockhampton        Queensland   \n",
       "1           2243 W St.            ?      Seaford          Victoria   \n",
       "2     5844 Linden Land            ?       Hobart          Tasmania   \n",
       "3     1825 Village Pl.            ?   North Ryde   New South Wales   \n",
       "4  7553 Harness Circle            ?   Wollongong   New South Wales   \n",
       "\n",
       "       ...        BirthDate   Education    Occupation Gender MaritalStatus  \\\n",
       "0      ...       1966-04-08  Bachelors   Professional      M             M   \n",
       "1      ...       1965-05-14  Bachelors   Professional      M             S   \n",
       "2      ...       1965-08-12  Bachelors   Professional      M             M   \n",
       "3      ...       1968-02-15  Bachelors   Professional      F             S   \n",
       "4      ...       1968-08-08  Bachelors   Professional      F             S   \n",
       "\n",
       "  HomeOwnerFlag NumberCarsOwned NumberChildrenAtHome  TotalChildren  \\\n",
       "0             1               0                    0              2   \n",
       "1             0               1                    3              3   \n",
       "2             1               1                    3              3   \n",
       "3             0               1                    0              0   \n",
       "4             1               4                    5              5   \n",
       "\n",
       "   YearlyIncome  \n",
       "0        137947  \n",
       "1        101141  \n",
       "2         91945  \n",
       "3         86688  \n",
       "4         92771  \n",
       "\n",
       "[5 rows x 23 columns]"
      ]
     },
     "execution_count": 2,
     "metadata": {},
     "output_type": "execute_result"
    }
   ],
   "source": [
    "AdvWorksCusts = pd.read_csv('AdvWorksCusts.csv')\n",
    "AdvWorksCusts.head(5)"
   ]
  },
  {
   "cell_type": "code",
   "execution_count": 3,
   "metadata": {},
   "outputs": [
    {
     "data": {
      "text/html": [
       "<div>\n",
       "<style scoped>\n",
       "    .dataframe tbody tr th:only-of-type {\n",
       "        vertical-align: middle;\n",
       "    }\n",
       "\n",
       "    .dataframe tbody tr th {\n",
       "        vertical-align: top;\n",
       "    }\n",
       "\n",
       "    .dataframe thead th {\n",
       "        text-align: right;\n",
       "    }\n",
       "</style>\n",
       "<table border=\"1\" class=\"dataframe\">\n",
       "  <thead>\n",
       "    <tr style=\"text-align: right;\">\n",
       "      <th></th>\n",
       "      <th>CustomerID</th>\n",
       "      <th>AveMonthSpend</th>\n",
       "    </tr>\n",
       "  </thead>\n",
       "  <tbody>\n",
       "    <tr>\n",
       "      <th>0</th>\n",
       "      <td>11000</td>\n",
       "      <td>89</td>\n",
       "    </tr>\n",
       "    <tr>\n",
       "      <th>1</th>\n",
       "      <td>11001</td>\n",
       "      <td>117</td>\n",
       "    </tr>\n",
       "    <tr>\n",
       "      <th>2</th>\n",
       "      <td>11002</td>\n",
       "      <td>123</td>\n",
       "    </tr>\n",
       "    <tr>\n",
       "      <th>3</th>\n",
       "      <td>11003</td>\n",
       "      <td>50</td>\n",
       "    </tr>\n",
       "    <tr>\n",
       "      <th>4</th>\n",
       "      <td>11004</td>\n",
       "      <td>95</td>\n",
       "    </tr>\n",
       "  </tbody>\n",
       "</table>\n",
       "</div>"
      ],
      "text/plain": [
       "   CustomerID  AveMonthSpend\n",
       "0       11000             89\n",
       "1       11001            117\n",
       "2       11002            123\n",
       "3       11003             50\n",
       "4       11004             95"
      ]
     },
     "execution_count": 3,
     "metadata": {},
     "output_type": "execute_result"
    }
   ],
   "source": [
    "AW_AveMonthSpend = pd.read_csv('AW_AveMonthSpend.csv')\n",
    "AW_AveMonthSpend.head(5)"
   ]
  },
  {
   "cell_type": "code",
   "execution_count": 4,
   "metadata": {},
   "outputs": [
    {
     "data": {
      "text/html": [
       "<div>\n",
       "<style scoped>\n",
       "    .dataframe tbody tr th:only-of-type {\n",
       "        vertical-align: middle;\n",
       "    }\n",
       "\n",
       "    .dataframe tbody tr th {\n",
       "        vertical-align: top;\n",
       "    }\n",
       "\n",
       "    .dataframe thead th {\n",
       "        text-align: right;\n",
       "    }\n",
       "</style>\n",
       "<table border=\"1\" class=\"dataframe\">\n",
       "  <thead>\n",
       "    <tr style=\"text-align: right;\">\n",
       "      <th></th>\n",
       "      <th>CustomerID</th>\n",
       "      <th>BikeBuyer</th>\n",
       "    </tr>\n",
       "  </thead>\n",
       "  <tbody>\n",
       "    <tr>\n",
       "      <th>0</th>\n",
       "      <td>11000</td>\n",
       "      <td>0</td>\n",
       "    </tr>\n",
       "    <tr>\n",
       "      <th>1</th>\n",
       "      <td>11001</td>\n",
       "      <td>1</td>\n",
       "    </tr>\n",
       "    <tr>\n",
       "      <th>2</th>\n",
       "      <td>11002</td>\n",
       "      <td>0</td>\n",
       "    </tr>\n",
       "    <tr>\n",
       "      <th>3</th>\n",
       "      <td>11003</td>\n",
       "      <td>0</td>\n",
       "    </tr>\n",
       "    <tr>\n",
       "      <th>4</th>\n",
       "      <td>11004</td>\n",
       "      <td>1</td>\n",
       "    </tr>\n",
       "  </tbody>\n",
       "</table>\n",
       "</div>"
      ],
      "text/plain": [
       "   CustomerID  BikeBuyer\n",
       "0       11000          0\n",
       "1       11001          1\n",
       "2       11002          0\n",
       "3       11003          0\n",
       "4       11004          1"
      ]
     },
     "execution_count": 4,
     "metadata": {},
     "output_type": "execute_result"
    }
   ],
   "source": [
    "AW_BikeBuyer = pd.read_csv('AW_BikeBuyer.csv')\n",
    "AW_BikeBuyer.head(5)"
   ]
  },
  {
   "cell_type": "code",
   "execution_count": 5,
   "metadata": {},
   "outputs": [],
   "source": [
    "AdvWorksCusts.columns = [str.replace('-', '_') for str in AdvWorksCusts.columns]"
   ]
  },
  {
   "cell_type": "code",
   "execution_count": 6,
   "metadata": {},
   "outputs": [
    {
     "data": {
      "text/plain": [
       "CustomerID              False\n",
       "Title                    True\n",
       "FirstName               False\n",
       "MiddleName               True\n",
       "LastName                False\n",
       "Suffix                   True\n",
       "AddressLine1            False\n",
       "AddressLine2             True\n",
       "City                    False\n",
       "StateProvinceName       False\n",
       "CountryRegionName       False\n",
       "PostalCode              False\n",
       "PhoneNumber             False\n",
       "BirthDate               False\n",
       "Education               False\n",
       "Occupation              False\n",
       "Gender                  False\n",
       "MaritalStatus           False\n",
       "HomeOwnerFlag           False\n",
       "NumberCarsOwned         False\n",
       "NumberChildrenAtHome    False\n",
       "TotalChildren           False\n",
       "YearlyIncome            False\n",
       "dtype: bool"
      ]
     },
     "execution_count": 6,
     "metadata": {},
     "output_type": "execute_result"
    }
   ],
   "source": [
    "(AdvWorksCusts.astype(np.object) == '?').any()"
   ]
  },
  {
   "cell_type": "code",
   "execution_count": 7,
   "metadata": {},
   "outputs": [
    {
     "data": {
      "text/plain": [
       "CustomerID               int64\n",
       "Title                   object\n",
       "FirstName               object\n",
       "MiddleName              object\n",
       "LastName                object\n",
       "Suffix                  object\n",
       "AddressLine1            object\n",
       "AddressLine2            object\n",
       "City                    object\n",
       "StateProvinceName       object\n",
       "CountryRegionName       object\n",
       "PostalCode              object\n",
       "PhoneNumber             object\n",
       "BirthDate               object\n",
       "Education               object\n",
       "Occupation              object\n",
       "Gender                  object\n",
       "MaritalStatus           object\n",
       "HomeOwnerFlag            int64\n",
       "NumberCarsOwned          int64\n",
       "NumberChildrenAtHome     int64\n",
       "TotalChildren            int64\n",
       "YearlyIncome             int64\n",
       "dtype: object"
      ]
     },
     "execution_count": 7,
     "metadata": {},
     "output_type": "execute_result"
    }
   ],
   "source": [
    "AdvWorksCusts.dtypes"
   ]
  },
  {
   "cell_type": "code",
   "execution_count": 8,
   "metadata": {},
   "outputs": [
    {
     "name": "stdout",
     "output_type": "stream",
     "text": [
      "Title 16431\n",
      "FirstName 0\n",
      "MiddleName 6985\n",
      "LastName 0\n",
      "Suffix 16517\n",
      "AddressLine1 0\n",
      "AddressLine2 16243\n",
      "City 0\n",
      "StateProvinceName 0\n",
      "CountryRegionName 0\n",
      "PostalCode 0\n",
      "PhoneNumber 0\n",
      "BirthDate 0\n",
      "Education 0\n",
      "Occupation 0\n",
      "Gender 0\n",
      "MaritalStatus 0\n"
     ]
    }
   ],
   "source": [
    "for col in AdvWorksCusts.columns:\n",
    "    if AdvWorksCusts[col].dtype == object:\n",
    "        count = 0\n",
    "        count = [count + 1 for x in AdvWorksCusts[col] if x == '?']\n",
    "        print(col + ' ' + str(sum(count)))"
   ]
  },
  {
   "cell_type": "code",
   "execution_count": 9,
   "metadata": {},
   "outputs": [
    {
     "data": {
      "text/plain": [
       "(16519, 19)"
      ]
     },
     "execution_count": 9,
     "metadata": {},
     "output_type": "execute_result"
    }
   ],
   "source": [
    "AdvWorksCusts.drop('Title', axis = 1, inplace = True)\n",
    "AdvWorksCusts.drop('Suffix', axis = 1, inplace = True)\n",
    "AdvWorksCusts.drop('AddressLine2', axis = 1, inplace = True)\n",
    "AdvWorksCusts.drop('MiddleName', axis = 1, inplace = True)\n",
    "\n",
    "##Replace with empty string\n",
    "##cols = ['MiddleName']\n",
    "        \n",
    "##for column in cols:\n",
    "##    AdvWorksCusts.loc[AdvWorksCusts[column] == '?', column] = np.nan\n",
    "##AdvWorksCusts.replace(np.nan, '', regex=True) \n",
    "\n",
    "AdvWorksCusts.shape    "
   ]
  },
  {
   "cell_type": "code",
   "execution_count": 10,
   "metadata": {},
   "outputs": [
    {
     "data": {
      "text/html": [
       "<div>\n",
       "<style scoped>\n",
       "    .dataframe tbody tr th:only-of-type {\n",
       "        vertical-align: middle;\n",
       "    }\n",
       "\n",
       "    .dataframe tbody tr th {\n",
       "        vertical-align: top;\n",
       "    }\n",
       "\n",
       "    .dataframe thead th {\n",
       "        text-align: right;\n",
       "    }\n",
       "</style>\n",
       "<table border=\"1\" class=\"dataframe\">\n",
       "  <thead>\n",
       "    <tr style=\"text-align: right;\">\n",
       "      <th></th>\n",
       "      <th>CustomerID</th>\n",
       "      <th>FirstName</th>\n",
       "      <th>LastName</th>\n",
       "      <th>AddressLine1</th>\n",
       "      <th>City</th>\n",
       "      <th>StateProvinceName</th>\n",
       "      <th>CountryRegionName</th>\n",
       "      <th>PostalCode</th>\n",
       "      <th>PhoneNumber</th>\n",
       "      <th>BirthDate</th>\n",
       "      <th>Education</th>\n",
       "      <th>Occupation</th>\n",
       "      <th>Gender</th>\n",
       "      <th>MaritalStatus</th>\n",
       "      <th>HomeOwnerFlag</th>\n",
       "      <th>NumberCarsOwned</th>\n",
       "      <th>NumberChildrenAtHome</th>\n",
       "      <th>TotalChildren</th>\n",
       "      <th>YearlyIncome</th>\n",
       "    </tr>\n",
       "  </thead>\n",
       "  <tbody>\n",
       "    <tr>\n",
       "      <th>0</th>\n",
       "      <td>11000</td>\n",
       "      <td>Jon</td>\n",
       "      <td>Yang</td>\n",
       "      <td>3761 N. 14th St</td>\n",
       "      <td>Rockhampton</td>\n",
       "      <td>Queensland</td>\n",
       "      <td>Australia</td>\n",
       "      <td>4700</td>\n",
       "      <td>1 (11) 500 555-0162</td>\n",
       "      <td>1966-04-08</td>\n",
       "      <td>Bachelors</td>\n",
       "      <td>Professional</td>\n",
       "      <td>M</td>\n",
       "      <td>M</td>\n",
       "      <td>1</td>\n",
       "      <td>0</td>\n",
       "      <td>0</td>\n",
       "      <td>2</td>\n",
       "      <td>137947</td>\n",
       "    </tr>\n",
       "    <tr>\n",
       "      <th>1</th>\n",
       "      <td>11001</td>\n",
       "      <td>Eugene</td>\n",
       "      <td>Huang</td>\n",
       "      <td>2243 W St.</td>\n",
       "      <td>Seaford</td>\n",
       "      <td>Victoria</td>\n",
       "      <td>Australia</td>\n",
       "      <td>3198</td>\n",
       "      <td>1 (11) 500 555-0110</td>\n",
       "      <td>1965-05-14</td>\n",
       "      <td>Bachelors</td>\n",
       "      <td>Professional</td>\n",
       "      <td>M</td>\n",
       "      <td>S</td>\n",
       "      <td>0</td>\n",
       "      <td>1</td>\n",
       "      <td>3</td>\n",
       "      <td>3</td>\n",
       "      <td>101141</td>\n",
       "    </tr>\n",
       "    <tr>\n",
       "      <th>2</th>\n",
       "      <td>11002</td>\n",
       "      <td>Ruben</td>\n",
       "      <td>Torres</td>\n",
       "      <td>5844 Linden Land</td>\n",
       "      <td>Hobart</td>\n",
       "      <td>Tasmania</td>\n",
       "      <td>Australia</td>\n",
       "      <td>7001</td>\n",
       "      <td>1 (11) 500 555-0184</td>\n",
       "      <td>1965-08-12</td>\n",
       "      <td>Bachelors</td>\n",
       "      <td>Professional</td>\n",
       "      <td>M</td>\n",
       "      <td>M</td>\n",
       "      <td>1</td>\n",
       "      <td>1</td>\n",
       "      <td>3</td>\n",
       "      <td>3</td>\n",
       "      <td>91945</td>\n",
       "    </tr>\n",
       "    <tr>\n",
       "      <th>3</th>\n",
       "      <td>11003</td>\n",
       "      <td>Christy</td>\n",
       "      <td>Zhu</td>\n",
       "      <td>1825 Village Pl.</td>\n",
       "      <td>North Ryde</td>\n",
       "      <td>New South Wales</td>\n",
       "      <td>Australia</td>\n",
       "      <td>2113</td>\n",
       "      <td>1 (11) 500 555-0162</td>\n",
       "      <td>1968-02-15</td>\n",
       "      <td>Bachelors</td>\n",
       "      <td>Professional</td>\n",
       "      <td>F</td>\n",
       "      <td>S</td>\n",
       "      <td>0</td>\n",
       "      <td>1</td>\n",
       "      <td>0</td>\n",
       "      <td>0</td>\n",
       "      <td>86688</td>\n",
       "    </tr>\n",
       "    <tr>\n",
       "      <th>4</th>\n",
       "      <td>11004</td>\n",
       "      <td>Elizabeth</td>\n",
       "      <td>Johnson</td>\n",
       "      <td>7553 Harness Circle</td>\n",
       "      <td>Wollongong</td>\n",
       "      <td>New South Wales</td>\n",
       "      <td>Australia</td>\n",
       "      <td>2500</td>\n",
       "      <td>1 (11) 500 555-0131</td>\n",
       "      <td>1968-08-08</td>\n",
       "      <td>Bachelors</td>\n",
       "      <td>Professional</td>\n",
       "      <td>F</td>\n",
       "      <td>S</td>\n",
       "      <td>1</td>\n",
       "      <td>4</td>\n",
       "      <td>5</td>\n",
       "      <td>5</td>\n",
       "      <td>92771</td>\n",
       "    </tr>\n",
       "  </tbody>\n",
       "</table>\n",
       "</div>"
      ],
      "text/plain": [
       "   CustomerID  FirstName LastName         AddressLine1         City  \\\n",
       "0       11000        Jon     Yang      3761 N. 14th St  Rockhampton   \n",
       "1       11001     Eugene    Huang           2243 W St.      Seaford   \n",
       "2       11002      Ruben   Torres     5844 Linden Land       Hobart   \n",
       "3       11003    Christy      Zhu     1825 Village Pl.   North Ryde   \n",
       "4       11004  Elizabeth  Johnson  7553 Harness Circle   Wollongong   \n",
       "\n",
       "  StateProvinceName CountryRegionName PostalCode          PhoneNumber  \\\n",
       "0        Queensland         Australia       4700  1 (11) 500 555-0162   \n",
       "1          Victoria         Australia       3198  1 (11) 500 555-0110   \n",
       "2          Tasmania         Australia       7001  1 (11) 500 555-0184   \n",
       "3   New South Wales         Australia       2113  1 (11) 500 555-0162   \n",
       "4   New South Wales         Australia       2500  1 (11) 500 555-0131   \n",
       "\n",
       "    BirthDate   Education    Occupation Gender MaritalStatus  HomeOwnerFlag  \\\n",
       "0  1966-04-08  Bachelors   Professional      M             M              1   \n",
       "1  1965-05-14  Bachelors   Professional      M             S              0   \n",
       "2  1965-08-12  Bachelors   Professional      M             M              1   \n",
       "3  1968-02-15  Bachelors   Professional      F             S              0   \n",
       "4  1968-08-08  Bachelors   Professional      F             S              1   \n",
       "\n",
       "   NumberCarsOwned  NumberChildrenAtHome  TotalChildren  YearlyIncome  \n",
       "0                0                     0              2        137947  \n",
       "1                1                     3              3        101141  \n",
       "2                1                     3              3         91945  \n",
       "3                1                     0              0         86688  \n",
       "4                4                     5              5         92771  "
      ]
     },
     "execution_count": 10,
     "metadata": {},
     "output_type": "execute_result"
    }
   ],
   "source": [
    "AdvWorksCusts.head(5)"
   ]
  },
  {
   "cell_type": "code",
   "execution_count": 11,
   "metadata": {},
   "outputs": [
    {
     "data": {
      "text/html": [
       "<div>\n",
       "<style scoped>\n",
       "    .dataframe tbody tr th:only-of-type {\n",
       "        vertical-align: middle;\n",
       "    }\n",
       "\n",
       "    .dataframe tbody tr th {\n",
       "        vertical-align: top;\n",
       "    }\n",
       "\n",
       "    .dataframe thead th {\n",
       "        text-align: right;\n",
       "    }\n",
       "</style>\n",
       "<table border=\"1\" class=\"dataframe\">\n",
       "  <thead>\n",
       "    <tr style=\"text-align: right;\">\n",
       "      <th></th>\n",
       "      <th>CustomerID</th>\n",
       "      <th>FirstName</th>\n",
       "      <th>LastName</th>\n",
       "      <th>AddressLine1</th>\n",
       "      <th>City</th>\n",
       "      <th>StateProvinceName</th>\n",
       "      <th>CountryRegionName</th>\n",
       "      <th>PostalCode</th>\n",
       "      <th>PhoneNumber</th>\n",
       "      <th>BirthDate</th>\n",
       "      <th>...</th>\n",
       "      <th>Occupation</th>\n",
       "      <th>Gender</th>\n",
       "      <th>MaritalStatus</th>\n",
       "      <th>HomeOwnerFlag</th>\n",
       "      <th>NumberCarsOwned</th>\n",
       "      <th>NumberChildrenAtHome</th>\n",
       "      <th>TotalChildren</th>\n",
       "      <th>YearlyIncome</th>\n",
       "      <th>AveMonthSpend</th>\n",
       "      <th>BikeBuyer</th>\n",
       "    </tr>\n",
       "  </thead>\n",
       "  <tbody>\n",
       "    <tr>\n",
       "      <th>0</th>\n",
       "      <td>11000</td>\n",
       "      <td>Jon</td>\n",
       "      <td>Yang</td>\n",
       "      <td>3761 N. 14th St</td>\n",
       "      <td>Rockhampton</td>\n",
       "      <td>Queensland</td>\n",
       "      <td>Australia</td>\n",
       "      <td>4700</td>\n",
       "      <td>1 (11) 500 555-0162</td>\n",
       "      <td>1966-04-08</td>\n",
       "      <td>...</td>\n",
       "      <td>Professional</td>\n",
       "      <td>M</td>\n",
       "      <td>M</td>\n",
       "      <td>1</td>\n",
       "      <td>0</td>\n",
       "      <td>0</td>\n",
       "      <td>2</td>\n",
       "      <td>137947</td>\n",
       "      <td>89</td>\n",
       "      <td>0</td>\n",
       "    </tr>\n",
       "    <tr>\n",
       "      <th>1</th>\n",
       "      <td>11001</td>\n",
       "      <td>Eugene</td>\n",
       "      <td>Huang</td>\n",
       "      <td>2243 W St.</td>\n",
       "      <td>Seaford</td>\n",
       "      <td>Victoria</td>\n",
       "      <td>Australia</td>\n",
       "      <td>3198</td>\n",
       "      <td>1 (11) 500 555-0110</td>\n",
       "      <td>1965-05-14</td>\n",
       "      <td>...</td>\n",
       "      <td>Professional</td>\n",
       "      <td>M</td>\n",
       "      <td>S</td>\n",
       "      <td>0</td>\n",
       "      <td>1</td>\n",
       "      <td>3</td>\n",
       "      <td>3</td>\n",
       "      <td>101141</td>\n",
       "      <td>117</td>\n",
       "      <td>1</td>\n",
       "    </tr>\n",
       "    <tr>\n",
       "      <th>2</th>\n",
       "      <td>11002</td>\n",
       "      <td>Ruben</td>\n",
       "      <td>Torres</td>\n",
       "      <td>5844 Linden Land</td>\n",
       "      <td>Hobart</td>\n",
       "      <td>Tasmania</td>\n",
       "      <td>Australia</td>\n",
       "      <td>7001</td>\n",
       "      <td>1 (11) 500 555-0184</td>\n",
       "      <td>1965-08-12</td>\n",
       "      <td>...</td>\n",
       "      <td>Professional</td>\n",
       "      <td>M</td>\n",
       "      <td>M</td>\n",
       "      <td>1</td>\n",
       "      <td>1</td>\n",
       "      <td>3</td>\n",
       "      <td>3</td>\n",
       "      <td>91945</td>\n",
       "      <td>123</td>\n",
       "      <td>0</td>\n",
       "    </tr>\n",
       "    <tr>\n",
       "      <th>3</th>\n",
       "      <td>11003</td>\n",
       "      <td>Christy</td>\n",
       "      <td>Zhu</td>\n",
       "      <td>1825 Village Pl.</td>\n",
       "      <td>North Ryde</td>\n",
       "      <td>New South Wales</td>\n",
       "      <td>Australia</td>\n",
       "      <td>2113</td>\n",
       "      <td>1 (11) 500 555-0162</td>\n",
       "      <td>1968-02-15</td>\n",
       "      <td>...</td>\n",
       "      <td>Professional</td>\n",
       "      <td>F</td>\n",
       "      <td>S</td>\n",
       "      <td>0</td>\n",
       "      <td>1</td>\n",
       "      <td>0</td>\n",
       "      <td>0</td>\n",
       "      <td>86688</td>\n",
       "      <td>50</td>\n",
       "      <td>0</td>\n",
       "    </tr>\n",
       "    <tr>\n",
       "      <th>4</th>\n",
       "      <td>11004</td>\n",
       "      <td>Elizabeth</td>\n",
       "      <td>Johnson</td>\n",
       "      <td>7553 Harness Circle</td>\n",
       "      <td>Wollongong</td>\n",
       "      <td>New South Wales</td>\n",
       "      <td>Australia</td>\n",
       "      <td>2500</td>\n",
       "      <td>1 (11) 500 555-0131</td>\n",
       "      <td>1968-08-08</td>\n",
       "      <td>...</td>\n",
       "      <td>Professional</td>\n",
       "      <td>F</td>\n",
       "      <td>S</td>\n",
       "      <td>1</td>\n",
       "      <td>4</td>\n",
       "      <td>5</td>\n",
       "      <td>5</td>\n",
       "      <td>92771</td>\n",
       "      <td>95</td>\n",
       "      <td>1</td>\n",
       "    </tr>\n",
       "  </tbody>\n",
       "</table>\n",
       "<p>5 rows × 21 columns</p>\n",
       "</div>"
      ],
      "text/plain": [
       "   CustomerID  FirstName LastName         AddressLine1         City  \\\n",
       "0       11000        Jon     Yang      3761 N. 14th St  Rockhampton   \n",
       "1       11001     Eugene    Huang           2243 W St.      Seaford   \n",
       "2       11002      Ruben   Torres     5844 Linden Land       Hobart   \n",
       "3       11003    Christy      Zhu     1825 Village Pl.   North Ryde   \n",
       "4       11004  Elizabeth  Johnson  7553 Harness Circle   Wollongong   \n",
       "\n",
       "  StateProvinceName CountryRegionName PostalCode          PhoneNumber  \\\n",
       "0        Queensland         Australia       4700  1 (11) 500 555-0162   \n",
       "1          Victoria         Australia       3198  1 (11) 500 555-0110   \n",
       "2          Tasmania         Australia       7001  1 (11) 500 555-0184   \n",
       "3   New South Wales         Australia       2113  1 (11) 500 555-0162   \n",
       "4   New South Wales         Australia       2500  1 (11) 500 555-0131   \n",
       "\n",
       "    BirthDate    ...        Occupation Gender MaritalStatus HomeOwnerFlag  \\\n",
       "0  1966-04-08    ...      Professional      M             M             1   \n",
       "1  1965-05-14    ...      Professional      M             S             0   \n",
       "2  1965-08-12    ...      Professional      M             M             1   \n",
       "3  1968-02-15    ...      Professional      F             S             0   \n",
       "4  1968-08-08    ...      Professional      F             S             1   \n",
       "\n",
       "   NumberCarsOwned  NumberChildrenAtHome  TotalChildren  YearlyIncome  \\\n",
       "0                0                     0              2        137947   \n",
       "1                1                     3              3        101141   \n",
       "2                1                     3              3         91945   \n",
       "3                1                     0              0         86688   \n",
       "4                4                     5              5         92771   \n",
       "\n",
       "   AveMonthSpend  BikeBuyer  \n",
       "0             89          0  \n",
       "1            117          1  \n",
       "2            123          0  \n",
       "3             50          0  \n",
       "4             95          1  \n",
       "\n",
       "[5 rows x 21 columns]"
      ]
     },
     "execution_count": 11,
     "metadata": {},
     "output_type": "execute_result"
    }
   ],
   "source": [
    "df3 = pd.merge(AdvWorksCusts, AW_AveMonthSpend)\n",
    "df4 = pd.merge(df3, AW_BikeBuyer)\n",
    "df4.head(5)"
   ]
  },
  {
   "cell_type": "code",
   "execution_count": 12,
   "metadata": {},
   "outputs": [
    {
     "name": "stdout",
     "output_type": "stream",
     "text": [
      "(17209, 21)\n",
      "(16404,)\n"
     ]
    }
   ],
   "source": [
    "print(df4.shape)\n",
    "print(df4.CustomerID.unique().shape)"
   ]
  },
  {
   "cell_type": "code",
   "execution_count": 13,
   "metadata": {},
   "outputs": [
    {
     "name": "stdout",
     "output_type": "stream",
     "text": [
      "(16404, 21)\n",
      "(16404,)\n"
     ]
    }
   ],
   "source": [
    "df4.drop_duplicates(subset = 'CustomerID', keep = 'last', inplace = True)\n",
    "print(df4.shape)\n",
    "print(df4.CustomerID.unique().shape)"
   ]
  },
  {
   "cell_type": "code",
   "execution_count": 14,
   "metadata": {},
   "outputs": [
    {
     "name": "stdout",
     "output_type": "stream",
     "text": [
      "22\n",
      "176\n"
     ]
    }
   ],
   "source": [
    "print(df4.AveMonthSpend.min())\n",
    "print(df4.AveMonthSpend.max())"
   ]
  },
  {
   "cell_type": "code",
   "execution_count": 15,
   "metadata": {},
   "outputs": [
    {
     "name": "stdout",
     "output_type": "stream",
     "text": [
      "72.39100219458669\n",
      "68.0\n"
     ]
    }
   ],
   "source": [
    "print(df4.AveMonthSpend.mean())\n",
    "print(df4.AveMonthSpend.median())"
   ]
  },
  {
   "cell_type": "code",
   "execution_count": 16,
   "metadata": {},
   "outputs": [
    {
     "name": "stdout",
     "output_type": "stream",
     "text": [
      "27.269921299649553\n"
     ]
    }
   ],
   "source": [
    "print(df4.AveMonthSpend.std())"
   ]
  },
  {
   "cell_type": "code",
   "execution_count": 17,
   "metadata": {},
   "outputs": [
    {
     "data": {
      "image/png": "[encoded data removed]",
      "text/plain": [
       "<Figure size 432x288 with 1 Axes>"
      ]
     },
     "metadata": {
      "needs_background": "light"
     },
     "output_type": "display_data"
    }
   ],
   "source": [
    "def hist_plot(vals, lab):\n",
    "    ## Distribution plot of values\n",
    "    sns.distplot(vals)\n",
    "    plt.title('Histogram of ' + lab)\n",
    "    plt.xlabel('BikeBuyer')\n",
    "    plt.ylabel('Customers')\n",
    "    \n",
    "hist_plot(df4['BikeBuyer'], 'CustomerID')"
   ]
  },
  {
   "cell_type": "code",
   "execution_count": 18,
   "metadata": {},
   "outputs": [
    {
     "name": "stdout",
     "output_type": "stream",
     "text": [
      "\n",
      "For Rows Occupation\n",
      "Professional      4922\n",
      "Skilled Manual    4038\n",
      "Management        2718\n",
      "Clerical          2597\n",
      "Manual            2129\n",
      "Name: Occupation, dtype: int64\n"
     ]
    },
    {
     "data": {
      "text/plain": [
       "Occupation\n",
       "Clerical           49481.0\n",
       "Management        118781.0\n",
       "Manual             21722.0\n",
       "Professional       99058.0\n",
       "Skilled Manual     66471.5\n",
       "Name: YearlyIncome, dtype: float64"
      ]
     },
     "execution_count": 18,
     "metadata": {},
     "output_type": "execute_result"
    }
   ],
   "source": [
    "def count_unique(df4, cols):\n",
    "    for col in cols:\n",
    "        print('\\n' + 'For Rows ' + col)\n",
    "        print(df4[col].value_counts())\n",
    "         \n",
    "count_unique(df4,['Occupation'])\n",
    "\n",
    "df4.groupby(['Occupation']).YearlyIncome.median()\n",
    "\n",
    "# Manual, Clerical, Skilled Manual, Professional, Management"
   ]
  },
  {
   "cell_type": "code",
   "execution_count": 19,
   "metadata": {},
   "outputs": [
    {
     "data": {
      "text/plain": [
       "GroupCustomers     Gender\n",
       "Above 55           F         54.480505\n",
       "                   M         84.320550\n",
       "Between 25 and 45  F         59.814611\n",
       "                   M         93.367278\n",
       "Under 25           F         48.403846\n",
       "                   M         72.955962\n",
       "Name: AveMonthSpend, dtype: float64"
      ]
     },
     "execution_count": 19,
     "metadata": {},
     "output_type": "execute_result"
    }
   ],
   "source": [
    "from datetime import datetime\n",
    "\n",
    "def age_customer(dl):\n",
    "    Db = datetime.strptime(dl, '%Y-%m-%d')\n",
    "    dl = datetime.strptime('1998-01-01', '%Y-%m-%d').year - Db.year\n",
    " \n",
    "    if dl > 45: return 'Above 55'\n",
    "    elif 45 < dl <= 55: return 'Between 45 and 55'\n",
    "    elif 25 < dl <= 45: return 'Between 25 and 45'\n",
    "    elif 0 < dl <= 25: return 'Under 25'\n",
    "    else: return 'None'\n",
    "        \n",
    "df4['GroupCustomers']  = df4.BirthDate.apply (lambda row: age_customer(row))   \n",
    "\n",
    "df4.groupby(['GroupCustomers','Gender']).AveMonthSpend.mean()"
   ]
  },
  {
   "cell_type": "code",
   "execution_count": 20,
   "metadata": {},
   "outputs": [
    {
     "data": {
      "text/html": [
       "<div>\n",
       "<style scoped>\n",
       "    .dataframe tbody tr th:only-of-type {\n",
       "        vertical-align: middle;\n",
       "    }\n",
       "\n",
       "    .dataframe tbody tr th {\n",
       "        vertical-align: top;\n",
       "    }\n",
       "\n",
       "    .dataframe thead th {\n",
       "        text-align: right;\n",
       "    }\n",
       "</style>\n",
       "<table border=\"1\" class=\"dataframe\">\n",
       "  <thead>\n",
       "    <tr style=\"text-align: right;\">\n",
       "      <th></th>\n",
       "      <th>CustomerID</th>\n",
       "      <th>FirstName</th>\n",
       "      <th>LastName</th>\n",
       "      <th>AddressLine1</th>\n",
       "      <th>City</th>\n",
       "      <th>StateProvinceName</th>\n",
       "      <th>CountryRegionName</th>\n",
       "      <th>PostalCode</th>\n",
       "      <th>PhoneNumber</th>\n",
       "      <th>BirthDate</th>\n",
       "      <th>...</th>\n",
       "      <th>Gender</th>\n",
       "      <th>MaritalStatus</th>\n",
       "      <th>HomeOwnerFlag</th>\n",
       "      <th>NumberCarsOwned</th>\n",
       "      <th>NumberChildrenAtHome</th>\n",
       "      <th>TotalChildren</th>\n",
       "      <th>YearlyIncome</th>\n",
       "      <th>AveMonthSpend</th>\n",
       "      <th>BikeBuyer</th>\n",
       "      <th>GroupCustomers</th>\n",
       "    </tr>\n",
       "  </thead>\n",
       "  <tbody>\n",
       "    <tr>\n",
       "      <th>0</th>\n",
       "      <td>11000</td>\n",
       "      <td>Jon</td>\n",
       "      <td>Yang</td>\n",
       "      <td>3761 N. 14th St</td>\n",
       "      <td>Rockhampton</td>\n",
       "      <td>Queensland</td>\n",
       "      <td>Australia</td>\n",
       "      <td>4700</td>\n",
       "      <td>1 (11) 500 555-0162</td>\n",
       "      <td>1966-04-08</td>\n",
       "      <td>...</td>\n",
       "      <td>M</td>\n",
       "      <td>M</td>\n",
       "      <td>1</td>\n",
       "      <td>0</td>\n",
       "      <td>0</td>\n",
       "      <td>2</td>\n",
       "      <td>137947</td>\n",
       "      <td>89</td>\n",
       "      <td>0</td>\n",
       "      <td>Between 25 and 45</td>\n",
       "    </tr>\n",
       "    <tr>\n",
       "      <th>1</th>\n",
       "      <td>11001</td>\n",
       "      <td>Eugene</td>\n",
       "      <td>Huang</td>\n",
       "      <td>2243 W St.</td>\n",
       "      <td>Seaford</td>\n",
       "      <td>Victoria</td>\n",
       "      <td>Australia</td>\n",
       "      <td>3198</td>\n",
       "      <td>1 (11) 500 555-0110</td>\n",
       "      <td>1965-05-14</td>\n",
       "      <td>...</td>\n",
       "      <td>M</td>\n",
       "      <td>S</td>\n",
       "      <td>0</td>\n",
       "      <td>1</td>\n",
       "      <td>3</td>\n",
       "      <td>3</td>\n",
       "      <td>101141</td>\n",
       "      <td>117</td>\n",
       "      <td>1</td>\n",
       "      <td>Between 25 and 45</td>\n",
       "    </tr>\n",
       "    <tr>\n",
       "      <th>2</th>\n",
       "      <td>11002</td>\n",
       "      <td>Ruben</td>\n",
       "      <td>Torres</td>\n",
       "      <td>5844 Linden Land</td>\n",
       "      <td>Hobart</td>\n",
       "      <td>Tasmania</td>\n",
       "      <td>Australia</td>\n",
       "      <td>7001</td>\n",
       "      <td>1 (11) 500 555-0184</td>\n",
       "      <td>1965-08-12</td>\n",
       "      <td>...</td>\n",
       "      <td>M</td>\n",
       "      <td>M</td>\n",
       "      <td>1</td>\n",
       "      <td>1</td>\n",
       "      <td>3</td>\n",
       "      <td>3</td>\n",
       "      <td>91945</td>\n",
       "      <td>123</td>\n",
       "      <td>0</td>\n",
       "      <td>Between 25 and 45</td>\n",
       "    </tr>\n",
       "    <tr>\n",
       "      <th>3</th>\n",
       "      <td>11003</td>\n",
       "      <td>Christy</td>\n",
       "      <td>Zhu</td>\n",
       "      <td>1825 Village Pl.</td>\n",
       "      <td>North Ryde</td>\n",
       "      <td>New South Wales</td>\n",
       "      <td>Australia</td>\n",
       "      <td>2113</td>\n",
       "      <td>1 (11) 500 555-0162</td>\n",
       "      <td>1968-02-15</td>\n",
       "      <td>...</td>\n",
       "      <td>F</td>\n",
       "      <td>S</td>\n",
       "      <td>0</td>\n",
       "      <td>1</td>\n",
       "      <td>0</td>\n",
       "      <td>0</td>\n",
       "      <td>86688</td>\n",
       "      <td>50</td>\n",
       "      <td>0</td>\n",
       "      <td>Between 25 and 45</td>\n",
       "    </tr>\n",
       "    <tr>\n",
       "      <th>4</th>\n",
       "      <td>11004</td>\n",
       "      <td>Elizabeth</td>\n",
       "      <td>Johnson</td>\n",
       "      <td>7553 Harness Circle</td>\n",
       "      <td>Wollongong</td>\n",
       "      <td>New South Wales</td>\n",
       "      <td>Australia</td>\n",
       "      <td>2500</td>\n",
       "      <td>1 (11) 500 555-0131</td>\n",
       "      <td>1968-08-08</td>\n",
       "      <td>...</td>\n",
       "      <td>F</td>\n",
       "      <td>S</td>\n",
       "      <td>1</td>\n",
       "      <td>4</td>\n",
       "      <td>5</td>\n",
       "      <td>5</td>\n",
       "      <td>92771</td>\n",
       "      <td>95</td>\n",
       "      <td>1</td>\n",
       "      <td>Between 25 and 45</td>\n",
       "    </tr>\n",
       "  </tbody>\n",
       "</table>\n",
       "<p>5 rows × 22 columns</p>\n",
       "</div>"
      ],
      "text/plain": [
       "   CustomerID  FirstName LastName         AddressLine1         City  \\\n",
       "0       11000        Jon     Yang      3761 N. 14th St  Rockhampton   \n",
       "1       11001     Eugene    Huang           2243 W St.      Seaford   \n",
       "2       11002      Ruben   Torres     5844 Linden Land       Hobart   \n",
       "3       11003    Christy      Zhu     1825 Village Pl.   North Ryde   \n",
       "4       11004  Elizabeth  Johnson  7553 Harness Circle   Wollongong   \n",
       "\n",
       "  StateProvinceName CountryRegionName PostalCode          PhoneNumber  \\\n",
       "0        Queensland         Australia       4700  1 (11) 500 555-0162   \n",
       "1          Victoria         Australia       3198  1 (11) 500 555-0110   \n",
       "2          Tasmania         Australia       7001  1 (11) 500 555-0184   \n",
       "3   New South Wales         Australia       2113  1 (11) 500 555-0162   \n",
       "4   New South Wales         Australia       2500  1 (11) 500 555-0131   \n",
       "\n",
       "    BirthDate        ...         Gender MaritalStatus HomeOwnerFlag  \\\n",
       "0  1966-04-08        ...              M             M             1   \n",
       "1  1965-05-14        ...              M             S             0   \n",
       "2  1965-08-12        ...              M             M             1   \n",
       "3  1968-02-15        ...              F             S             0   \n",
       "4  1968-08-08        ...              F             S             1   \n",
       "\n",
       "  NumberCarsOwned  NumberChildrenAtHome  TotalChildren  YearlyIncome  \\\n",
       "0               0                     0              2        137947   \n",
       "1               1                     3              3        101141   \n",
       "2               1                     3              3         91945   \n",
       "3               1                     0              0         86688   \n",
       "4               4                     5              5         92771   \n",
       "\n",
       "   AveMonthSpend  BikeBuyer     GroupCustomers  \n",
       "0             89          0  Between 25 and 45  \n",
       "1            117          1  Between 25 and 45  \n",
       "2            123          0  Between 25 and 45  \n",
       "3             50          0  Between 25 and 45  \n",
       "4             95          1  Between 25 and 45  \n",
       "\n",
       "[5 rows x 22 columns]"
      ]
     },
     "execution_count": 20,
     "metadata": {},
     "output_type": "execute_result"
    }
   ],
   "source": [
    "df4.head(5)"
   ]
  },
  {
   "cell_type": "code",
   "execution_count": 21,
   "metadata": {},
   "outputs": [
    {
     "name": "stdout",
     "output_type": "stream",
     "text": [
      "statement1\n"
     ]
    },
    {
     "data": {
      "text/plain": [
       "MaritalStatus\n",
       "M    74\n",
       "S    62\n",
       "Name: AveMonthSpend, dtype: int64"
      ]
     },
     "execution_count": 21,
     "metadata": {},
     "output_type": "execute_result"
    }
   ],
   "source": [
    "print('statement1')\n",
    "df4.groupby(['MaritalStatus']).AveMonthSpend.median()"
   ]
  },
  {
   "cell_type": "code",
   "execution_count": 22,
   "metadata": {},
   "outputs": [
    {
     "name": "stdout",
     "output_type": "stream",
     "text": [
      "statement2\n"
     ]
    },
    {
     "data": {
      "text/plain": [
       "NumberCarsOwned\n",
       "0     65\n",
       "1     63\n",
       "2     64\n",
       "3     92\n",
       "4    100\n",
       "Name: AveMonthSpend, dtype: int64"
      ]
     },
     "execution_count": 22,
     "metadata": {},
     "output_type": "execute_result"
    }
   ],
   "source": [
    "print('statement2')\n",
    "df4.groupby(['NumberCarsOwned']).AveMonthSpend.median()"
   ]
  },
  {
   "cell_type": "code",
   "execution_count": 23,
   "metadata": {},
   "outputs": [
    {
     "name": "stdout",
     "output_type": "stream",
     "text": [
      "statement3\n"
     ]
    },
    {
     "data": {
      "text/plain": [
       "Gender\n",
       "F    52\n",
       "M    79\n",
       "Name: AveMonthSpend, dtype: int64"
      ]
     },
     "execution_count": 23,
     "metadata": {},
     "output_type": "execute_result"
    }
   ],
   "source": [
    "print('statement3')\n",
    "df4.groupby(['Gender']).AveMonthSpend.median()"
   ]
  },
  {
   "cell_type": "code",
   "execution_count": 24,
   "metadata": {},
   "outputs": [
    {
     "name": "stdout",
     "output_type": "stream",
     "text": [
      "statement4\n"
     ]
    },
    {
     "data": {
      "text/plain": [
       "Gender\n",
       "F    8114\n",
       "M    8290\n",
       "Name: AveMonthSpend, dtype: int64"
      ]
     },
     "execution_count": 24,
     "metadata": {},
     "output_type": "execute_result"
    }
   ],
   "source": [
    "print('statement4')\n",
    "\n",
    "df4.groupby(['Gender']).AveMonthSpend.count()\n",
    "\n"
   ]
  },
  {
   "cell_type": "code",
   "execution_count": 25,
   "metadata": {},
   "outputs": [
    {
     "name": "stdout",
     "output_type": "stream",
     "text": [
      "statement5\n"
     ]
    },
    {
     "data": {
      "text/plain": [
       "NumberChildrenAtHome\n",
       "0     59.793329\n",
       "1     71.460550\n",
       "2     83.476289\n",
       "3     96.858089\n",
       "4    113.233298\n",
       "5    127.471006\n",
       "Name: AveMonthSpend, dtype: float64"
      ]
     },
     "execution_count": 25,
     "metadata": {},
     "output_type": "execute_result"
    }
   ],
   "source": [
    "print('statement5')\n",
    "\n",
    "df4.groupby(['NumberChildrenAtHome']).AveMonthSpend.mean()\n"
   ]
  },
  {
   "cell_type": "code",
   "execution_count": 26,
   "metadata": {},
   "outputs": [
    {
     "data": {
      "text/html": [
       "<div>\n",
       "<style scoped>\n",
       "    .dataframe tbody tr th:only-of-type {\n",
       "        vertical-align: middle;\n",
       "    }\n",
       "\n",
       "    .dataframe tbody tr th {\n",
       "        vertical-align: top;\n",
       "    }\n",
       "\n",
       "    .dataframe thead th {\n",
       "        text-align: right;\n",
       "    }\n",
       "</style>\n",
       "<table border=\"1\" class=\"dataframe\">\n",
       "  <thead>\n",
       "    <tr style=\"text-align: right;\">\n",
       "      <th></th>\n",
       "      <th>CustomerID</th>\n",
       "      <th>FirstName</th>\n",
       "      <th>LastName</th>\n",
       "      <th>AddressLine1</th>\n",
       "      <th>City</th>\n",
       "      <th>StateProvinceName</th>\n",
       "      <th>CountryRegionName</th>\n",
       "      <th>PostalCode</th>\n",
       "      <th>PhoneNumber</th>\n",
       "      <th>BirthDate</th>\n",
       "      <th>...</th>\n",
       "      <th>Gender</th>\n",
       "      <th>MaritalStatus</th>\n",
       "      <th>HomeOwnerFlag</th>\n",
       "      <th>NumberCarsOwned</th>\n",
       "      <th>NumberChildrenAtHome</th>\n",
       "      <th>TotalChildren</th>\n",
       "      <th>YearlyIncome</th>\n",
       "      <th>AveMonthSpend</th>\n",
       "      <th>BikeBuyer</th>\n",
       "      <th>GroupCustomers</th>\n",
       "    </tr>\n",
       "  </thead>\n",
       "  <tbody>\n",
       "    <tr>\n",
       "      <th>0</th>\n",
       "      <td>11000</td>\n",
       "      <td>Jon</td>\n",
       "      <td>Yang</td>\n",
       "      <td>3761 N. 14th St</td>\n",
       "      <td>Rockhampton</td>\n",
       "      <td>Queensland</td>\n",
       "      <td>Australia</td>\n",
       "      <td>4700</td>\n",
       "      <td>1 (11) 500 555-0162</td>\n",
       "      <td>1966-04-08</td>\n",
       "      <td>...</td>\n",
       "      <td>M</td>\n",
       "      <td>M</td>\n",
       "      <td>1</td>\n",
       "      <td>0</td>\n",
       "      <td>0</td>\n",
       "      <td>2</td>\n",
       "      <td>137947</td>\n",
       "      <td>89</td>\n",
       "      <td>0</td>\n",
       "      <td>Between 25 and 45</td>\n",
       "    </tr>\n",
       "    <tr>\n",
       "      <th>1</th>\n",
       "      <td>11001</td>\n",
       "      <td>Eugene</td>\n",
       "      <td>Huang</td>\n",
       "      <td>2243 W St.</td>\n",
       "      <td>Seaford</td>\n",
       "      <td>Victoria</td>\n",
       "      <td>Australia</td>\n",
       "      <td>3198</td>\n",
       "      <td>1 (11) 500 555-0110</td>\n",
       "      <td>1965-05-14</td>\n",
       "      <td>...</td>\n",
       "      <td>M</td>\n",
       "      <td>S</td>\n",
       "      <td>0</td>\n",
       "      <td>1</td>\n",
       "      <td>3</td>\n",
       "      <td>3</td>\n",
       "      <td>101141</td>\n",
       "      <td>117</td>\n",
       "      <td>1</td>\n",
       "      <td>Between 25 and 45</td>\n",
       "    </tr>\n",
       "    <tr>\n",
       "      <th>2</th>\n",
       "      <td>11002</td>\n",
       "      <td>Ruben</td>\n",
       "      <td>Torres</td>\n",
       "      <td>5844 Linden Land</td>\n",
       "      <td>Hobart</td>\n",
       "      <td>Tasmania</td>\n",
       "      <td>Australia</td>\n",
       "      <td>7001</td>\n",
       "      <td>1 (11) 500 555-0184</td>\n",
       "      <td>1965-08-12</td>\n",
       "      <td>...</td>\n",
       "      <td>M</td>\n",
       "      <td>M</td>\n",
       "      <td>1</td>\n",
       "      <td>1</td>\n",
       "      <td>3</td>\n",
       "      <td>3</td>\n",
       "      <td>91945</td>\n",
       "      <td>123</td>\n",
       "      <td>0</td>\n",
       "      <td>Between 25 and 45</td>\n",
       "    </tr>\n",
       "    <tr>\n",
       "      <th>3</th>\n",
       "      <td>11003</td>\n",
       "      <td>Christy</td>\n",
       "      <td>Zhu</td>\n",
       "      <td>1825 Village Pl.</td>\n",
       "      <td>North Ryde</td>\n",
       "      <td>New South Wales</td>\n",
       "      <td>Australia</td>\n",
       "      <td>2113</td>\n",
       "      <td>1 (11) 500 555-0162</td>\n",
       "      <td>1968-02-15</td>\n",
       "      <td>...</td>\n",
       "      <td>F</td>\n",
       "      <td>S</td>\n",
       "      <td>0</td>\n",
       "      <td>1</td>\n",
       "      <td>0</td>\n",
       "      <td>0</td>\n",
       "      <td>86688</td>\n",
       "      <td>50</td>\n",
       "      <td>0</td>\n",
       "      <td>Between 25 and 45</td>\n",
       "    </tr>\n",
       "    <tr>\n",
       "      <th>4</th>\n",
       "      <td>11004</td>\n",
       "      <td>Elizabeth</td>\n",
       "      <td>Johnson</td>\n",
       "      <td>7553 Harness Circle</td>\n",
       "      <td>Wollongong</td>\n",
       "      <td>New South Wales</td>\n",
       "      <td>Australia</td>\n",
       "      <td>2500</td>\n",
       "      <td>1 (11) 500 555-0131</td>\n",
       "      <td>1968-08-08</td>\n",
       "      <td>...</td>\n",
       "      <td>F</td>\n",
       "      <td>S</td>\n",
       "      <td>1</td>\n",
       "      <td>4</td>\n",
       "      <td>5</td>\n",
       "      <td>5</td>\n",
       "      <td>92771</td>\n",
       "      <td>95</td>\n",
       "      <td>1</td>\n",
       "      <td>Between 25 and 45</td>\n",
       "    </tr>\n",
       "  </tbody>\n",
       "</table>\n",
       "<p>5 rows × 22 columns</p>\n",
       "</div>"
      ],
      "text/plain": [
       "   CustomerID  FirstName LastName         AddressLine1         City  \\\n",
       "0       11000        Jon     Yang      3761 N. 14th St  Rockhampton   \n",
       "1       11001     Eugene    Huang           2243 W St.      Seaford   \n",
       "2       11002      Ruben   Torres     5844 Linden Land       Hobart   \n",
       "3       11003    Christy      Zhu     1825 Village Pl.   North Ryde   \n",
       "4       11004  Elizabeth  Johnson  7553 Harness Circle   Wollongong   \n",
       "\n",
       "  StateProvinceName CountryRegionName PostalCode          PhoneNumber  \\\n",
       "0        Queensland         Australia       4700  1 (11) 500 555-0162   \n",
       "1          Victoria         Australia       3198  1 (11) 500 555-0110   \n",
       "2          Tasmania         Australia       7001  1 (11) 500 555-0184   \n",
       "3   New South Wales         Australia       2113  1 (11) 500 555-0162   \n",
       "4   New South Wales         Australia       2500  1 (11) 500 555-0131   \n",
       "\n",
       "    BirthDate        ...         Gender MaritalStatus HomeOwnerFlag  \\\n",
       "0  1966-04-08        ...              M             M             1   \n",
       "1  1965-05-14        ...              M             S             0   \n",
       "2  1965-08-12        ...              M             M             1   \n",
       "3  1968-02-15        ...              F             S             0   \n",
       "4  1968-08-08        ...              F             S             1   \n",
       "\n",
       "  NumberCarsOwned  NumberChildrenAtHome  TotalChildren  YearlyIncome  \\\n",
       "0               0                     0              2        137947   \n",
       "1               1                     3              3        101141   \n",
       "2               1                     3              3         91945   \n",
       "3               1                     0              0         86688   \n",
       "4               4                     5              5         92771   \n",
       "\n",
       "   AveMonthSpend  BikeBuyer     GroupCustomers  \n",
       "0             89          0  Between 25 and 45  \n",
       "1            117          1  Between 25 and 45  \n",
       "2            123          0  Between 25 and 45  \n",
       "3             50          0  Between 25 and 45  \n",
       "4             95          1  Between 25 and 45  \n",
       "\n",
       "[5 rows x 22 columns]"
      ]
     },
     "execution_count": 26,
     "metadata": {},
     "output_type": "execute_result"
    }
   ],
   "source": [
    "df4.head(5)"
   ]
  },
  {
   "cell_type": "code",
   "execution_count": 27,
   "metadata": {},
   "outputs": [
    {
     "name": "stdout",
     "output_type": "stream",
     "text": [
      "statement1\n"
     ]
    },
    {
     "data": {
      "text/plain": [
       "BikeBuyer\n",
       "0    65957\n",
       "1    96084\n",
       "Name: YearlyIncome, dtype: int64"
      ]
     },
     "execution_count": 27,
     "metadata": {},
     "output_type": "execute_result"
    }
   ],
   "source": [
    "print('statement1')\n",
    "\n",
    "df4.groupby(['BikeBuyer']).YearlyIncome.median()"
   ]
  },
  {
   "cell_type": "code",
   "execution_count": 28,
   "metadata": {},
   "outputs": [
    {
     "name": "stdout",
     "output_type": "stream",
     "text": [
      "statement2\n"
     ]
    },
    {
     "data": {
      "text/plain": [
       "BikeBuyer\n",
       "0    1\n",
       "1    2\n",
       "Name: NumberCarsOwned, dtype: int64"
      ]
     },
     "execution_count": 28,
     "metadata": {},
     "output_type": "execute_result"
    }
   ],
   "source": [
    "print('statement2')\n",
    "\n",
    "df4.groupby(['BikeBuyer']).NumberCarsOwned.median()"
   ]
  },
  {
   "cell_type": "code",
   "execution_count": 29,
   "metadata": {},
   "outputs": [
    {
     "name": "stdout",
     "output_type": "stream",
     "text": [
      "statement3\n"
     ]
    },
    {
     "data": {
      "text/plain": [
       "Occupation\n",
       "Clerical          2597\n",
       "Management        2718\n",
       "Manual            2129\n",
       "Professional      4922\n",
       "Skilled Manual    4038\n",
       "Name: BikeBuyer, dtype: int64"
      ]
     },
     "execution_count": 29,
     "metadata": {},
     "output_type": "execute_result"
    }
   ],
   "source": [
    "print('statement3')\n",
    "\n",
    "df4.groupby(['Occupation']).BikeBuyer.count()"
   ]
  },
  {
   "cell_type": "code",
   "execution_count": 30,
   "metadata": {},
   "outputs": [
    {
     "name": "stdout",
     "output_type": "stream",
     "text": [
      "statement4\n"
     ]
    },
    {
     "data": {
      "text/plain": [
       "Gender\n",
       "F    8114\n",
       "M    8290\n",
       "Name: BikeBuyer, dtype: int64"
      ]
     },
     "execution_count": 30,
     "metadata": {},
     "output_type": "execute_result"
    }
   ],
   "source": [
    "print('statement4')\n",
    "\n",
    "df4.groupby(['Gender']).BikeBuyer.count()"
   ]
  },
  {
   "cell_type": "code",
   "execution_count": 31,
   "metadata": {},
   "outputs": [
    {
     "name": "stdout",
     "output_type": "stream",
     "text": [
      "statement5\n"
     ]
    },
    {
     "data": {
      "text/plain": [
       "BikeBuyer  MaritalStatus\n",
       "0          M                6653\n",
       "           S                4296\n",
       "1          M                2199\n",
       "           S                3256\n",
       "Name: MaritalStatus, dtype: int64"
      ]
     },
     "execution_count": 31,
     "metadata": {},
     "output_type": "execute_result"
    }
   ],
   "source": [
    "print('statement5')\n",
    "\n",
    "df4.groupby(['BikeBuyer','MaritalStatus']).MaritalStatus.count()"
   ]
  },
  {
   "cell_type": "code",
   "execution_count": null,
   "metadata": {},
   "outputs": [],
   "source": []
  }
 ],
 "metadata": {
  "kernelspec": {
   "display_name": "Python 3.6",
   "language": "python",
   "name": "python36"
  },
  "language_info": {
   "codemirror_mode": {
    "name": "ipython",
    "version": 3
   },
   "file_extension": ".py",
   "mimetype": "text/x-python",
   "name": "python",
   "nbconvert_exporter": "python",
   "pygments_lexer": "ipython3",
   "version": "3.6.6"
  }
 },
 "nbformat": 4,
 "nbformat_minor": 2
}
